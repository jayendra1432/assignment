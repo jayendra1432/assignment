{
 "cells": [
  {
   "cell_type": "code",
   "execution_count": 1,
   "id": "bb24ca75-5f76-4f95-9cec-e151ae4bf82b",
   "metadata": {},
   "outputs": [
    {
     "name": "stdout",
     "output_type": "stream",
     "text": [
      "0\n",
      "2\n",
      "-1\n"
     ]
    }
   ],
   "source": [
    "##Question: 02\n",
    "\n",
    "\n",
    "def Uniqchar(s):\n",
    "    char_count = {}\n",
    "    for char in s:\n",
    "        char_count[char] = char_count.get(char, 0) + 1\n",
    "    for i in range(len(s)):\n",
    "        if char_count[s[i]] == 1:\n",
    "            return i\n",
    "    \n",
    "    return -1\n",
    "\n",
    "# Example:\n",
    "s = \"leetcode\"\n",
    "print(Uniqchar(s))\n",
    "\n",
    "\n",
    "s1 = \"loveleetcode\"\n",
    "print(Uniqchar(s1))\n",
    "\n",
    "s2 = \"aabb\"\n",
    "print(Uniqchar(s2))"
   ]
  },
  {
   "cell_type": "code",
   "execution_count": null,
   "id": "17a115a2-7df7-4ca8-9092-a890be8610e2",
   "metadata": {},
   "outputs": [],
   "source": []
  }
 ],
 "metadata": {
  "kernelspec": {
   "display_name": "Python 3 (ipykernel)",
   "language": "python",
   "name": "python3"
  },
  "language_info": {
   "codemirror_mode": {
    "name": "ipython",
    "version": 3
   },
   "file_extension": ".py",
   "mimetype": "text/x-python",
   "name": "python",
   "nbconvert_exporter": "python",
   "pygments_lexer": "ipython3",
   "version": "3.10.8"
  }
 },
 "nbformat": 4,
 "nbformat_minor": 5
}
