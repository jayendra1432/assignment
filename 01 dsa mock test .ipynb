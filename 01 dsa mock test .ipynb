{
 "cells": [
  {
   "cell_type": "code",
   "execution_count": 20,
   "id": "39c7b1c7-735f-4fb6-be73-8c8ae5e3c6ab",
   "metadata": {},
   "outputs": [
    {
     "name": "stdout",
     "output_type": "stream",
     "text": [
      "[0]\n",
      "[1, 3, 12, 0, 0]\n"
     ]
    }
   ],
   "source": [
    "##Question: 01:\n",
    "\n",
    "\n",
    "\n",
    "\n",
    "def moveZeroes(nums):\n",
    "    next_non_zero = 0\n",
    "    for i in range(len(nums)):\n",
    "        if nums[i] != 0:\n",
    "            nums[next_non_zero] = nums[i]\n",
    "            next_non_zero += 1\n",
    "    while next_non_zero < len(nums):\n",
    "        nums[next_non_zero] = 0\n",
    "        next_non_zero += 1\n",
    "\n",
    "# Example:\n",
    "nums = [0]\n",
    "moveZeroes(nums)\n",
    "print(nums)\n",
    "\n",
    "nums = [0,1,0,3,12]\n",
    "moveZeroes(nums)\n",
    "print(nums)"
   ]
  },
  {
   "cell_type": "code",
   "execution_count": 19,
   "id": "ae99384c-0b66-4e02-a080-2d721c328e90",
   "metadata": {},
   "outputs": [
    {
     "name": "stdout",
     "output_type": "stream",
     "text": [
      "0\n",
      "2\n",
      "-1\n"
     ]
    }
   ],
   "source": [
    "##Question: 02\n",
    "\n",
    "\n",
    "def Uniqchar(s):\n",
    "    char_count = {}\n",
    "    for char in s:\n",
    "        char_count[char] = char_count.get(char, 0) + 1\n",
    "    for i in range(len(s)):\n",
    "        if char_count[s[i]] == 1:\n",
    "            return i\n",
    "    \n",
    "    return -1\n",
    "\n",
    "# Example:\n",
    "s = \"leetcode\"\n",
    "print(Uniqchar(s))\n",
    "\n",
    "\n",
    "s1 = \"loveleetcode\"\n",
    "print(Uniqchar(s1))\n",
    "\n",
    "s2 = \"aabb\"\n",
    "print(Uniqchar(s2))"
   ]
  },
  {
   "cell_type": "code",
   "execution_count": null,
   "id": "c8c6753b-87f2-4ed6-9bea-dac9735693b9",
   "metadata": {},
   "outputs": [],
   "source": []
  }
 ],
 "metadata": {
  "kernelspec": {
   "display_name": "Python 3 (ipykernel)",
   "language": "python",
   "name": "python3"
  },
  "language_info": {
   "codemirror_mode": {
    "name": "ipython",
    "version": 3
   },
   "file_extension": ".py",
   "mimetype": "text/x-python",
   "name": "python",
   "nbconvert_exporter": "python",
   "pygments_lexer": "ipython3",
   "version": "3.10.8"
  }
 },
 "nbformat": 4,
 "nbformat_minor": 5
}
