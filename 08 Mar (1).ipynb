{
 "cells": [
  {
   "cell_type": "markdown",
   "id": "c1c2feac-f748-45bc-8faa-81cfac452e54",
   "metadata": {},
   "source": [
    "#Q1. What is the Probability density function?"
   ]
  },
  {
   "cell_type": "markdown",
   "id": "c551dc1e-f795-4035-bbd1-79b350ccc4e0",
   "metadata": {},
   "source": [
    "Ans1: The `Probability Density Function(PDF)` defines the probability function representing the density of a continuous random variable lying between a specific range of values. In other words, the probability density function produces the likelihood of values of the continuous random variable"
   ]
  },
  {
   "cell_type": "markdown",
   "id": "d2485c2d-bbc3-4c5f-a259-eb3e225ce79f",
   "metadata": {},
   "source": [
    "#Q2. What are the types of Probability distribution?"
   ]
  },
  {
   "cell_type": "markdown",
   "id": "3ba5d861-c934-4393-9935-c1fe4f01efd7",
   "metadata": {},
   "source": [
    "Ans2: The types of Probablity distribution are:\n",
    "\n",
    "1. Normal / Gaussian Distribution (pdf)\n",
    "2. Bernoulli Distribution (pmf) --> 2 outcomes (sucess or failure)\n",
    "3. Uniform Distribution\n",
    "4. Log Normal Distribution (pdf)\n",
    "5. Poisson Distribution (pmf)\n",
    "6. Power Law Distribution (pdf) --> follows 80%-20% rule\n",
    "7. Binomial Distribution (pmf)"
   ]
  },
  {
   "cell_type": "markdown",
   "id": "053986fa-fd94-477b-a612-ab3889a165b8",
   "metadata": {},
   "source": [
    "#Q3. Write a Python function to calculate the probability density function of a normal distribution with\n",
    "given mean and standard deviation at a given point."
   ]
  },
  {
   "attachments": {
    "1056358c-fdc3-4178-aea1-df61f8c668c1.png": {
     "image/png": "[encoded data removed]"
    }
   },
   "cell_type": "markdown",
   "id": "8a3a13df-e151-4808-828d-edf3985bc0d7",
   "metadata": {},
   "source": [
    "Ans3:\n",
    "\n",
    "\n",
    "![image.png](attachment:1056358c-fdc3-4178-aea1-df61f8c668c1.png)\n",
    "\n",
    "\n",
    "Where \n",
    "\n",
    "μ = Mean\n",
    "\n",
    "σ = Standard deviation\n",
    "\n",
    "x = Normal random variable"
   ]
  },
  {
   "cell_type": "code",
   "execution_count": 5,
   "id": "4604a034-ff11-445f-8aa4-0c9cad993688",
   "metadata": {},
   "outputs": [
    {
     "data": {
      "text/plain": [
       "'The probablity density function for 2 with mean 1 and standard deviation of 2 is: 0.02699548325659403'"
      ]
     },
     "execution_count": 5,
     "metadata": {},
     "output_type": "execute_result"
    }
   ],
   "source": [
    "def pdf(x,mean,std_dev):\n",
    "    \"\"\"calculates the pdf using mean and standard deviation for a given point x\n",
    "    \n",
    "    \"\"\"\n",
    "    import math\n",
    "    var = (std_dev)*2\n",
    "    denominator = (2*math.pi*var)**0.5\n",
    "    numerator = math.exp(-((x)-(mean))**2/2*var)\n",
    "    return f\"The probablity density function for {x} with mean {mean} and standard deviation of {std_dev} is: {numerator/denominator}\"\n",
    "\n",
    "pdf(2,1,2)"
   ]
  },
  {
   "cell_type": "markdown",
   "id": "e7df9286-01e4-4c73-a6d5-c008cf42ea0f",
   "metadata": {},
   "source": [
    "#Q4. What are the properties of Binomial distribution? Give two examples of events where binomial\n",
    "distribution can be applied."
   ]
  },
  {
   "cell_type": "markdown",
   "id": "c917331b-275f-40c9-871f-8b941c1f18d2",
   "metadata": {},
   "source": [
    "Ans4:\n",
    "\n",
    "\n",
    "The properties of the binomial distribution are:\n",
    "\n",
    "1. There are two possible outcomes: true or false, success or failure, yes or no.\n",
    "2. There is ‘n’ number of independent trials or a fixed number of n times repeated trials.\n",
    "3. The probability of success or failure remains the same for each trial.\n",
    "4. Only the number of success is calculated out of n independent trials.\n",
    "5. Every trial is an independent trial, which means the outcome of one trial does not affect the outcome of another trial.\n",
    "\n",
    "Examples of Binomial Distribution\n",
    "1. `Testing a Drug`\n",
    "The binomial distribution is prominently used in the field of drugs and medicine. Whenever a new drug is invented to cure a particular disease, the effectiveness of the drug can be represented by two outcomes, i.e., whether the drug cures the disease or it does not. Also, the side effects of the drug can be measured in a similar manner. Either the drug causes side effects or it does not. Since the experiment has two possible results, i.e., success and failure, it can be represented with the help of binomial distribution.\n",
    "\n",
    "2. `Number of Spam Emails Received`\n",
    "The prediction of the number of spam emails received by a person is one of the prominent examples of a binomial distribution. This is because an email has two possibilities, i.e., either it can be a spam e-mail or not.\n",
    "\n",
    "3. `Participating in a Lucky Draw`\n",
    "If you participate in a lucky draw contest, there exist two possible outcomes, i.e., you either win the contest or lose the contest. Hence, one can easily express the probability of such an event as success or failure with the help of binomial distribution.\n",
    "\n",
    "4. `Estimate the Number of Fraudulent Transactions`\n",
    "Banks often make use of binomial distribution to estimate the chances that a particular credit card transaction is fraudulent or not. The total number of fraudulent transactions occurring in a particular area is recorded and fed as information or data to the binomial distribution calculator. The binomial distribution further helps to predict the number of fraud cases that might occur on the following day or in the future.\n",
    "\n",
    "5. `Number of Returns`\n",
    "When a person shops for a product, he/she is often provided with a choice of returning the product within the given time duration. The probability that the person will return the product can be represented with the help of binomial distribution. It helps the shopkeeper estimate the number of order returns received by the firm in the near future.\n",
    "\n",
    "6. `Participating in an Election`\n",
    "If you participate in an election, the probability is that you can either win the election or lose the election. Hence, the event can be easily represented with the help of a binomial distribution. A binomial distribution calculator can also be used to calculate the chances of a particular political party winning or losing an election provided the previous record of the party winning or losing the elections is already known."
   ]
  },
  {
   "cell_type": "markdown",
   "id": "dce024ce-d245-450b-93c9-b5acc8c46e3c",
   "metadata": {},
   "source": [
    "#Q5. Generate a random sample of size 1000 from a binomial distribution with probability of success 0.4\n",
    "and plot a histogram of the results using matplotlib."
   ]
  },
  {
   "cell_type": "code",
   "execution_count": 6,
   "id": "3b313a5b-d9b2-4c90-90f9-21557ed8bfcd",
   "metadata": {},
   "outputs": [
    {
     "data": {
      "text/plain": [
       "Text(0.5, 0, 'x values')"
      ]
     },
     "execution_count": 6,
     "metadata": {},
     "output_type": "execute_result"
    },
    {
     "data": {
      "image/png": "[encoded data removed]",
      "text/plain": [
       "<Figure size 640x480 with 1 Axes>"
      ]
     },
     "metadata": {},
     "output_type": "display_data"
    }
   ],
   "source": [
    "import numpy as np\n",
    "import matplotlib.pyplot as plt\n",
    "x = np.random.binomial(n=10,p=0.4,size=1000) # drawing a random sample of 1000 with probability of 40% and a hypothetical number of trials n = 10\n",
    "#plotting x\n",
    "plt.hist(x)\n",
    "plt.title(\"Binomial Distribution of x\")\n",
    "plt.xlabel(\"x values\")"
   ]
  },
  {
   "cell_type": "markdown",
   "id": "3d1dcc6a-4dbe-4485-aeda-5aee96bd308e",
   "metadata": {},
   "source": [
    "#Q6. Write a Python function to calculate the cumulative distribution function of a Poisson distribution\n",
    "with given mean at a given point."
   ]
  },
  {
   "attachments": {
    "2d6f33c5-cb42-4f14-a462-a6d4f4c8143a.png": {
     "image/png": "[encoded data removed]"
    }
   },
   "cell_type": "markdown",
   "id": "7b556f5f-2f82-4af7-a864-66e5e4224c86",
   "metadata": {},
   "source": [
    "Ans6:\n",
    "\n",
    "![Screenshot (106).png](attachment:2d6f33c5-cb42-4f14-a462-a6d4f4c8143a.png)\n",
    "\n",
    "where:\n",
    "\n",
    "- λ is a real positive number given by λ=E(X)=μ\n",
    "- k is the number of occurrences\n",
    "- e=2.71828"
   ]
  },
  {
   "cell_type": "code",
   "execution_count": 7,
   "id": "4717bb05-a6a8-44e2-aa3e-b86c43fc050f",
   "metadata": {},
   "outputs": [
    {
     "name": "stdout",
     "output_type": "stream",
     "text": [
      "k-value 0 has probability = 0.001\n",
      "k-value 1 has probability = 0.007\n",
      "k-value 2 has probability = 0.03\n",
      "k-value 3 has probability = 0.082\n",
      "k-value 4 has probability = 0.173\n",
      "k-value 5 has probability = 0.301\n",
      "k-value 6 has probability = 0.45\n",
      "k-value 7 has probability = 0.599\n",
      "k-value 8 has probability = 0.729\n",
      "k-value 9 has probability = 0.83\n",
      "k-value 10 has probability = 0.901\n",
      "k-value 11 has probability = 0.947\n",
      "k-value 12 has probability = 0.973\n",
      "k-value 13 has probability = 0.987\n",
      "k-value 14 has probability = 0.994\n",
      "k-value 15 has probability = 0.998\n",
      "k-value 16 has probability = 0.999\n"
     ]
    },
    {
     "data": {
      "image/png": "[encoded data removed]",
      "text/plain": [
       "<Figure size 640x480 with 1 Axes>"
      ]
     },
     "metadata": {},
     "output_type": "display_data"
    }
   ],
   "source": [
    "#Ans6:\n",
    "def poison_cum(k,mean):\n",
    "    \"\"\"Takes the a given value of k and mean calculates a cumulative distribution function for a Poisson distribution and also plots a graph\n",
    "    \n",
    "    \"\"\"\n",
    "    import numpy as np\n",
    "    import matplotlib.pyplot as plt\n",
    "    from scipy.stats import poisson\n",
    "    k = np.arange(0, k) #generates an array for k occurances \n",
    "    cdf = poisson.cdf(k, mu=mean) #cdf for given k and mean\n",
    "    cdf = np.round(cdf, 3)\n",
    "   \n",
    "    for val, prob in zip(k,cdf):\n",
    "        print(f\"k-value {val} has probability = {prob}\")\n",
    "        \n",
    "    plt.plot(k, cdf, marker='o')\n",
    "    plt.xlabel('k')\n",
    "    plt.ylabel('Cumulative Probability')\n",
    "    plt.show()\n",
    "\n",
    "poison_cum(17,7)"
   ]
  },
  {
   "cell_type": "markdown",
   "id": "99b11df6-315b-41e5-b7a5-0fc026f992b5",
   "metadata": {},
   "source": [
    "#Q7. How Binomial distribution different from Poisson distribution?"
   ]
  },
  {
   "cell_type": "markdown",
   "id": "645a44e5-09a6-4e9d-bb0f-0189ca21cdda",
   "metadata": {},
   "source": [
    "Ans7:\n",
    "\n",
    "|BASIS FOR COMPARISON\t|BINOMIAL DISTRIBUTION\t|POISSON DISTRIBUTION|\n",
    "|-----------------------|-----------------------|--------------------|\n",
    "|Meaning\t|Binomial distribution is one in which the probability of repeated number of trials are studied.\t|Poisson Distribution gives the count of independent events occur randomly with a given period of time.|\n",
    "|Nature\t|Biparametric\t|Uniparametric|\n",
    "|Number of trials\t|Fixed\t|Infinite|\n",
    "|Success\t|Constant probability\t|Infinitesimal chance of success|\n",
    "|Outcomes\t|Only two possible outcomes, i.e. success or failure.\t|Unlimited number of possible outcomes.|\n",
    "|Mean and Variance\t|Mean > Variance\t|Mean = Variance|\n",
    "|Example\t|Coin tossing experiment.\t|Printing mistakes/page of a large book.|"
   ]
  },
  {
   "cell_type": "markdown",
   "id": "6046395e-0e78-46c3-8598-d09ee2e642a4",
   "metadata": {},
   "source": [
    "#Q8. Generate a random sample of size 1000 from a Poisson distribution with mean 5 and calculate the\n",
    "sample mean and variance."
   ]
  },
  {
   "cell_type": "code",
   "execution_count": 8,
   "id": "b0f35f95-2ccd-4f6d-9939-b0fd511de33b",
   "metadata": {},
   "outputs": [
    {
     "name": "stdout",
     "output_type": "stream",
     "text": [
      "The sample mean for x is: 5.066\n",
      "The sample variance for x is: 5.055644\n"
     ]
    }
   ],
   "source": [
    "# importing numpy as np\n",
    "import numpy as np\n",
    "x = np.random.poisson(lam = 5, size=1000)\n",
    "print(\"The sample mean for x is:\",x.mean())\n",
    "print(\"The sample variance for x is:\",x.var())"
   ]
  },
  {
   "cell_type": "markdown",
   "id": "fd3da172-f39d-4e7a-8af5-e8371efbd2d4",
   "metadata": {},
   "source": [
    "#Q9. How mean and variance are related in Binomial distribution and Poisson distribution?"
   ]
  },
  {
   "cell_type": "markdown",
   "id": "28e9d296-1d97-4b1d-a2e0-dbdeb6bac943",
   "metadata": {},
   "source": [
    "Ans9:\n",
    "\n",
    "The mean and the variance of the Poisson distribution are the same, which is equal to the average number of successes that occur in the given interval of time."
   ]
  },
  {
   "cell_type": "markdown",
   "id": "2d16225a-6ea6-4c9a-bb7e-9be7e666f9c2",
   "metadata": {},
   "source": [
    "#Q10. In normal distribution with respect to mean position, where does the least frequent data appear?"
   ]
  },
  {
   "cell_type": "markdown",
   "id": "f0d28959-ec2c-48c2-9b4e-4c452d50b160",
   "metadata": {},
   "source": [
    "For the Normal distribution:\n",
    "- Pr(μ−σ≤X≤μ+σ)=0.6827\n",
    "- Pr(μ−2σ≤X≤μ+2σ)=0.9545\n",
    "- Pr(μ−3σ≤X≤μ+3σ)=0.9973\n",
    "\n",
    "Therefore the least frequent data appears outside mean +/- 3(standard deviations)"
   ]
  },
  {
   "cell_type": "code",
   "execution_count": null,
   "id": "021e4b7b-3aa2-4fb0-9774-506d4a149df5",
   "metadata": {},
   "outputs": [],
   "source": []
  },
  {
   "cell_type": "code",
   "execution_count": null,
   "id": "7480f11a-86bc-48d0-b448-c0e1988252af",
   "metadata": {},
   "outputs": [],
   "source": []
  }
 ],
 "metadata": {
  "kernelspec": {
   "display_name": "Python 3 (ipykernel)",
   "language": "python",
   "name": "python3"
  },
  "language_info": {
   "codemirror_mode": {
    "name": "ipython",
    "version": 3
   },
   "file_extension": ".py",
   "mimetype": "text/x-python",
   "name": "python",
   "nbconvert_exporter": "python",
   "pygments_lexer": "ipython3",
   "version": "3.10.8"
  }
 },
 "nbformat": 4,
 "nbformat_minor": 5
}
