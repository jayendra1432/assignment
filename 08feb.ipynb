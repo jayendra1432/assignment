{
 "cells": [
  {
   "cell_type": "code",
   "execution_count": 5,
   "id": "ed7f51ec-e995-4583-ba71-ed306c2a3a42",
   "metadata": {},
   "outputs": [
    {
     "name": "stdout",
     "output_type": "stream",
     "text": [
      "Buddy is sleeping.\n",
      "Dog barks.\n",
      "Whiskers is sleeping.\n",
      "Cat meows.\n"
     ]
    }
   ],
   "source": [
    "#Q1. What is Abstraction in OOps? Explain with an example.\n",
    "#Answer:-- Abstraction is a fundamental concept in object-oriented programming (OOP) that allows us to represent complex systems by simplifying and focusing on the essential aspects. It involves hiding the internal details and complexities of an object and exposing only the relevant information or functionality to the outside world.\n",
    "        #In OOP, abstraction is achieved through the use of abstract classes and interfaces. An abstract class serves as a blueprint for derived classes, providing a common interface and defining abstract methods that must be implemented by the derived classes. On the other hand, an interface defines a contract that specifies a set of methods that a class must implement.\n",
    "from abc import ABC, abstractmethod\n",
    "\n",
    "class Animal(ABC):\n",
    "    def __init__(self, name):\n",
    "        self.name = name\n",
    "\n",
    "    @abstractmethod\n",
    "    def make_sound(self):\n",
    "        pass\n",
    "\n",
    "    def sleep(self):\n",
    "        print(f\"{self.name} is sleeping.\")\n",
    "\n",
    "class Dog(Animal):\n",
    "    def make_sound(self):\n",
    "        print(\"Dog barks.\")\n",
    "\n",
    "class Cat(Animal):\n",
    "    def make_sound(self):\n",
    "        print(\"Cat meows.\")\n",
    "\n",
    "# Creating instances of the derived classes\n",
    "dog = Dog(\"Buddy\")\n",
    "cat = Cat(\"Whiskers\")\n",
    "\n",
    "# Calling the common method and the abstract method\n",
    "dog.sleep()\n",
    "dog.make_sound()\n",
    "\n",
    "cat.sleep()\n",
    "cat.make_sound()\n",
    "\n",
    "\n"
   ]
  },
  {
   "cell_type": "code",
   "execution_count": 6,
   "id": "003ed86c-d325-454a-9183-ee10ff34098a",
   "metadata": {},
   "outputs": [],
   "source": [
    "#Q2. Differentiate between Abstraction and Encapsulation. Explain with an example.\n",
    "#Answer:-- Abstraction and encapsulation are two important concepts in object-oriented programming, but they serve different purposes and have distinct characteristics. Let's differentiate between abstraction and encapsulation and provide examples for better understanding:\n",
    "\n",
    "# Abstraction:1.Abstraction is the process of hiding unnecessary details and presenting only the essential features or behavior of an object.\n",
    "#            2.It focuses on defining a clear interface or contract for interacting with objects, without exposing their internal implementation.\n",
    "#            3.Abstraction allows us to work with complex systems at a higher level of understanding, by filtering out irrelevant details.\n",
    "#            4.It is achieved using abstract classes or interfaces, which define common methods that must be implemented by the classes that inherit from them.\n",
    "#Example: Consider a Shape abstraction. We can have different concrete classes like Circle, Rectangle, and Triangle that inherit from the Shape abstraction. The Shape abstraction defines common methods like area() and perimeter(), while each concrete class provides its own implementation for these methods. With this abstraction, we can work with shapes without needing to know the specific details of how each shape calculates its area or perimeter.\n",
    "\n",
    "\n",
    "#Encapsulation:  1.Encapsulation is the practice of bundling data and the methods that operate on that data into a single unit, called a class.\n",
    " #               2.It focuses on hiding the internal state of an object and allowing access to it only through well-defined methods (getters and setters).\n",
    " #               3.Encapsulation ensures data integrity and provides control over how the data is accessed and modified.\n",
    " #               4.It allows for better maintainability and flexibility, as the internal representation of an object can be changed without affecting other parts of the program.\n",
    "#Example: Consider a Person class that encapsulates data like name, age, and address. The class provides getter methods like get_name() and get_age() to retrieve the values of these attributes, and setter methods like set_address() to modify the address. By encapsulating the data and providing controlled access through methods, we can enforce validation rules, perform necessary computations, or apply access restrictions, ensuring the integrity and proper usage of the data."
   ]
  },
  {
   "cell_type": "code",
   "execution_count": 7,
   "id": "ee3af4e0-e926-4b3c-a7a8-082568b76ff8",
   "metadata": {},
   "outputs": [],
   "source": [
    "#Q3. What is abc module in python? Why is it used?\n",
    "#Answer:-- The abc module in Python stands for \"Abstract Base Classes.\" It provides infrastructure for defining abstract base classes, which are classes that cannot be instantiated directly but serve as a template for other classes to inherit from. Abstract base classes define a common interface and can contain abstract methods that must be implemented by their derived classes.\n",
    "        #1. Defining abstract base classes: The abc module provides the ABC class, which is meant to be subclassed by abstract base classes. By inheriting from ABC, a class becomes an abstract base class, indicating that it cannot be instantiated directly. Abstract base classes are used to define common interfaces and provide a structure for derived classes.\n",
    "        #2.Defining abstract methods: Abstract methods are methods declared in an abstract base class that have no implementation. They serve as placeholders, and derived classes are required to provide their own implementation for these methods. The abc module provides the abstractmethod decorator, which is used to mark a method as abstract. Any class inheriting from an abstract base class with abstract methods must implement those methods.\n",
    "        \n",
    "        "
   ]
  },
  {
   "cell_type": "code",
   "execution_count": 8,
   "id": "16bd8327-f197-464e-87aa-464c8850fe0c",
   "metadata": {},
   "outputs": [],
   "source": [
    "#Q4. How can we achieve data abstraction?\n",
    "#Answer:--- Data abstraction in Python can be achieved through the use of classes and objects. Here are the steps to achieve data abstraction:-\n",
    "\n",
    "#1.Define a Class: Create a class that represents the abstract entity or concept you want to work with. The class should encapsulate the data and provide methods to interact with that data.\n",
    "#2.Hide Implementation Details: Encapsulate the internal data of the class by making it private or using naming conventions to indicate that it should not be accessed directly. This hides the implementation details and allows controlled access to the data.\n",
    "#3.Provide Public Methods: Define public methods in the class that provide an interface to interact with the data. These methods should expose the necessary functionality and hide the internal details of how the data is stored or manipulated.\n",
    "#4.Access the Data through Methods: Access and modify the data using the public methods provided by the class. This ensures that the data is accessed and modified in a controlled manner, allowing for validation, computations, or any other necessary operations."
   ]
  },
  {
   "cell_type": "code",
   "execution_count": 9,
   "id": "21ada8e5-71eb-48d4-970f-78328d5eee21",
   "metadata": {},
   "outputs": [],
   "source": [
    "#Q5. Can we create an instance of an abstract class? Explain your answer.\n",
    "#Answer:--- No, we cannot create an instance of an abstract class in Python. An abstract class is designed to serve as a blueprint or template for other classes to inherit from, but it cannot be instantiated directly.\n",
    "\n",
    "    #Here are the reasons why we cannot create an instance of an abstract class:\n",
    "\n",
    "    #1.Incomplete Implementation: Abstract classes contain one or more abstract methods, which are declared but do not have an implementation. These methods serve as placeholders and must be implemented by the concrete (derived) classes that inherit from the abstract class. Since the abstract class itself has incomplete implementation, it cannot be instantiated.\n",
    "    #2.Abstractness and Interface Definition: Abstract classes are meant to define a common interface and behavior for a group of related classes. They provide a contract that derived classes must adhere to. Instantiating an abstract class directly would mean creating an object that does not fully implement the defined interface, which violates the purpose of abstraction.\n",
    "    #3.Abstract Base Class (ABC) Designation: In Python, abstract classes are typically created by subclassing the ABC class from the abc module. By inheriting from ABC, a class becomes an abstract base class, indicating its intention to be used as a template for derived classes. The ABC class itself has special mechanisms to prevent direct instantiation."
   ]
  },
  {
   "cell_type": "code",
   "execution_count": null,
   "id": "57925f26-2ba1-46fe-ba4a-2f780cce21a8",
   "metadata": {},
   "outputs": [],
   "source": []
  }
 ],
 "metadata": {
  "kernelspec": {
   "display_name": "Python 3 (ipykernel)",
   "language": "python",
   "name": "python3"
  },
  "language_info": {
   "codemirror_mode": {
    "name": "ipython",
    "version": 3
   },
   "file_extension": ".py",
   "mimetype": "text/x-python",
   "name": "python",
   "nbconvert_exporter": "python",
   "pygments_lexer": "ipython3",
   "version": "3.10.8"
  }
 },
 "nbformat": 4,
 "nbformat_minor": 5
}
