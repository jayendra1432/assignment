{
 "cells": [
  {
   "cell_type": "code",
   "execution_count": 3,
   "id": "41993ec7-6ad3-407b-b930-ef8942f442ce",
   "metadata": {},
   "outputs": [
    {
     "name": "stdout",
     "output_type": "stream",
     "text": [
      "Name of Vehicle: Car\n",
      "Max Speed: 200\n",
      "Average of Vehicle: 30\n"
     ]
    }
   ],
   "source": [
    "#Q1. Create a vehicle class with an init method having instance variables as name_of_vehicle, max_speed and average_of_vehicle.\n",
    "#Anser:- \n",
    "class Vehicle:\n",
    "    def __init__(self, name_of_vehicle, max_speed, average_of_vehicle):\n",
    "        self.name_of_vehicle = name_of_vehicle\n",
    "        self.max_speed = max_speed\n",
    "        self.average_of_vehicle = average_of_vehicle\n",
    "\n",
    "\n",
    "# Creating an instance of the Vehicle class\n",
    "car = Vehicle(\"Car\", 200, 30)\n",
    "\n",
    "# Accessing the instance variables\n",
    "print(\"Name of Vehicle:\", car.name_of_vehicle)\n",
    "print(\"Max Speed:\", car.max_speed)\n",
    "print(\"Average of Vehicle:\", car.average_of_vehicle)\n"
   ]
  },
  {
   "cell_type": "code",
   "execution_count": 11,
   "id": "6f6bb637-c631-4121-9e1f-3234b70fe1b8",
   "metadata": {},
   "outputs": [
    {
     "name": "stdout",
     "output_type": "stream",
     "text": [
      "Name of Vehicle: Sedan\n",
      "Max Speed: 180\n",
      "Average of Vehicle: 4\n",
      "Sedan has a seating capacity of 5 passengers.\n"
     ]
    }
   ],
   "source": [
    "#Q2. Create a child class car from the vehicle class created in Que 1, which will inherit the vehicle class. Create a method named seating_capacity which takes capacity as an argument and returns the name of the vehicle and its seating capacity.\n",
    "\n",
    "#Answer:-- \n",
    "class Car(Vehicle):\n",
    "    def seating_capacity(self, capacity):\n",
    "        return f\"{self.name_of_vehicle} has a seating capacity of {capacity} passengers.\"\n",
    "\n",
    "\n",
    "# Creating an instance of the Car class\n",
    "car = Car(\"Sedan\", 180, 4)\n",
    "\n",
    "# Accessing inherited instance variables\n",
    "print(\"Name of Vehicle:\", car.name_of_vehicle)\n",
    "print(\"Max Speed:\", car.max_speed)\n",
    "print(\"Average of Vehicle:\", car.average_of_vehicle)\n",
    "\n",
    "# Calling the method specific to the Car class\n",
    "print(car.seating_capacity(5))\n",
    "\n",
    "\n",
    "\n",
    "\n",
    "\n"
   ]
  },
  {
   "cell_type": "code",
   "execution_count": 12,
   "id": "1552c574-cc54-44fa-b809-8a38dc0ab0b8",
   "metadata": {},
   "outputs": [
    {
     "name": "stdout",
     "output_type": "stream",
     "text": [
      "Name: Buddy\n",
      "Dog barks.\n",
      "Mammal runs.\n"
     ]
    }
   ],
   "source": [
    "#Q3. What is multiple inheritance? Write a python code to demonstrate multiple inheritance.\n",
    "#Answer:-Multiple inheritance is a feature in object-oriented programming where a class can inherit attributes and methods from multiple parent classes. In other words, a class can inherit from more than one parent class.\n",
    "\n",
    "class Animal:\n",
    "    def __init__(self, name):\n",
    "        self.name = name\n",
    "\n",
    "    def speak(self):\n",
    "        print(\"Animal speaks.\")\n",
    "\n",
    "\n",
    "class Mammal:\n",
    "    def run(self):\n",
    "        print(\"Mammal runs.\")\n",
    "\n",
    "\n",
    "class Dog(Animal, Mammal):\n",
    "    def __init__(self, name):\n",
    "        # Call the __init__ methods of both parent classes\n",
    "        Animal.__init__(self, name)\n",
    "        Mammal.__init__(self)\n",
    "\n",
    "    def speak(self):\n",
    "        print(\"Dog barks.\")\n",
    "\n",
    "\n",
    "# Create an instance of the Dog class\n",
    "dog = Dog(\"Buddy\")\n",
    "\n",
    "# Access attributes and methods from both parent classes\n",
    "print(\"Name:\", dog.name)\n",
    "dog.speak()\n",
    "dog.run()\n"
   ]
  },
  {
   "cell_type": "code",
   "execution_count": 13,
   "id": "2bb149a7-cfc4-46d4-93df-fd5dcdb78eb8",
   "metadata": {},
   "outputs": [
    {
     "name": "stdout",
     "output_type": "stream",
     "text": [
      "Name: jayendra\n",
      "Updated Name: jst\n"
     ]
    }
   ],
   "source": [
    "#Q4. What are getter and setter in python? Create a class and create a getter and a setter method in this class.\n",
    "#Anser:- In Python, getter and setter methods are used to access and modify the values of private instance variables of a class. They provide a way to encapsulate the access to instance variables and apply validation or additional logic if needed.v A getter method is used to retrieve the value of an instance variable, while a setter method is used to set or modify the value of an instance variable.\n",
    "\n",
    "class Person:\n",
    "    def __init__(self, name):\n",
    "        self._name = name  # Private instance variable\n",
    "\n",
    "    def get_name(self):\n",
    "        return self._name\n",
    "\n",
    "    def set_name(self, name):\n",
    "        self._name = name\n",
    "\n",
    "\n",
    "# Creating an instance of the Person class\n",
    "person = Person(\"jayendra\")\n",
    "\n",
    "# Using the getter method to retrieve the name\n",
    "print(\"Name:\", person.get_name())\n",
    "\n",
    "# Using the setter method to change the name\n",
    "person.set_name(\"jst\")\n",
    "\n",
    "# Using the getter method again to retrieve the updated name\n",
    "print(\"Updated Name:\", person.get_name())\n"
   ]
  },
  {
   "cell_type": "code",
   "execution_count": 14,
   "id": "54819003-c5db-4b41-b420-3709f6ffc1b9",
   "metadata": {},
   "outputs": [
    {
     "name": "stdout",
     "output_type": "stream",
     "text": [
      "Animal makes a sound.\n",
      "Dog barks.\n"
     ]
    }
   ],
   "source": [
    "#Q5.What is method overriding in python? Write a python code to demonstrate method overriding.\n",
    "#Answer:- Method overriding is a feature in object-oriented programming where a subclass provides a different implementation of a method that is already defined in its parent class. The overridden method in the subclass has the same name, parameters, and return type as the method in the parent class.\n",
    "\n",
    "class Animal:\n",
    "    def make_sound(self):\n",
    "        print(\"Animal makes a sound.\")\n",
    "\n",
    "\n",
    "class Dog(Animal):\n",
    "    def make_sound(self):\n",
    "        print(\"Dog barks.\")\n",
    "\n",
    "\n",
    "# Create instances of both classes\n",
    "animal = Animal()\n",
    "dog = Dog()\n",
    "\n",
    "# Call the make_sound method of the Animal class\n",
    "animal.make_sound()\n",
    "\n",
    "# Call the make_sound method of the Dog class\n",
    "dog.make_sound()\n"
   ]
  },
  {
   "cell_type": "code",
   "execution_count": null,
   "id": "6f63dce8-b892-422b-940e-c4ad97e7929a",
   "metadata": {},
   "outputs": [],
   "source": []
  }
 ],
 "metadata": {
  "kernelspec": {
   "display_name": "Python 3 (ipykernel)",
   "language": "python",
   "name": "python3"
  },
  "language_info": {
   "codemirror_mode": {
    "name": "ipython",
    "version": 3
   },
   "file_extension": ".py",
   "mimetype": "text/x-python",
   "name": "python",
   "nbconvert_exporter": "python",
   "pygments_lexer": "ipython3",
   "version": "3.10.8"
  }
 },
 "nbformat": 4,
 "nbformat_minor": 5
}
