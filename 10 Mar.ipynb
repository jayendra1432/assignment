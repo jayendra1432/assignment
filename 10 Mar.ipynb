{
 "cells": [
  {
   "cell_type": "markdown",
   "metadata": {},
   "source": [
    "##Q1: What is Estimation Statistics? Explain point estimate and interval estimate."
   ]
  },
  {
   "cell_type": "markdown",
   "metadata": {},
   "source": [
    "Ans1: Estimation statistics uses a specified observable numerical value to estimate an unknown population parameter\n",
    "\n",
    "- Point estimate is a single numerical value which is used to estimate an unkown population parameter Eg: Population mean\n",
    "- Interval estimates are a range of values used to estimate an unknown population parameter Eg: Confidence interval"
   ]
  },
  {
   "cell_type": "markdown",
   "metadata": {},
   "source": [
    "##Q2. Write a Python function to estimate the population mean using a sample mean and standard\n",
    "deviation."
   ]
  },
  {
   "cell_type": "markdown",
   "metadata": {},
   "source": [
    "The population mean can be estimated by using sample mean as point estimate and standard deviation (which denotes the distribution of data around the mean) as confidence intervals. If suffecinetly large samples are taken then as per central limit theorem the sample mean will be closer to the population mean"
   ]
  },
  {
   "cell_type": "code",
   "execution_count": 25,
   "metadata": {},
   "outputs": [
    {
     "name": "stdout",
     "output_type": "stream",
     "text": [
      "The poulation mean is 4 +/- 2 with 95% confidence levels\n"
     ]
    }
   ],
   "source": [
    "def population_mean(x,sd): \n",
    "    print(f\"The poulation mean is {x} +/- {2*sd} with 95% confidence levels\")\n",
    "population_mean(4,1) #sample mean of 4 and standard deviation of 1"
   ]
  },
  {
   "cell_type": "markdown",
   "metadata": {},
   "source": [
    "##Q3: What is Hypothesis testing? Why is it used? State the importance of Hypothesis testing."
   ]
  },
  {
   "cell_type": "markdown",
   "metadata": {},
   "source": [
    "`Hypothesis testing` is used to assess the plausibility of a hypothesis by using sample data. The statistical test provides evidence concerning the plausibility of the hypothesis, given the data. Statistical analysts test a hypothesis by measuring and examining a random sample of the population being analyzed.\n",
    "\n",
    "Hypothesis testing is one of the most important concepts in statistics because it is how you decide if something really happened, or if certain treatments have positive effects, or if groups differ from each other or if one variable predicts another. In short, you want to proof if your data is statistically significant and unlikely to have occurred by chance alone. In essence then, a hypothesis test is a test of significance."
   ]
  },
  {
   "cell_type": "markdown",
   "metadata": {},
   "source": [
    "##Q4. Create a hypothesis that states whether the average weight of male college students is greater than\n",
    "the average weight of female college students."
   ]
  },
  {
   "cell_type": "markdown",
   "metadata": {},
   "source": [
    "- Null Hypothesis (H0) : The average weight of male college students = The average weight of female college students<br>\n",
    "- Alternate Hypothesis (Ha) : The average weight of male college students > The average weight of female college students"
   ]
  },
  {
   "cell_type": "markdown",
   "metadata": {},
   "source": [
    "##Q5. Write a Python script to conduct a hypothesis test on the difference between two population means,\n",
    "given a sample from each population.\n",
    "\n",
    "&\n",
    "\n",
    "##Q10. Write a Python program to calculate the two-sample t-test for independent samples, given two\n",
    "random samples of equal size and a null hypothesis that the population means are equal."
   ]
  },
  {
   "cell_type": "markdown",
   "metadata": {},
   "source": [
    "Ans for Q5 and Q10: Since the population standard deviation is not known we have to use 2 sample T-test. \n",
    "\n",
    "This test has another name as the independent samples t-test. It is basically used to check whether the unknown population means of given pair of groups are equal. tt allows one to test the null hypothesis that the means of two groups are equal\n",
    "\n",
    "`Assumptions`\n",
    "Before conducting the two-sample t-test using Python let us discuss the assumptions of this parametric test. Basically, there are three assumptions that we can make regarding the data groups:\n",
    "\n",
    "1. Whether the two samples data groups are independent.\n",
    "2. Whether the data elements in respective groups follow any normal distribution.\n",
    "3. Whether the given two samples have similar variances. This assumption is also known as the homogeneity assumption.\n",
    "Note that even if our data groups don’t follow the three assumptions discussed above. This is because there is an alternate test present if our data do not fall in the normal distribution or we can transform the dependent data group using different techniques like square root, log, etc\n",
    "\n",
    "Hypothesis:\n",
    "\n",
    "H0: Means of the two samples are equal and therefore the corresponding population means are equal<br>\n",
    "HA: Means of the two samples are not equal and therefore the corresponding population means are not equal<br>\n",
    "confidence interval : 95%<br>\n",
    "alpha : 0.05<br>"
   ]
  },
  {
   "cell_type": "code",
   "execution_count": 13,
   "metadata": {},
   "outputs": [
    {
     "name": "stdout",
     "output_type": "stream",
     "text": [
      "Mean for sample 1 is: 15.15 \n",
      "Mean for sample 2 is: 15.8\n"
     ]
    }
   ],
   "source": [
    "# Creating data groups\n",
    "import numpy as np\n",
    "data_group1 = np.array([14, 15, 15, 16, 13, 8, 14,\n",
    "                        17, 16, 14, 19, 20, 21, 15,\n",
    "                        15, 16, 16, 13, 14, 12])\n",
    " \n",
    "data_group2 = np.array([15, 17, 14, 17, 14, 8, 12,\n",
    "                        19, 19, 14, 17, 22, 24, 16,\n",
    "                        13, 16, 13, 18, 15, 13])\n",
    "print(\"Mean for sample 1 is:\",data_group1.mean(),\"\\n\"\n",
    "      \"Mean for sample 2 is:\",data_group2.mean())"
   ]
  },
  {
   "cell_type": "code",
   "execution_count": 24,
   "metadata": {},
   "outputs": [
    {
     "name": "stdout",
     "output_type": "stream",
     "text": [
      "failed to reject null hypothesis as pvalue 0.5300471010405257 >= 0.05\n",
      "Inference: The means are equal\n"
     ]
    }
   ],
   "source": [
    "def ttest_ind(a,b):\n",
    "    \"\"\"Python program to demonstrate how to\n",
    "    perform two sample T-test for arrays a and b\n",
    "    returns p-value and \n",
    "    \"\"\"\n",
    "    alpha = 0.05 #defining alpha\n",
    "\n",
    "    # Import the library\n",
    "    import scipy.stats as stats\n",
    "    import numpy as np\n",
    "    \n",
    "    # Perform the two sample t-test with equal variances\n",
    "    stat, p_val = stats.ttest_ind(a,b, equal_var=True)\n",
    "    if p_val < alpha:\n",
    "        print(f\"H0 rejected as pvalue {p_val} < {alpha}\")\n",
    "        print(\"Inference: The means are not equal\")\n",
    "    else:\n",
    "        print(f\"failed to reject null hypothesis as pvalue {p_val} >= {alpha}\")\n",
    "        print(\"Inference: The means are equal\")\n",
    "ttest_ind(data_group1,data_group2)"
   ]
  },
  {
   "cell_type": "markdown",
   "metadata": {},
   "source": [
    "##Q6: What is a null and alternative hypothesis? Give some examples."
   ]
  },
  {
   "cell_type": "markdown",
   "metadata": {},
   "source": [
    "The null and alternative hypotheses are two competing claims that researchers weigh evidence for and against using a statistical test:\n",
    "\n",
    "Null hypothesis (H0): There’s no effect in the population.\n",
    "Alternative hypothesis (Ha or H1): There’s an effect in the population.\n",
    "\n",
    "The null hypothesis is the one to be tested and the alternative is everything else.\n",
    "\n",
    "Example 1 : If a person gets arrested by police and taken to court here are the hypothesis\n",
    "- Null Hypothesis: The person is not guilty. This is the assumption we start with\n",
    "- Alternate Hypothesis: The person is guilty. Opposite of null hypothesis\n",
    "\n",
    "Example 2 : Does tooth flossing affect the number of cavities?\n",
    "- Null Hypothesis: Tooth flossing has no effect on the number of cavities.\n",
    "- Alternate Hypothesis: Tooth flossing has an effect on the number of cavities.\n",
    "\n",
    "Example 3 : Does the amount of text highlighted in the textbook affect exam scores?\n",
    "- Null Hypothesis: The amount of text highlighted in the textbook has no effect on exam scores.\n",
    "- Alternate Hypothesis: The amount of text highlighted in the textbook increases the exam scores.\n"
   ]
  },
  {
   "cell_type": "markdown",
   "metadata": {},
   "source": [
    "##Q7: Write down the steps involved in hypothesis testing."
   ]
  },
  {
   "cell_type": "markdown",
   "metadata": {},
   "source": [
    "Hypothesis Testing Mechanism:\n",
    "\n",
    "Example: if a person gets arrested by police and taken to court here are the hypothesis\n",
    "1. Formulate Null Hypothesis: The person is not guilty. This is the assumption we start with\n",
    "\n",
    "2. Formulate Alternate Hypothesis: The person is guilty. Opposite of null hypothesis\n",
    "\n",
    "3. Perform Experiments: Statistical analysis to compare p-values and significance\n",
    "- collecting proof of crime (DNA,Fingerprint)\n",
    "\n",
    "4. Conclusion: Accept Null Hypothesis or Fail to accept the Null Hypothesis\n"
   ]
  },
  {
   "cell_type": "markdown",
   "metadata": {},
   "source": [
    "#Q8. Define p-value and explain its significance in hypothesis testing."
   ]
  },
  {
   "cell_type": "markdown",
   "metadata": {},
   "source": [
    "The p value is a number, calculated from a statistical test, that describes how likely you are to have found a particular set of observations if the null hypothesis were true. P values are used in hypothesis testing to help decide whether to reject the null hypothesis"
   ]
  },
  {
   "cell_type": "markdown",
   "metadata": {},
   "source": [
    "##Q9. Generate a Student's t-distribution plot using Python's matplotlib library, with the degrees of freedom\n",
    "parameter set to 10."
   ]
  },
  {
   "cell_type": "code",
   "execution_count": 23,
   "metadata": {},
   "outputs": [
    {
     "data": {
      "text/plain": [
       "Text(0, 0.5, 'Y')"
      ]
     },
     "execution_count": 23,
     "metadata": {},
     "output_type": "execute_result"
    },
    {
     "data": {
      "image/png": "[encoded data removed]",
      "text/plain": [
       "<Figure size 640x480 with 1 Axes>"
      ]
     },
     "metadata": {},
     "output_type": "display_data"
    }
   ],
   "source": [
    "#importing libraries\n",
    "import numpy as np\n",
    "from scipy.stats import t\n",
    "import matplotlib.pyplot as plt\n",
    "\n",
    "X = np.linspace(-6,6,200) #generating x values\n",
    "\n",
    "#generate a t-distribution graph for a specified degrees fo freedom (10)\n",
    "\n",
    "Y = t.pdf(X,df=10)\n",
    "\n",
    "#plotting\n",
    "plt.plot(X,Y)\n",
    "plt.title(\"T-Distribution\")\n",
    "plt.xlabel(\"X\")\n",
    "plt.ylabel(\"Y\")\n",
    "\n"
   ]
  },
  {
   "cell_type": "markdown",
   "metadata": {},
   "source": [
    "##Q10. Write a Python program to calculate the two-sample t-test for independent samples, given two\n",
    "random samples of equal size and a null hypothesis that the population means are equal."
   ]
  },
  {
   "cell_type": "markdown",
   "metadata": {},
   "source": [
    "Answered in Ans 5"
   ]
  },
  {
   "cell_type": "markdown",
   "metadata": {},
   "source": [
    "##Q11: What is Student’s t distribution? When to use the t-Distribution."
   ]
  },
  {
   "cell_type": "markdown",
   "metadata": {},
   "source": [
    "The Student's t-distribution is a continuous probability distribution that is used to estimate the mean of a normally distributed population when the sample size is small, and the population variance (and by extension standard deviation) is unknown"
   ]
  },
  {
   "cell_type": "markdown",
   "metadata": {},
   "source": [
    "##Q12: What is t-statistic? State the formula for t-statistic."
   ]
  },
  {
   "attachments": {
    "image.png": {
     "image/png": "[encoded data removed]"
    }
   },
   "cell_type": "markdown",
   "metadata": {},
   "source": [
    "The `t-statistic` is the ratio of the departure of the estimated value of a parameter from its hypothesized value to its standard error. It is used in hypothesis testing via Student's t-test. The t-statistic is used in a t-test to determine whether to support or reject the null hypothesis. It is very similar to the z-score but with the difference that t-statistic is used when the sample size is small or the population standard deviation is unknown. For example, the t-statistic is used in estimating the population mean from a sampling distribution of sample means if the population standard deviation is unknown. It is also used along with p-value when running hypothesis tests where the p-value tells us what the odds are of the results to have happened.\n",
    "\n",
    "Its formula is:\n",
    "\n",
    "![image.png](attachment:image.png)\n",
    "\n",
    "where \n",
    "¯x\n",
    " is the sample mean, \n",
    "μ\n",
    " is the population mean, \n",
    "s\n",
    " is the sample standard deviation, and \n",
    "n\n",
    " is the sample size."
   ]
  },
  {
   "cell_type": "markdown",
   "metadata": {},
   "source": [
    "##Q13. A coffee shop owner wants to estimate the average daily revenue for their shop. They take a random\n",
    "sample of 50 days and find the sample mean revenue to be $500 with a standard deviation of $50.\n",
    "Estimate the population mean revenue with a 95% confidence interval."
   ]
  },
  {
   "cell_type": "markdown",
   "metadata": {},
   "source": [
    "Ans 13: Since the sample is random and sample size is 50 days (>30) the sample is large enough to consider central limit theory. 95% confidence interval covers roughly 2 standard deviations in standard normal distribution. Therefore we can infer that the the population mean revenue must be equal to the sample mean revenue +/- 2(sample standard deviation) with 95% confidence levels = $500 +/- $100 (with 95% confidence interval)"
   ]
  },
  {
   "cell_type": "markdown",
   "metadata": {},
   "source": [
    "##Q14. A researcher hypothesizes that a new drug will decrease blood pressure by 10 mmHg. They conduct a\n",
    "clinical trial with 100 patients and find that the sample mean decrease in blood pressure is 8 mmHg with a\n",
    "standard deviation of 3 mmHg. Test the hypothesis with a significance level of 0.05."
   ]
  },
  {
   "cell_type": "markdown",
   "metadata": {},
   "source": [
    "Ans 14 : Since the population standard deviation is not known we consider doing the T-Test for this problem statement\n",
    "\n",
    "Null Hypothesis (H0): Drug reduces blood pressure on a average by 10mm of Hg<br>\n",
    "Alternate Hypothesis (Ha): Drug does not reduce blood pressure on an average by 10mm of Hg (2-tail)\n",
    "\n",
    "Data provided: μ = 10 , X̄ = 8 , S = 3 , n = 100, significance = 0.05 , dof = 99\n",
    "\n",
    "Decision rule : If my t-test is  less than -1.984 or greater than +1.984 then H0 will be rejected\n",
    "\n",
    "formula for T:\n",
    "\n",
    "T = (X̄ – μ) / S/√n\n",
    "\n",
    "T = (8-10) / 3/√100 = -2 / 0.3  = -6.67\n",
    "\n",
    "T = -6.67 which is less than  -1.984 therefore H0 is rejected\n",
    "\n",
    "Conclusion : Since T is negative we can say that new drug reduces blood pressure but it is less than 10mm of Hg"
   ]
  },
  {
   "cell_type": "markdown",
   "metadata": {},
   "source": [
    "##Q15. An electronics company produces a certain type of product with a mean weight of 5 pounds and a\n",
    "standard deviation of 0.5 pounds. A random sample of 25 products is taken, and the sample mean weight\n",
    "is found to be 4.8 pounds. Test the hypothesis that the true mean weight of the products is less than 5\n",
    "pounds with a significance level of 0.01."
   ]
  },
  {
   "cell_type": "markdown",
   "metadata": {},
   "source": [
    "Ans 15 : \n",
    "\n",
    "Since the population standard deviation is known we consider doing the Z-test for this problem statement\n",
    "\n",
    "Null Hypothesis (H0): mean weight = 5 <br>\n",
    "Alternate Hypothesis (Ha): mean weight is < 5(1-tail)\n",
    "\n",
    "Data provided: μ = 5 , σ = 0.5, X̄ = 4.8 , n = 25, significance = 0.01\n",
    "\n",
    "Decision rule : If my z-test is  less than -2.33 then H0 will be rejected\n",
    "\n",
    "formula for Z:\n",
    "\n",
    "Z = (X̄ – μ) / σ/√n\n",
    "\n",
    "Z = (4.8 - 5) / 0.5/√25 = -0.2*5/ 0.5 = -2\n",
    "\n",
    "p-value for Z=-2 is 0.0228\n",
    "\n",
    "Z = -2 which is not less than -2.33 (also p-value of 0.02 is higher than the significance of 0.01) The test has failed to reject the null hypothesis\n",
    "\n",
    "Conclusion : Mean weight of products  = 5 pounds"
   ]
  },
  {
   "cell_type": "markdown",
   "metadata": {},
   "source": [
    "##Q16. Two groups of students are given different study materials to prepare for a test. The first group (n1 =\n",
    "30) has a mean score of 80 with a standard deviation of 10, and the second group (n2 = 40) has a mean\n",
    "score of 75 with a standard deviation of 8. Test the hypothesis that the population means for the two\n",
    "groups are equal with a significance level of 0.01."
   ]
  },
  {
   "cell_type": "markdown",
   "metadata": {},
   "source": [
    "Ans 16:\n",
    "\n",
    "Since the population standard deviation is not known we consider the T -Test for this problem statement and since 2 samples are invloved we consider the 2 sample t-test\n",
    "\n",
    "\n",
    "Null Hypothesis (H0): X̄1 = X̄2 <br>\n",
    "Alternate Hypothesis (Ha): X̄1 != X̄2 (2-tailed)<br>\n",
    "\n",
    "Data provided: n1=30, X̄1 = 80, s1 = 10, n2 = 40, X̄2 = 75, s2 = 8, dof = (n1+n2)-2 = (30+40) - 2 = 68,  significance = 0.01\n",
    "\n",
    "Decision rule : If my t-test is  less than -2.66 or greater than +2.66 then H0 will be rejected (approximated to dof=60)\n",
    "\n",
    "formula for t-statistic:\n",
    "\n",
    "<img src=\"data:image/png;base64,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\">\n",
    "\n",
    "where sp = pooled sample vairance\n",
    "\n",
    "<img src=\"data:image/png;base64,iVBORw0KGgoAAAANSUhEUgAAAXgAAACYCAYAAADurvKQAAAAAXNSR0IArs4c6QAAAARnQU1BAACxjwv8YQUAAAAJcEhZcwAAEnQAABJ0Ad5mH3gAAB58SURBVHhe7d0PTFtXni/w77yOnG1UR5GIphJsR/G0KlGeIK0wygtOo0DYB21VSN8A0w00WhxGInQHaDSQaANIL2R3EzKvNTwlUE3ivE2hagjaYkZNQEthHw+jTY3UYrQRjjo1mghLzWJtVG9ZxWrkd+4f/pg/5k/8j8v3I7m+PoaUe/27P597zrnn/CQggIiINOe/qM9ERKQxTPBERBrFBE9EpFFM8EREGsUET0SkUUzwREQaxQRPRKRRTPBERBrFBE9EpFFM8EREGsUET0SkUUzwREQaxQRPRKRRTPBERBrFBE9EpFFM8EREGsUET0SkUUzwREQaxQRPRKRRTPBERBrFBE9EpFFM8EREGsUET0SkUUzwREQaxQRPRKRRTPBERBrFBE9EpFFM8EREGsUET0SkUUzwREQaxQRPRKRRTPBERBrFBE9EpFFM8EREGsUET0SkUUzwREQa9ZOAoG4TbV1PfHD1X8O139swMOkTBTokvJKFd4+fQL7JAP0zyo8RhRRnccQaPNETD3rP5qH0H3wwnevCYH8PrGdex46ve2E5VYi8s73wPFF/lmglcRhHrMHTluftqULO75LQ3FsL03a1UPCPNOFwZSf8YtvwXgdulSYrbxAtIx7jiDV42uK8GO63AzOdqKlsh0s6C1W6jEJU71W23ZdtsC94jyhYfMYREzxtcVNwjyhb/q8tuHNP2VYYYHhF3UQ3xlzqJtES8RlHTPC0xaUi/0w69GJLv78ar6s1rVnbfqpuiAtsP9vhaUXxGUdsgydakRe2yhw0yjWzXDQNnkeWdAYTrUvs4og1eKKVPPgCNvWyO+l4EQ4yudNGxDCOmOBj6YkHAxdOoq7PoxasYMaF9hozrF9v7V4+T18dTl4YiNJQMz/sHRY4pc3dJWgsS4VOLlf5nbCW1aL9Xhx8JoyjddlScSQ10VAM/DgVuHP6cODA+92BqR/VsuX8MBa4/JcHAgXNY4HHatGWJY5Z9/sHAodP3wl9zMLgsf1i4EBaWiDtl+cCX0yphYs8/urDQMFrxwKXv4rhJ8M4Wr8tFEdM8DHxODDWWhBIe+1iYPgHtWhZ04E7IhDT/upm4NsIB2Jc+OHbwJ1/uBOYCBXnPwwHLr6WFtlENdUdqBT/jwN/eTnw5fdq2Qq+/bRUfI6Vge4VTt7IYhwt68fpwJe3Pg4Mf6e+Xs4WiSMm+Bh47LwcKBDf6jW9oT/16c8rxbd/XuDav6oFGvX4+6nAmO3DQPkRUdNJE0Ee6sQUvu+tET+XF/gwEjVnUdP98JfipHxfJMOQSVP140Tg2lvi7/5Nt0ij0cU4WuSH6cC3//fjwFlxpZImjsuHX6nlK9gKccQ2+KjzoPsDK9yJFTiRHaK3xe/AtQt2+LNPonDRkCutkO78MxqNyMgsQE2bDY5H6hur0GefQEXiFNqbu8XRDKMZJyzHzej8eT26LhXBMHs34hMnrMer0Dmpvl7omWQUvpcFjFzEtbvrb0f1DTWh+JId0qwl68M4mvO1RY4j46EcmC98jIH7a/sctBRHK2GCjzL/3XZYxoHk4kwkh5h4yNPTis4ZoCgvSx5bq0UJuecx2D+C0dER9P1dvlq6BuJkyCxOBsYtaA/XyfDEA1tduXpS5iNx4WfznRuOe8COFT4IfWY+iuBHZ9v6E4X/0RRcD6bFb68P42iBlAoRR4MYuTuKwf9TgXS1eFUaiqOVMMFHlR9jQ93iv0k48qpBLVuOB8OfS/3uuTCmBPW5a4tOD/3Oje2f4dUj4ij60T00tu7kuJQfzstVaPzXLFQXJGJq1AHH3fnHwGfi6gIGJCaoP76YLhXGHPE83ovhB0pRZDGOgjyjE3Gkh24DMzVqPY6Y4KPpyQTsf5DCKBMpLypFy3rogF3UzmBMxx7NVrue0osp4iiKU+oPdkw85XA3T08Nym+4AW8vmipP4uR7wY/a6yJJZhhEIliJHnvEZwU4Yf/KqxRFEuMofDQeR0zw0fRHcQkpLpdxaA9+EaK24XOKE1M8614R3/ZK0RLeEQvM2UYYjZkwz47pFSd0e4MZmVJ7pHhkltahMx7GaUfCM7/AnkPiecaBiVC1nSdeOK7WolA+Vko7bdVVB7xzJ7MTnefsq9fedidipYqXJPGlFHl8s/3eRBhqgqsIYxzBa4elNFONlyYMSG0D0jG7UafGl3hkm1HX5Yr8fsWCxuOICT6KfH/6FlPSxiofsueBVO0C0hNX+K5/aMO5SieyPhpB6zEfnF21qDtbh+Jjrfj+zfPouzuK0Z56pIpLvabyixhYfw/eJpCAxN3SswuTnhVOBak9tOYtnPwUKLkqtfWPYuTT09h16yQu9s8elFRUi3LpvZCPU6u07D6fpLT93ptSPuMIClscSbfQ/88qOP/CipG2EvjGO1F7VsTSuwVoncnH+dtiv+/2oH6vE70XSnFxUIuBpO04YoKPIp9PuexKfj709fL3/658tEm7lv851+dW2AtOoOjF+XZV54gPRdetqNifqLRFJhogt87O2OD8o7QRmne0E+0jUWheCCP988q82lPTyyceX78FjUN+ZNXUI3+3dKz8mOhphU3s5oBLXEqH085dyqX3Pc8GRsSsT7jiCPdtsI4U4USBYf7uyvFh+Ao7YC1PR6JU+EwiDC9Jb/hhG1/mmEkrGPVZUFugXAUYjRnIKatD+5Abvqds8ogWLccRE3wUTT9wyM+7nt0hPy/PC486jEq3fT6Bz3PB/tkUco3SLc8ujP+zUmp6/zTyX1C2Zb5pTMsbupU7n5744Z20o/1sMd4qb4JlNNJ1z/Da8ewu+dk+udzf7YNjaEDe0j+7TX4GHsPnFUdlezIqMveoZWGi06tJ0g33Q3kjYsITRyKS7DZM5RiRKt52jQ8qhRmncTpvYYOOD9PfKVu6xf+MqNlqYSUsLccRE/ymkwxzzyjOS2OfH05gTB5PlQzTq8GtrP7xUfTKW0exb8kCMk5YpNrWfqm2dQ4f/7+1tq86YZ1tg9zAo7YvNlcItrq3UFzThCtdduz69SBGhzpgjtaoknHrXJ/Ico+cc3ZgpBE5y7w3+yi8EZkJxJNLbRj9W2n4pBcTXynJLdmUGjy0z+/EaJ+yeTQ1OJl5P7+IupHXcemqqNnuTYB+ZyJSC+rR0VIkJylffx2qlv3bGUfRwgS/ic12oiHxCPbJ7YjzJka7lY0CE9KXxGAqKvoHMTgyitH+T1AxtxjBalJh7l/UpriOR1NOqBbjcNPj4DsVSJZuMpnxwjXYCeuFOhS/UYimkUg3oiyQYsbgMsdi9tHXYBK15nr0LfPe7OPW8SXf0OHlG4NDnu1wmWGX9xxQIqkIJuPCQHqaFYwYR9HCBB9F2/QrD5Cap4M+dNOqyg/nqFJHx+EUUYdfwO9Ab5d0VulQlJmuXvIF0+3UQx/flY81S9LPXjoH04nk2tHfh1tXm1FfWYT0nVKpG50XbiFyi+qI4/qsuhkh4Y2jhVd7i4dd+uH4J2UtUd2vMhdVFLS3EpYW44gJPop2JSjV7OXb+mbpset5Zcv9pxCXok8m4LitbOYuunT2jw7Kdy9i+1FkvirOyke9qDWa0RmVm3CiZ2pSvn7B7gSlDXWW/2urMsSv4AqcSBDJxoT847Vo/ag6+IswhHV3Oj90i1Nesgsr9WmGS1jjSJi72stJxZ6g5hkHBm8qFYWjh/aJ//rQe8YIc5fULqidlbDCGkdP2+kc5jhigo+ihJ+rl78zvpBt3km7xWW7MP2f38vPy3ogEryUxGFCeurCSPBh+PNOeUtXkCvXutx9nRjIyMeRhZ2wm54fPnn/RX0x6NZALwZuiBNyuXltHvvxH+LJ8LZp+RP0aTqdZx4rndpGgzg1IyuscSTSycSo8q+Y9u+TE/Ys39AdyJG0vQi5UvPMpHjdL5LcIaW/x1DQKjc/DV4uQXJQ7d4L9zfqJnKRGupmrJgLYxyFo9M5zHHEBB9NL+wR6VhYZYxrgiFZblZxuT0rnsDee3bl8nCvCak/k4tU2+Zu/0/fvQu++52w/P4xqv86P+SY6Zjw++B7pDw8ntnZN6YxJWqcs+Ur1/7EMZSbBUzYE9RsLGpaKVKBCbW/K5NHiEj8D+xoariCf3ulFk1L2rQ32uk8z++ZlD+PkDcVhUsY4wheF+zycUyGKTU4Qrbpd8i/D7FPu2Zc6GxpxePKCuQHxdsyor2Ckfhino0X75+m1NFjkGNqtty34gEIXxxtvNN5XrjjiAk+mhJSYUoRz/eccIfqn0lOx1GpU2fEpV6uLfX9tJQQdTC9c0QZ7z5Hh3TzJZSk6GE/l4ecaidMH11Hycvq23HE21uHzOxM+ZHXoAxFk4aBWstz5sqvKPfqLOVzwymdmCniC27RN1fy8Ta0VurRW3F47jL5rdM26I5b8YePimBYMmx0o53O89wu6TJfh6OvhnnY3HLCGEd4NC1PbKU79C6OLOqo1xlP4NLxVOhHGpH3ZiWcGVZcX7XDd5UVjCJh/MpcvOSUW5WKjzDQkDdXXte7QjNV2OLoaTqd54U9jtRpgylKpm6VynNVX7SHmoP6ceDLJmlO62OBm261KGKmA92/keZhF4/mMbUs/kkr5Uh/c+mtcK+0sZHj8W3g5rvi51+7GPhynVOLT9sqNzQHePzFkWItKxjFk/DF0VjgQ2m/1cfiuei//F+z7x0IXHaqhUtsPI5Wwhp8lCVmFyFLPHf2DGDlypeohb9ZhiRRF+noD31JtzWp/Qzbc1GSHfEGkdXdH0SHqAUaSvOXGZIamm5nEpJf2LXuWm5cxpHHhpoz4nN52YzW6/XIioOPJrRwxlEYOp2fIo5WEtkE73OhtyV4gh5zQzvsk/E/fjRidubixHsGoL8Td0KNatlbiKocHaZu2OBYb4Ow1j24g/Y+6UR4F1nykLVY8sNhu4opkSROvr1a88VS+kO16KgxBXVurkm8xZG0yEVlIxxGsT9XK5Ae6Xb3cAhzHD1dp/PTxdFKIpfgPb2ofbsUH/tMOP/JIAY/s6I2ewecty2oKshD7e3ZTrWtJ/lX9SjZLU6IjlCzz+mR9d5pmNCJ1s/CPN/Fpqa28e42o15arCHWJrvRehMwnXk/6l82cRNHG1nBKOaiGEdr6XSOVBypTTVhprRjHvj74UUL2j4ODP+9sl5iWlpB4JpLLd6KXB8Hjr12YJU21EDg+4FzgcNppRFsQ91cbfByG+9rleJ4hKmRcol1HI8fvw3c/Ku0QEHTl4FV1lSOnFjH0Y9Tge73DwQOvN8dmFq8oPdUd6A8rTJwJ9qL1a5B5ONo1oKc98sPA2PLrc8awTiKTA3+4TAGxDeWv0uaAH/hkDNp1MfsTQJuXPnHNcyfrFUvl+B6SwnGGmpgC3GJrc+sR8e5XWj9rQWOLdyyJfF/fQWlDWMoabmEInlWvxiSxzyb0fr8eTSfUtpeYyKmcfSUKxjFSDTjyD9iQY10V/nufDS1VCN19upmVoTj6CdSlle3w0daBLesXX1RAuuo2DH1FZ44YNl/EvK7282wDlXMv7cVzfjgEx+rfvEHv4jf58PjbeGbXsD/SPx78sYEPv7tSViloWLZ59FzRm0PfmYb9PE2l8Eaj9XT8cJWmYNG6ZL6uBWjlStEpzT22vcY2/QbWyou7GIQR56eKhSstsiFNM9OS5zdgxGVOBI8NlS90wjHn5vR/NEK/RIRjqPI1OBT8lG7X9obPdJPvY6gEZ0iccyZ2bL193nb1xZoOhEA4cu3TlxRxwdnvqEmd0l/HfJmy8/eEakuzqzxWEXFU6wDGhFRj6PwrGAUE9GIo7V2Okc4jiJTgw/lofhWe6NRmQUxpwmD8nSlRPFijTV4opUEdTrnz0+/LHU6l17Dc+eaUbToprJIifo4eM+QTUnuSEJJ4UEmdyLSDml5v7rypcld8p0bDnG1vCOKSS+6CX7GjvYW+SZmGI43ouKVOGvjJSLasPjrdI5iE40f9guHUdXlhyGvCc1ns4K/3YhiaFN2OlNcicdO56gleGXnxfdXWTPafp0OPZM7xQ0nLEazMrJrJfE4GoTiyBpiSHKsFaOn0tUXkReVBC+t+FJc1onEmg5c+tWCFdyJiChiIt4GP5fcz3aheWFyH7eiuLJz5WlMiYjoqawvwT90oPNCLYpnl6PKLsTJhisYmFyh1UmaXU4kcTm5vx08W5vnGwdcP92BHeprIiIKrzU30Sg18Xa4tyfAdLwB1TmJmL7bjqYLNlELT0XtZ1YULVwSTh0LemdvLRreXNws44OjrRbWVznOmIgoUtaW4B8NoC6vFr0zBpS0WVFtnB/I6R+1oLC8Hf92rBX/fEpdwV8aC1pTgMah0Pe5mRr60JzHbisiokhYU4J3Xc1HcdsUdDlN6Ft45+mMC+015bDc9QE7K2DtNyvzygTNRbOykrZR8WWhvlgvrzQdcR0G1AVzwysB5qt/4Dh9ItrUVk/wfjuaMqrk1dVN50SN+435Grf3dhVyGpT7UnXGenS15Ud+weFZT3xwj09gWh68HG478AtjMhI4lJOINrHVE/z4FWSUWuXB+0nHrbhVOb+Irn/citL3rsD9nAkVv7uEkr2s8c6SOqGJiMJpdHRU3VqbdSV4aT73hFey8HruQZj2pmJfcmL8zKZHRERB1tBE40BT9kl0LtvWrUd6ZRuajycvGiVDRESxtvo4eF06qtsqlq5EIvPB0VKM4htu9TUREcWL1Wvws/xeuO854PgXJ0aHvsDwfe+CSXWK0DpSi3RW44mI4sbKCX7GA/vtboxN78LBd4qQunil7wc2VBU3wi433Zhwvq8ZudEc0s5hkkREIa2Q4L3oPfUW6mZvVMo+j74LuUtm0nO2GGG+ITZ2mmHtq0Dqgg5X/712VFVa4HikR2rBaZyvyYX+XicuftCK3nFp3Hwqcsurcfrt1I3NLMlhkkREIS2f4EXtuCqnTl15SYfkyuvoOJ4sv5rnQWdpHprGl3lf7pg9D90H7ci/X47CD1wwvJyMKf8enD5Xjfy9eni6qpB3wQ5DmRUd5fNDL4mIKDyW72TV6ZS7VaV5Z8qb0VK8OLlL87tfhGVc/OjLJThdEPy+b/AWOl8sRpFRD//j/5DL3P59uPRRvZzcJYmHsmCSyq92YlhU6ImIKLyWT/D6LFQ0mKCb8cL5lR3DdifcD33wPfLAdbcX7WeL5ZVLtqWU4NL/XjzCxgfH0ACSc9ORKGr5E3en5NLkwkKYFrbx/Cgq+vJGL5x/lDeIiCiMQo6i8U3acedTG2zOMbilUTOiRp+8exd27DYh938cxespq9zo5BtAXWatSOFJqPjEBvPLarngH2lCRqU0AYIO5usjqEhRyomIKDzWPkxyI762IKOsXdTUS9B6txrpC74MXNfzUXxZqt3nomnwPLLmJ6gkonjnc6H3+jVc6xmA+5F4LSp/qYffxQlzPky7eTLHi4iu6OT6alBphslJxZ6gmr4bY4NK0w2yDyKd8UC0eXikIcql+NhnwvlPBjH4mRW12TvgvG1BVUEeam971B+kWItggvdi4isliacb98xPMSyZdKBXWrUeBlSYc4PfI9pEfENNKL5kx9YZJ+CF7UIdhrMv4frZfCT/TA/9C6koauhAc4E0Fs6HgYYqWO8rP02xFbkE7xuDY0TZ1G9fmMJFAPzeAqfYMpTVo2RBuzzRZuN/NAXXg+kFd3Vr3MNhDIjz2t9Vg/IbrgX7rYPpnWoo4+ncuPKP9q1zTOJY5BL8H50YUDcHfn8NDqmK80Raqq8cdX1AMse/E20+Hrd6f4wfzpY7mJC3VS8YkK5u4vZY8HsUExFL8HPt79nVqD/kRG2mEcb9Oai7n46GT/qY3Ik2o5R81O6Xrsj1SD/1OvYopYpntqkbwgzr7/EgQgl+Qfv7/izkV1oxODqK0dER9H1QjdyX2epOG+GHu6sOOYdEZeFQDqrUJgLf/V5YTuUgwyjKjRnIOWWBPV77+Wbc6Dyr/K0Zb1Sh/Z7YA3Fl6+qzoOqNDHmhGHnfWuzwPFF/J548Y0DR5UFxLg+i9diiacIfuuFWN6WBFQZ1k2InMgl+rv1dh5SXoraIH2mc/+srqG7ZgYbPe1C/1wt7SylqztYi728cMJR1YURUIkbaivBnQ9I8SO3zySZu+OG8Wg2LvgF9n9Vj30M7LOU1qDubh7q7BlR8MiJXglqP/hnsN6pQ1RF/exCKZ8imNt8koaTwIAdPxIHIJPi59vej2Ld0lgOiDfBh+FY7nnuvEKa5zOGH3ZWIpuvzU2Dofm7Abmlj0gHnQ7kofviG0XnjOVS/Y5qfYG/GDldiE6zSiBR5xlYdfvGSvAdwjzrFtfAmIfajvUUaOgEYjjdyJtY4Ed4E/8QP3yNRsxpQ299f3AX9jA++iEzpS1uKz4GBviQceVVc+Psm4JCXphQ1xTMVwfdRiPibVDe3rTYb6IwbvTd64YpSc7Hv7gB6E49gn8jfPmltBakwsQS1ZelBM6pOe9U9+OmCNu0FvHfbUVc22yRlRGZBLSw94ssgZk064ou2pUZe9c2Q14Tm99i/Fi/Ceyfr1xYYy9rVF/N0ZVaMlKeqr4ie0twd0kVoHqmFaUE2cd8sRuElF7C3FrduFC3bDuz3eTAx2InWlnY4HplQf7sZ+T9T31xs3IrM0itPNc7dUNmBW4tmY3W2ZMB8Q3yzFDRj5IxpQUJ0o/N4IZruAck1t9Dxq4V74IezrRTlXTtQ9rf1KEzehmnnTTTWWeEUyVX3shltV5dbfc2L3jM5qOtXX66TvtyKwbKVz19PTxUKzknNZM1o+3XwlxXFmJTgiTaTCWteIC0tLZD2N18EvlfLFNOB7t+IcvHesU+/VcvmTdsqld9LOxD4768fVrcrA93fqT+wAfK/+Ztu8X9ej4nAtbeUv/PsPwXvQeC77kCl/HcdC9x0q2Wqx199GMhLK11SHnDfDJTKv5MWOLDkmESW9DcViONZKY73Y7WM4kfEhkkSRcb8NBdL7pB+8AVscud+KvIzltbdE3LPY7Bf6cjs+7t8tTQGJsfwhTzKJx3pat/BrLmOypR8HFSa4udMDHViCk40/bYRAwv7F3YfxYkCZdPfdw13ZtuoIswvrqSKyzqReLYLzeJKY+4qRFz1FFd2xmEn99bDBE+by0Mn7PI0F0lI/6/BI7TcIzb5Dmmk5OLgC+L5nhX5h5rgmG1j1+mh3xn71mGv0w6XtJGYjj1Bu+DGcI/SUZn65kFIb7mu5iPjkgN+eOH+Rt2RSRts/7Kw+1UHQ/LsLUYucXyi0DXrsaFGJHE5ub8d/Dl4vnHA9dMd2KG+pthhgqdNxf+NSGDSxvZMGF+Ui1QuDHbIaROmt4+I5OiHvecqUJCLfXHV4+fHxD11rbRso3prv+r+IDrkLy+T+GISSXPGDtsNoOgv9okUnoCsd0qQvF1qa89H/n8LXkBz2zMLdvJH9TlSZpywVDZi4nA1ihKn4LjrWPAYQHePQ1xVJC5Z4pOijwmeNpUJZ7ey8Yao/QZ15unxnJpRDD9PgHfIAkv/66g6Hm8jOiYwdlvZOmoMug8UePY5NSkaYEjwwn7ZgjvZVTihDjnUZ1SjY2gUI5/UI2tRp/DUpDwmR0jCvj0RTK1PPLDVlaN9UlyJ3G5C1XsncTLoUQvruPiK2p2k/gLFEhM8bSI+TMttzwaY30xflLgTcbSuFrk/06G9zIiC6zpU3xSJUB5bHkd808rY9t1m5BoXffW8cBT1Z3KRsL0d5v0FuLatGl1ns1a/YcjvQG+X2nyTYUZ+JCfwG+9E4+xi/CEYEll/jwfhHSZJtFnMDeldZZjkKrw9Vcjpz0JfS37MmiTcN80ovOQEtot9+VTsS3CTOG1hrMETPQXdziQkv7Ards1Ak6JGLSf3VFS0XWJypyBM8ERPQX+oFh01ptjMuyJ1dv62Cc6dWajvsMK8N756Gyj2mOCJNqPZzk7pbt6bTciXhoUSLcIET7TZSMm9pgCNfypC6/VamOYa/73obSiGZWTrLCBIoTHBE20qfjgvV6nJvTp4orUn32Liths6fUwajCgOMcETbSKeHmktVD3M5SZAmpFy4U1GXTZ0Ih1Jz6s/TFseh0nS1uGfn7raN9KIvAZp1YJkmNta8O5LSgflNlH71cXpbIjK3C+rLWRSAutoNTh3K0mY4GnLkMesn1OmCVhJydVRVL+ivogrXtgqc9AoT6YWgrEePW358jw2REzwREQaxTZ4IiKNYoInItIoJngiIo1igici0igmeCIijWKCJyLSKCZ4IiKNYoInItIoJngiIo1igici0igmeCIijWKCJyLSKCZ4IiKNYoInItIoJngiIo1igici0igmeCIijWKCJyLSKCZ4IiKNYoInItIoJngiIo1igici0igmeCIijWKCJyLSKCZ4IiKNYoInItIoJngiIo1igici0igmeCIijWKCJyLSJOD/A2M80W3CMHT2AAAAAElFTkSuQmCC\">\n",
    "\n",
    "Calculating Sp:\n",
    "\n",
    "Sp^2 = (29 * 100) + (39 * 64) / 68\n",
    "\n",
    "Sp^2 = 79.35\n",
    "\n",
    "Sp = 8.91\n",
    "\n",
    "\n",
    "Calculating t-statistic:\n",
    "\n",
    "t = (80 -75) / 8.91*(sqrt(1/30 + 1/40))\n",
    "\n",
    "t = 5 / 8.91*(sqrt(0.033+0.025 ))\n",
    "\n",
    "t = 5 / 8.91*0.241\n",
    "\n",
    "t = 5 / 2.146\n",
    "\n",
    "t = 2.329\n",
    "\n",
    "Since t = 2.329 is less than 2.66 the t-test has failed to reject the null hypothesis\n",
    "\n",
    "\n",
    "Conclusion : The population means of two sample groups are not equal"
   ]
  },
  {
   "cell_type": "markdown",
   "metadata": {},
   "source": [
    "##Q17. A marketing company wants to estimate the average number of ads watched by viewers during a TV\n",
    "program. They take a random sample of 50 viewers and find that the sample mean is 4 with a standard\n",
    "deviation of 1.5. Estimate the population mean with a 99% confidence interval."
   ]
  },
  {
   "cell_type": "markdown",
   "metadata": {},
   "source": [
    "Ans 17: Since the sample size is larger than 30 we can apply the central limit theorem\n",
    "\n",
    "for CI = 0.99 the z-score = 2.33\n",
    "\n",
    "so to find the upper and lower limits (confidence interval) of the population we can mutiply the standard deviation of the sample with the Z score = 1.5*2.33 = 3.495\n",
    "\n",
    "Finally we say that the true population mean  = sample mean +/- CI = 4 +/- 3.495 (at 99% confidence interval)"
   ]
  },
  {
   "cell_type": "code",
   "execution_count": null,
   "metadata": {},
   "outputs": [],
   "source": []
  }
 ],
 "metadata": {
  "kernelspec": {
   "display_name": "Python 3 (ipykernel)",
   "language": "python",
   "name": "python3"
  },
  "language_info": {
   "codemirror_mode": {
    "name": "ipython",
    "version": 3
   },
   "file_extension": ".py",
   "mimetype": "text/x-python",
   "name": "python",
   "nbconvert_exporter": "python",
   "pygments_lexer": "ipython3",
   "version": "3.10.8"
  }
 },
 "nbformat": 4,
 "nbformat_minor": 4
}
