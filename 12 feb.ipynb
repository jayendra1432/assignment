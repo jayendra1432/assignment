{
 "cells": [
  {
   "cell_type": "code",
   "execution_count": 1,
   "id": "d95296b4-e31d-447d-b798-040e127be4f9",
   "metadata": {},
   "outputs": [],
   "source": [
    "#Q1.What is an Exception in python? Write the difference between Exceptions and Syntax errors.\n",
    "\n",
    "#Answer:- An exception is an event that occurs during the execution of a program, which disrupts the normal flow of the program's instructions. It is a way of handling errors or exceptional situations that may arise while the program is running. When an exception occurs, it generates an object known as an exception object that contains information about the error.\n",
    "\n",
    "#The key differences between exceptions and syntax errors:\n",
    "\n",
    "#1. Occurrence: Exceptions occur during the execution of the program when certain conditions or errors arise. Syntax errors occur during the parsing phase when the program is being compiled or interpreted.\n",
    "#2. Handling: Exceptions can be caught and handled using try-except blocks. This allows you to gracefully handle errors and continue program execution. Syntax errors need to be fixed by correcting the code structure or syntax violations before the program can be executed.\n",
    "#3. Nature: Exceptions are runtime errors that occur due to specific conditions or situations while the program is running. Syntax errors are coding mistakes that violate the rules of the Python language's syntax and prevent the program from being compiled or interpreted."
   ]
  },
  {
   "cell_type": "code",
   "execution_count": 3,
   "id": "920a065b-2d90-454a-80ab-f1dca7623640",
   "metadata": {},
   "outputs": [
    {
     "ename": "ZeroDivisionError",
     "evalue": "division by zero",
     "output_type": "error",
     "traceback": [
      "\u001b[0;31m---------------------------------------------------------------------------\u001b[0m",
      "\u001b[0;31mZeroDivisionError\u001b[0m                         Traceback (most recent call last)",
      "Cell \u001b[0;32mIn[3], line 12\u001b[0m\n\u001b[1;32m      9\u001b[0m num1 \u001b[38;5;241m=\u001b[39m \u001b[38;5;241m10\u001b[39m\n\u001b[1;32m     10\u001b[0m num2 \u001b[38;5;241m=\u001b[39m \u001b[38;5;241m0\u001b[39m\n\u001b[0;32m---> 12\u001b[0m result \u001b[38;5;241m=\u001b[39m \u001b[43mdivide_numbers\u001b[49m\u001b[43m(\u001b[49m\u001b[43mnum1\u001b[49m\u001b[43m,\u001b[49m\u001b[43m \u001b[49m\u001b[43mnum2\u001b[49m\u001b[43m)\u001b[49m\n\u001b[1;32m     13\u001b[0m \u001b[38;5;28mprint\u001b[39m(\u001b[38;5;124m\"\u001b[39m\u001b[38;5;124mResult:\u001b[39m\u001b[38;5;124m\"\u001b[39m, result)\n",
      "Cell \u001b[0;32mIn[3], line 6\u001b[0m, in \u001b[0;36mdivide_numbers\u001b[0;34m(a, b)\u001b[0m\n\u001b[1;32m      5\u001b[0m \u001b[38;5;28;01mdef\u001b[39;00m \u001b[38;5;21mdivide_numbers\u001b[39m(a, b):\n\u001b[0;32m----> 6\u001b[0m     result \u001b[38;5;241m=\u001b[39m \u001b[43ma\u001b[49m\u001b[43m \u001b[49m\u001b[38;5;241;43m/\u001b[39;49m\u001b[43m \u001b[49m\u001b[43mb\u001b[49m\n\u001b[1;32m      7\u001b[0m     \u001b[38;5;28;01mreturn\u001b[39;00m result\n",
      "\u001b[0;31mZeroDivisionError\u001b[0m: division by zero"
     ]
    }
   ],
   "source": [
    "#Q2. What happens when an exception is not handled? Explain withan example\n",
    "\n",
    "#Answer:- When an exception is not handled in Python, it results in the termination of the program and an error message is displayed. This termination is known as an \"unhandled exception\" or an \"uncaught exception.\" When an exception is not caught and handled, the program execution is abruptly halted, and the error message provides information about the exception type and the traceback, which helps in identifying the cause of the error.\n",
    "\n",
    "def divide_numbers(a, b):\n",
    "    result = a / b\n",
    "    return result\n",
    "\n",
    "num1 = 10\n",
    "num2 = 0\n",
    "\n",
    "result = divide_numbers(num1, num2)\n",
    "print(\"Result:\", result)\n"
   ]
  },
  {
   "cell_type": "code",
   "execution_count": 4,
   "id": "ef5629a2-5a65-4967-87e2-0f9ae4b9fb71",
   "metadata": {},
   "outputs": [
    {
     "name": "stdout",
     "output_type": "stream",
     "text": [
      "Error: Division by zero is not allowed.\n"
     ]
    }
   ],
   "source": [
    "#Q3. Which python statements are used to catch and handle exceptions? Explain with an example.\n",
    "#Answer:- The try and except statements are used to catch and handle exceptions. The try block contains the code that may potentially raise an exception, while the except block defines the handling code that is executed if an exception of the specified type occurs.Here's an example that demonstrates the usage of try and except statements to catch and handle exceptions:\n",
    "\n",
    "def divide_numbers(a, b):\n",
    "    try:\n",
    "        result = a / b\n",
    "        print(\"Result:\", result)\n",
    "    except ZeroDivisionError:\n",
    "        print(\"Error: Division by zero is not allowed.\")\n",
    "\n",
    "num1 = 10\n",
    "num2 = 0\n",
    "\n",
    "divide_numbers(num1, num2)\n",
    "\n",
    "\n",
    "\n"
   ]
  },
  {
   "cell_type": "code",
   "execution_count": 1,
   "id": "6430525f-5dd4-47e8-87b8-d2d669d02620",
   "metadata": {},
   "outputs": [
    {
     "name": "stdin",
     "output_type": "stream",
     "text": [
      "Enter a number:  43\n",
      "Enter another number:  34\n"
     ]
    },
    {
     "name": "stdout",
     "output_type": "stream",
     "text": [
      "Result: 1.2647058823529411\n",
      "Error: File not found.\n"
     ]
    },
    {
     "name": "stdin",
     "output_type": "stream",
     "text": [
      "Enter your age:  344\n"
     ]
    },
    {
     "name": "stdout",
     "output_type": "stream",
     "text": [
      "Error: Invalid age. Age cannot exceed 120 years.\n"
     ]
    }
   ],
   "source": [
    "#Q4. Explain with an example: a.try b.finally c.raise\n",
    "#Answer:--\n",
    "#a. TRY :- The try statement in Python is used to enclose a block of code that might raise an exception. It allows you to handle potential exceptions by providing a fallback mechanism. \n",
    "\n",
    "try:\n",
    "    num1 = int(input(\"Enter a number: \"))\n",
    "    num2 = int(input(\"Enter another number: \"))\n",
    "    result = num1 / num2\n",
    "    print(\"Result:\", result)\n",
    "except ValueError:\n",
    "    print(\"Invalid input. Please enter numeric values.\")\n",
    "except ZeroDivisionError:\n",
    "    print(\"Error: Division by zero is not allowed.\")\n",
    "    \n",
    "    \n",
    "#b. finally:- The finally statement is used in combination with a try statement to define a block of code that is always executed, regardless of whether an exception occurs or not. It is typically used to perform cleanup tasks or release resources that need to be done regardless of the program's flow. \n",
    "\n",
    "file = None\n",
    "try:\n",
    "    file = open(\"example.txt\", \"r\")\n",
    "    contents = file.read()\n",
    "    print(\"File Contents:\", contents)\n",
    "except FileNotFoundError:\n",
    "    print(\"Error: File not found.\")\n",
    "finally:\n",
    "    if file:\n",
    "        file.close()\n",
    "        print(\"File closed.\")\n",
    "\n",
    "        \n",
    "#c. raise:- The raise statement in Python is used to manually raise an exception. It allows you to generate custom exceptions or re-raise exceptions that were caught but need to be propagated further up the call stack.\n",
    "\n",
    "\n",
    "def validate_age(age):\n",
    "    if age < 0:\n",
    "        raise ValueError(\"Invalid age. Age cannot be negative.\")\n",
    "    elif age > 120:\n",
    "        raise ValueError(\"Invalid age. Age cannot exceed 120 years.\")\n",
    "    else:\n",
    "        print(\"Age is valid.\")\n",
    "\n",
    "try:\n",
    "    age = int(input(\"Enter your age: \"))\n",
    "    validate_age(age)\n",
    "except ValueError as e:\n",
    "    print(\"Error:\", str(e))\n"
   ]
  },
  {
   "cell_type": "code",
   "execution_count": 3,
   "id": "b8a41424-71ba-46ec-bcbc-12d915621b64",
   "metadata": {},
   "outputs": [
    {
     "name": "stdout",
     "output_type": "stream",
     "text": [
      "Error: Insufficient funds. Available balance: 1000, Required amount: 1500\n"
     ]
    }
   ],
   "source": [
    "#Q5. What are custom exceptions in python? Why do we need custom exception? Explain with an example.\n",
    "\n",
    "#Answer:- Custom exceptions, also known as user-defined exceptions, are exceptions that are created by users to handle specific exceptional situations that may occur in their programs. Python allows programmers to define their own exception classes by creating subclasses of the built-in Exception class or any other existing exception class.\n",
    "         #We need custom exceptions in Python to provide more specific and meaningful error handling for our programs. By creating custom exceptions, we can encapsulate the details of the exceptional situation and provide clear error messages or additional attributes that can assist in debugging and handling those specific situations.\n",
    "    \n",
    "class InsufficientFundsError(Exception):\n",
    "    def __init__(self, balance, amount):\n",
    "        self.balance = balance\n",
    "        self.amount = amount\n",
    "        self.message = f\"Insufficient funds. Available balance: {balance}, Required amount: {amount}\"\n",
    "\n",
    "    def __str__(self):\n",
    "        return self.message\n",
    "\n",
    "\n",
    "class BankAccount:\n",
    "    def __init__(self, balance):\n",
    "        self.balance = balance\n",
    "\n",
    "    def withdraw(self, amount):\n",
    "        if amount > self.balance:\n",
    "            raise InsufficientFundsError(self.balance, amount)\n",
    "        else:\n",
    "            self.balance -= amount\n",
    "            print(\"Withdrawal successful.\")\n",
    "\n",
    "\n",
    "account_balance = 1000\n",
    "account = BankAccount(account_balance)\n",
    "\n",
    "try:\n",
    "    withdrawal_amount = 1500\n",
    "    account.withdraw(withdrawal_amount)\n",
    "except InsufficientFundsError as e:\n",
    "    print(\"Error:\", str(e))\n"
   ]
  },
  {
   "cell_type": "code",
   "execution_count": 4,
   "id": "28cff0fd-a6c8-486a-8d93-c232c7f3bede",
   "metadata": {},
   "outputs": [
    {
     "name": "stdout",
     "output_type": "stream",
     "text": [
      "Error: Invalid number. Cannot calculate square root of a negative number.\n"
     ]
    }
   ],
   "source": [
    "#Q6. Create a custom exception class . Use this class to handle an exception.\n",
    "\n",
    "#Answer:- \n",
    "class CustomException(Exception):\n",
    "    def __init__(self, message):\n",
    "        self.message = message\n",
    "\n",
    "    def __str__(self):\n",
    "        return self.message\n",
    "\n",
    "\n",
    "def calculate_square_root(number):\n",
    "    if number < 0:\n",
    "        raise CustomException(\"Invalid number. Cannot calculate square root of a negative number.\")\n",
    "    else:\n",
    "        return number ** 0.5\n",
    "\n",
    "\n",
    "try:\n",
    "    number = -9\n",
    "    result = calculate_square_root(number)\n",
    "    print(\"Square root:\", result)\n",
    "except CustomException as e:\n",
    "    print(\"Error:\", str(e))\n"
   ]
  },
  {
   "cell_type": "code",
   "execution_count": null,
   "id": "f05ce1f7-99fd-4cb6-8a4a-4b331ecaa657",
   "metadata": {},
   "outputs": [],
   "source": []
  }
 ],
 "metadata": {
  "kernelspec": {
   "display_name": "Python 3 (ipykernel)",
   "language": "python",
   "name": "python3"
  },
  "language_info": {
   "codemirror_mode": {
    "name": "ipython",
    "version": 3
   },
   "file_extension": ".py",
   "mimetype": "text/x-python",
   "name": "python",
   "nbconvert_exporter": "python",
   "pygments_lexer": "ipython3",
   "version": "3.10.8"
  }
 },
 "nbformat": 4,
 "nbformat_minor": 5
}
