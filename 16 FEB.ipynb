{
 "cells": [
  {
   "cell_type": "code",
   "execution_count": 1,
   "id": "168f7c19-f199-4b3a-907a-ad1c2162ab7d",
   "metadata": {},
   "outputs": [],
   "source": [
    "#Q1. What is a database? Differentiate between SQL and NoSQL databases.\n",
    "\n",
    "\n",
    "\n",
    "#ANSWER:--  #A database is an organized collection of data that is stored and managed in a structured manner. It provides a way to store, retrieve, update, and manage data efficiently. Databases can be broadly classified into two categories: SQL and NoSQL.\n",
    "\n",
    "            #SQL (Structured Query Language) databases are based on a relational model and use structured schemas to define the data. They store data in tables with predefined columns and rows, and relationships between tables are established using keys. SQL databases ensure data integrity, support ACID (Atomicity, Consistency, Isolation, Durability) properties, and provide a standardized query language (SQL) for accessing and manipulating data. Examples of SQL databases include MySQL, PostgreSQL, Oracle, and SQL Server.\n",
    "\n",
    "            #NoSQL (Not Only SQL) databases, on the other hand, offer a flexible data model and do not rely on structured schemas. They can store unstructured, semi-structured, or structured data. NoSQL databases are designed to handle large amounts of data with high scalability and performance. They are often used for handling dynamic, rapidly changing data and can be horizontally scaled across multiple servers. NoSQL databases come in various forms, including key-value stores, document databases, columnar databases, and graph databases. Examples of NoSQL databases include MongoDB, Cassandra, Redis, and Neo4j.\n",
    "\n",
    "            #The choice between SQL and NoSQL databases depends on the specific requirements of the application, such as the nature of the data, scalability needs, performance requirements, and the level of data consistency required."
   ]
  },
  {
   "cell_type": "code",
   "execution_count": 9,
   "id": "d0d754a2-cbdf-490e-ab7e-632b40ed65b5",
   "metadata": {},
   "outputs": [],
   "source": [
    "#Q2. What is DDL? Explain why CREATE, DROP, ALTER, and TRUNCATE are used with an example.\n",
    "\n",
    "#ANSWER:-- DDL (Data Definition Language) is a subset of SQL used to define and manage the structure of database objects. It consists of statements for creating, altering, and dropping database schemas, tables, indexes, and other objects.\n",
    "\n",
    "    #1.  CREATE: The CREATE statement is used to create new database objects. \n",
    "    \n",
    "        #Example:- CREATE TABLE Student ( id INT PRIMARY KEY,name VARCHAR(50), age INT);\n",
    "   \n",
    "    #2. DROP: The DROP statement is used to remove existing database objects. \n",
    "\n",
    "        #Example:- DROP TABLE Student;\n",
    "\n",
    "    #3. ALTER: The ALTER statement is used to modify the structure of existing database objects. It allows you to add, modify, or delete columns from a table, change data types, or rename objects.\n",
    "    \n",
    "        #Example:- ALTER TABLE Student ADD COLUMN email VARCHAR(100);\n",
    "        \n",
    "    #4. TRUNCATE: The TRUNCATE statement is used to remove all data from a table, but it keeps the table structure intact. Unlike the DELETE statement, which deletes rows one by one, TRUNCATE quickly removes all rows from a table.\n",
    "    \n",
    "        #Example:- TRUNCATE TABLE Student;\n",
    "\n",
    "\n",
    "    "
   ]
  },
  {
   "cell_type": "code",
   "execution_count": 10,
   "id": "f23548cc-3f35-4f7c-a051-1f46e9075c65",
   "metadata": {},
   "outputs": [],
   "source": [
    "#Q3. What is DML? Explain INSERT, UPDATE, and DELETE with an example.\n",
    "\n",
    "#ANSWER:-- DML (Data Manipulation Language) is a subset of SQL used to manipulate and retrieve data within the database.\n",
    "\n",
    "    #INSERT: The INSERT statement is used to add new records (rows) into a table. It allows you to specify the column names and values for the new row.\n",
    "        #Example:-  INSERT INTO Student (id, name, age) VALUES (1, 'Jaynedra', 30);\n",
    "    \n",
    "    \n",
    "    #UPDATE: The UPDATE statement is used to modify existing records in a table. It allows you to change the values of one or more columns based on specified conditions. \n",
    "        #Example:- UPDATE Student SET age = 31 WHERE id = 1;\n",
    "    \n",
    "    \n",
    "    #DELETE: The DELETE statement is used to remove records from a table based on specified conditions. It allows you to selectively delete rows from a table. \n",
    "        #Example:- DELETE FROM Student WHERE id = 1;"
   ]
  },
  {
   "cell_type": "code",
   "execution_count": 11,
   "id": "9a144951-12ae-4d8e-8e41-7a78af93dbbe",
   "metadata": {},
   "outputs": [],
   "source": [
    "#Q4. What is DQL? Explain SELECT with an example.\n",
    "\n",
    "#ANSWER:- DQL (Data Query Language) is a subset of SQL used to retrieve data from a database.\n",
    "        #SELECT: The SELECT statement is used to retrieve data from one or more tables in a database. It allows you to specify the columns to be retrieved, apply filters with conditions, and perform various operations on the data. \n",
    "            \n",
    "        #Example:-  SELECT * FROM Employees;\n"
   ]
  },
  {
   "cell_type": "code",
   "execution_count": 5,
   "id": "cf1c540b-2085-4fae-962f-14297408ca74",
   "metadata": {},
   "outputs": [],
   "source": [
    "#Q5. Explain Primary Key and Foreign Key.\n",
    "#ANSWER:-   #1. Primary Key: A primary key is a column or a set of columns in a table that uniquely identifies each row in the table. It ensures the integrity and uniqueness of the data. The primary key constraint prevents duplicate and null values in the key column(s). Typically, a primary key is chosen from existing candidate keys in a table. In relational databases, primary keys are used to establish relationships between tables through foreign keys.\n",
    "\n",
    "            #2. Foreign Key: A foreign key is a column or a set of columns in a table that refers to the primary key of another table. It creates a relationship between two tables, allowing data in one table to reference data in another table. The foreign key constraint ensures referential integrity, meaning that the values in the foreign key column(s) must match values in the referenced primary key column(s) or be null. By using foreign keys, you can establish relationships and enforce data consistency across tables."
   ]
  },
  {
   "cell_type": "code",
   "execution_count": null,
   "id": "94177149-30c9-4a10-aa5a-f7ce2a132bdb",
   "metadata": {},
   "outputs": [],
   "source": [
    "#6. Write a python code to connect MySQL to python. Explain the cursor() and execute() method.\n",
    "import mysql.connector\n",
    "mydb = mysql.connector.connect(\n",
    "  host=\"localhost\",\n",
    "  user=\"abc\",\n",
    "  password=\"password\"\n",
    ")\n",
    "mycursor = mydb.cursor()\n",
    "mycursor.execute(\"CREATE TABLE if not exists test4.test_table(c1 INT , C2 INT , C3 INT , C4 INT , C5 INT)\n",
    "mydb.close()"
   ]
  },
  {
   "cell_type": "code",
   "execution_count": null,
   "id": "9c215fcb-dbe1-471c-9ada-cf34d6d96d4e",
   "metadata": {},
   "outputs": [],
   "source": [
    "#Q7. Give the order of execution of SQL clauses in an SQL query.\n",
    "\n",
    "#ANSWER:-\n",
    "\n",
    "#1\tFROM\t         (Tables are joined to get the base data.)\n",
    "#2\tWHERE\t         (The base data is filtered.)\n",
    "#3\tGROUP BY         (The filtered base data is grouped.)\n",
    "#4\tHAVING\t         (The grouped base data is filtered.)\n",
    "#5\tSELECT\t         (The final data is returned.)\n",
    "#6\tORDER BY\t     (The final data is sorted.)\n",
    "#7\tLIMIT          \t(The returned data is limited to row count.)\n"
   ]
  },
  {
   "cell_type": "code",
   "execution_count": null,
   "id": "2169ff27-ae26-41b5-94aa-6a25e3893a63",
   "metadata": {},
   "outputs": [],
   "source": []
  }
 ],
 "metadata": {
  "kernelspec": {
   "display_name": "Python 3 (ipykernel)",
   "language": "python",
   "name": "python3"
  },
  "language_info": {
   "codemirror_mode": {
    "name": "ipython",
    "version": 3
   },
   "file_extension": ".py",
   "mimetype": "text/x-python",
   "name": "python",
   "nbconvert_exporter": "python",
   "pygments_lexer": "ipython3",
   "version": "3.10.8"
  }
 },
 "nbformat": 4,
 "nbformat_minor": 5
}
