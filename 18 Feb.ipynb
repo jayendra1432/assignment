{
 "cells": [
  {
   "attachments": {},
   "cell_type": "markdown",
   "metadata": {},
   "source": [
    "# **`API ASSIGNMENT`**"
   ]
  },
  {
   "attachments": {},
   "cell_type": "markdown",
   "metadata": {},
   "source": [
    "`Q1. What is an API? Give an example, where an API is used in real life.`"
   ]
  },
  {
   "attachments": {},
   "cell_type": "markdown",
   "metadata": {},
   "source": [
    "An application programming interface `(API)` is a way for two or more computer programs to communicate with each other. It is a type of software interface, offering a service to other pieces of software.A document or standard that describes how to build or use such a connection or interface is called an API specification. A computer system that meets this standard is said to implement or expose an API. The term API may refer either to the specification or to the implementation.\n",
    "\n",
    "An API operates as a bridge between internal and external software operations, allowing for a fluid interchange of data that frequently passes undetected by the end-user. Simply said, an API acts as a virtual middleman, transferring data from one interface, such as a mobile app, to another. APIs connect various sections of a software platform to guarantee that information is sent correctly. These connection points serve as an internal communication route, and a way for external tools to access the same data. As a result, APIs may be classified into two types:\n",
    "\n",
    "- Private APIs: A private API is only available to developers and users within a company. These APIs are often used to link internal team operations to remove silos and streamline communication.\n",
    "- Open APIs: On the other hand, open APIs allow third-party developers to quickly access and merge data from one tool to another. An open or public API saves time for developers by allowing them to link their platform with already existing tools, minimizing the need to construct new services.\n",
    "\n",
    "Here are a list of API real life use cases\n",
    "1. Google Search, Apple's Weather app, and even your smart home device\n",
    "2. log in with Facebook/Twitter/Google/GitHub\n",
    "3. Pay with PayPal, Gpay, Phonepe, BHIM and other payment apps\n",
    "4. Twitter Bots, Netflix Bot, Grammar police\n",
    "5. Travel Booking\n",
    "6. Google maps (one of the best)\n",
    "7. Okta - Multi Factor Authentication\n",
    "8. Restaurants - include pertinent restaurant and dining information Eg. Zomato, Swiggy\n",
    "9. Blogging\n",
    "\n",
    "\n"
   ]
  },
  {
   "attachments": {},
   "cell_type": "markdown",
   "metadata": {},
   "source": [
    "`Q2. Give advantages and disadvantages of using API.`"
   ]
  },
  {
   "attachments": {},
   "cell_type": "markdown",
   "metadata": {},
   "source": [
    "`Advantages`\n",
    "- Offers internet-based connectivity\n",
    "- Communication is two-way with confirmations included within the transaction sets\n",
    "- Since communication is two-way APIs offer reliable transaction sets\n",
    "- The end product offers user-friendly experiences improving internal and external user satisfaction\n",
    "- Provides evolving functionality as developers find new uses for API exchanges\n",
    "\n",
    "\n",
    "`Disadvantages`\n",
    "- Implementing and providing API capabilities can be costly in terms of development times, ongoing maintenance requirements, and providing support.\n",
    "- Scaling API requires extensive programming knowledge and the learning curve can fairly steep when understanding how to extend the capabilities of your API framework.\n",
    "- Security can be a concern as APIs add another potential attack layer to programs/websites. As a single point of entry, an API is a gateway and can become a hacker's primary target. Once the API is compromised, all other applications and systems become vulnerable.Nine of the top ten vulnerabilities listed in the OWASP Top 10 now mention APIs\n",
    "-  APIs are vulnerable to man-in-the-middle attacks, CSRF attacks, XSS attacks, SQL injection, and DDoS attacks."
   ]
  },
  {
   "attachments": {},
   "cell_type": "markdown",
   "metadata": {},
   "source": [
    "`Q3. What is a Web API? Differentiate between API and Web API.`"
   ]
  },
  {
   "attachments": {},
   "cell_type": "markdown",
   "metadata": {},
   "source": [
    "Web API is an API as the name suggests, it can be accessed over the web using the HTTP protocol. It is a framework that helps you to create and develop HTTP based RESTFUL services. The web API can be developed by using different technologies such as java, ASP.NET, etc. Web API is used in either a web server or a web browser. Basically Web API is a web development concept. It is limited to Web Application’s client-side and also it does not include a web server or web browser details. If an application is to be used on a distributed system and to provide services on different devices like laptops, mobiles, etc then web API services are used. Web API is the enhanced form of the web application.\n",
    "\n",
    "API is an interface that exposes an application's data to outside software, whereas web API are one type of API with stricter requirements. These requirements include network communication, SOAP as the primary protocol, and less accessibility for the public\n",
    "\n"
   ]
  },
  {
   "attachments": {},
   "cell_type": "markdown",
   "metadata": {},
   "source": [
    "`Q4. Explain REST and SOAP Architecture. Mention shortcomings of SOAP.`"
   ]
  },
  {
   "attachments": {},
   "cell_type": "markdown",
   "metadata": {},
   "source": [
    "`REST` and `SOAP` are 2 different approaches to online data transmission. Specifically, both define how to build application programming interfaces (APIs), which allow data to be communicated between web applications. `Representational state transfer` (REST) is a set of architectural principles. `Simple object access protocol` (SOAP) is an official protocol maintained by the World Wide Web Consortium (W3C). The main difference is that SOAP is a protocol while REST is not. Typically, an API will adhere to either REST or SOAP, depending on the use case and preferences of the developer.\n",
    "\n",
    "**`REST: representational state transfer`**\n",
    "\n",
    "REST is a set of architectural principles attuned to the needs of lightweight web services and mobile applications. Because it's a set of guidelines, it leaves the implementation of these recommendations to developers.\n",
    "\n",
    "When a request for data is sent to a REST API, it’s usually done through hypertext transfer protocol (commonly referred to as HTTP). Once a request is received, APIs designed for REST (called RESTful APIs or RESTful web services) can return messages in a variety of formats: HTML, XML, plain text, and JSON. JSON (JavaScript object notation) is favored as a message format because it can be read by any programming language (despite the name), is human- and machine-readable, and is lightweight. In this way, RESTful APIs are more flexible and can be easier to set up.\n",
    "\n",
    "An application is said to be RESTful if it follows 6 architectural guidelines. A RESTful application must have:\n",
    "\n",
    "1. A client-server architecture composed of clients, servers, and resources.\n",
    "2. Stateless client-server communication, meaning no client content is stored on the server between requests. Information about the session’s state is instead held with the client.\n",
    "3. Cacheable data to eliminate the need for some client-server interactions.\n",
    "4. A uniform interface between components so that information is transferred in a standardized form instead of specific to an application’s needs. This is described by Roy Fielding, the originator of REST, as “the central feature that distinguishes the REST architectural style from other network-based styles.”\n",
    "6. A layered system constraint, where client-server interactions can be mediated by hierarchical layers.\n",
    "Code on demand, allowing servers to extend the functionality of a client by transferring executable code (though also reducing visibility, making this an optional guideline).\n",
    "\n",
    "**`SOAP: simple object access protocol`**\n",
    "\n",
    "SOAP is a standard protocol that was first designed so that applications built with different languages and on different platforms could communicate. Because it is a protocol, it imposes built-in rules that increase its complexity and overhead, which can lead to longer page load times. However, these standards also offer built-in compliances that can make it preferable for enterprise scenarios. The built-in compliance standards include security, atomicity, consistency, isolation, and durability (ACID), which is a set of properties for ensuring reliable database transactions.\n",
    "\n",
    "Common web service specifications include:\n",
    "\n",
    "- **Web services security (WS-security)**: Standardizes how messages are secured and transferred through unique identifiers called tokens.\n",
    "- **WS-ReliableMessaging**: Standardizes error handling between messages transferred across unreliable IT infrastructure.\n",
    "- **Web services addressing (WS-addressing)**: Packages routing information as metadata within SOAP headers, instead of maintaining such information deeper within the network.\n",
    "- **Web services description language (WSDL)**: Describes what a web service does, and where that service begins and ends.\n",
    "\n",
    "When a request for data is sent to a SOAP API, it can be handled through any of the application layer protocols: HTTP (for web browsers), SMTP (for email), TCP, and others. However, once a request is received, return SOAP messages must be returned as XML documents—a markup language that is both human- and machine-readable. A completed request to a SOAP API is not cacheable by a browser, so it cannot be accessed later without resending to the API.\n",
    "\n",
    "--[source](https://www.redhat.com/en/topics/integration/whats-the-difference-between-soap-rest#:~:text=REST%20is%20a%20set%20of%20guidelines%20that%20offers%20flexible%20implementation,application%20development%2C%20and%20serverless%20computing.)\n",
    "\n",
    "`SHORTCOMINGS OF SOAP`:\n",
    "1. ***Highly complex*** : In comparison to Rest, SOAP is significantly more complex. It's also less flexible. This might present a challenge for developers that are not highly skilled. The extensive processing required may also slow down performance.\n",
    "2. ***No variety of data formats*** : SOAP is also extremely limited in its support of data formats. The formats supported by Rest include HTML, JSON, YAML, XML and others. Meanwhile, SOAP only supports XML.\n",
    "3. ***API calls are not cached*** : The process where a request is sent after an API is set up with the correct endpoints is referred to as an API call. The process results in the information being transferred, processed and feedback being provided. It's not possible for SOAP API calls to be cached.\n",
    "4. ***Uses more bandwidth*** : SOAP is generally slower in comparison to Rest and it also uses more bandwidth given its very complex nature. It’s another limiting factor in the efficacy of this technology for certain projects."
   ]
  },
  {
   "attachments": {},
   "cell_type": "markdown",
   "metadata": {},
   "source": [
    "`Q5. Differentiate between REST and SOAP.`"
   ]
  },
  {
   "attachments": {},
   "cell_type": "markdown",
   "metadata": {},
   "source": [
    "|SOAP API|REST API|\n",
    "|----|----|\n",
    "|Relies on SOAP (Simple Object Access Protocol)\t|Relies on REST (Representational State Transfer) architecture using HTTP.|\n",
    "|Transports data in standard XML format.|Generally transports data in JSON. It is based on URI.  Because REST follows stateless model,</br> REST does not enforces message format as XML or JSON etc.|\n",
    "|Because it is XML based and relies on SOAP, it works with WSDL\t|It works with GET, POST, PUT, DELETE|\n",
    "|Works over HTTP, HTTPS, SMTP, XMPP\t|Works over HTTP and HTTPS|\n",
    "|Highly structured/typed\t|Less structured -> less bulky data|\n",
    "|Designed with large enterprise applications in mind\t|Designed with mobile devices in mind|"
   ]
  },
  {
   "attachments": {},
   "cell_type": "markdown",
   "metadata": {},
   "source": [
    "<img src=\"https://ipwithease.com/wp-content/uploads/2021/06/rest-vs-soap-table-new.jpg\" alt = \"Difference between SOAP and REST Architecture\" width = '1000'>"
   ]
  }
 ],
 "metadata": {
  "kernelspec": {
   "display_name": "base",
   "language": "python",
   "name": "python3"
  },
  "language_info": {
   "name": "python",
   "version": "3.9.16"
  },
  "orig_nbformat": 4,
  "vscode": {
   "interpreter": {
    "hash": "c370489388e782aa9b6373b0856d4a71cb56f2a887cc53048a8e75b66b592545"
   }
  }
 },
 "nbformat": 4,
 "nbformat_minor": 2
}
