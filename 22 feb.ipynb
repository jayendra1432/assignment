{
 "cells": [
  {
   "cell_type": "code",
   "execution_count": 5,
   "id": "bcbd12b4-bbea-4e49-b494-5e262c95e520",
   "metadata": {},
   "outputs": [
    {
     "name": "stdout",
     "output_type": "stream",
     "text": [
      "0     4\n",
      "1     8\n",
      "2    15\n",
      "3    16\n",
      "4    23\n",
      "5    42\n",
      "dtype: int64\n"
     ]
    }
   ],
   "source": [
    "##Q1. Create a Pandas Series that contains the following data: 4, 8, 15, 16, 23, and 42. Then, print the series.\n",
    "\n",
    "import pandas as pd\n",
    "\n",
    "data = [4,8,15,16,23,42]\n",
    "\n",
    "my = pd.Series(data)\n",
    "\n",
    "print(my)"
   ]
  },
  {
   "cell_type": "code",
   "execution_count": 13,
   "id": "2570bd80-7604-44d1-9520-726a45651d4c",
   "metadata": {},
   "outputs": [
    {
     "name": "stdout",
     "output_type": "stream",
     "text": [
      "0     1\n",
      "1     2\n",
      "2     3\n",
      "3     4\n",
      "4     5\n",
      "5     6\n",
      "6     7\n",
      "7     8\n",
      "8     9\n",
      "9    10\n",
      "dtype: int64\n"
     ]
    }
   ],
   "source": [
    "##Q2. Create a variable of list type containing 10 elements in it, and apply pandas.Series function on the variable print it.\n",
    "\n",
    "import pandas as pd\n",
    "\n",
    "list = [1,2,3,4,5,6,7,8,9,10]\n",
    "my_serise = pd.Series(list)\n",
    "\n",
    "print(my_serise)"
   ]
  },
  {
   "cell_type": "code",
   "execution_count": 20,
   "id": "62aa5825-0a4d-4a6c-9bd3-149648a10f46",
   "metadata": {},
   "outputs": [
    {
     "name": "stdout",
     "output_type": "stream",
     "text": [
      "     Name  Age  Gender\n",
      "0   Alice   25  Female\n",
      "1     Bob   30    Male\n",
      "2  Claire   27  Female\n"
     ]
    }
   ],
   "source": [
    "##Q3. Create a Pandas DataFrame that contains the following data:\n",
    "\n",
    "import pandas as pd\n",
    "\n",
    "data = { 'Name' : ['Alice','Bob','Claire'],\n",
    "        'Age' : [25,30,27],\n",
    "        'Gender' : ['Female','Male','Female']}\n",
    "\n",
    "df = pd.DataFrame(data)\n",
    "print(df)"
   ]
  },
  {
   "cell_type": "code",
   "execution_count": 31,
   "id": "7ed6ad9c-b3cd-4545-afe5-16eb590ef4d1",
   "metadata": {},
   "outputs": [
    {
     "name": "stdout",
     "output_type": "stream",
     "text": [
      "     Name  Age  Gender\n",
      "0   Alice   25  Female\n",
      "1     Bob   30    Male\n",
      "2  Claire   27  Female\n",
      "0     2\n",
      "1     3\n",
      "2    45\n",
      "3    67\n",
      "4    88\n",
      "5     6\n",
      "dtype: int64\n"
     ]
    }
   ],
   "source": [
    "##Q4. What is ‘DataFrame’ in pandas and how is it different from pandas.series? Explain with an example.\\\n",
    "##Answer:- In pandas, a DataFrame is a two-dimensional labeled data structure that can hold data of different types (numeric, string, boolean, etc.). It is similar to a table or spreadsheet in which the data is organized in rows and columns. A DataFrame consists of columns, each representing a different variable, and rows, which represent individual observations or records.\n",
    "    ##On the other hand, a Series is a one-dimensional labeled array that can hold data of any type. It can be seen as a single column of a DataFrame. A Series has an index, which labels each element, allowing for easy and efficient access to the data.\n",
    "\n",
    "    #Example: DataFrame\n",
    "\n",
    "import pandas as pd\n",
    "\n",
    "\n",
    "    #Example: Series\n",
    "    \n",
    "import pandas as pd\n",
    "\n",
    "data = [2,3,45,67,88,6]\n",
    "\n",
    "my = pd.Series(data)\n",
    "\n",
    "print(my)\n",
    "\n"
   ]
  },
  {
   "cell_type": "code",
   "execution_count": 37,
   "id": "1b3081dd-81ac-4a70-bf66-42bedb8dd0c8",
   "metadata": {},
   "outputs": [
    {
     "name": "stdout",
     "output_type": "stream",
     "text": [
      "    Name  Age  Gender\n",
      "0  Alice   25  Female\n",
      "1    Bob   30    Male\n"
     ]
    }
   ],
   "source": [
    "##Q5. What are some common functions you can use to manipulate data in a Pandas DataFrame? Can you give an example of when you might use one of these functions?\n",
    "\n",
    "#Answer: Pandas provides a wide range of functions to manipulate data in a DataFrame. Here are some common functions:\n",
    "        ## head() tail() info() drop() merge() join() describe() groupby() sort_values() apply()\n",
    "    \n",
    "##Example: \n",
    "import pandas as pd\n",
    "\n",
    "\n",
    "data = { 'Name' : ['Alice','Bob','Claire'],\n",
    "        'Age' : [25,30,27],\n",
    "        'Gender' : ['Female','Male','Female']}\n",
    "\n",
    "df4 = pd.DataFrame(data)\n",
    "\n",
    "my_data1 = df4.head(2)\n",
    "\n",
    "print(my_data1)\n"
   ]
  },
  {
   "cell_type": "code",
   "execution_count": 38,
   "id": "cc713795-a990-47f1-ba99-954bada05b00",
   "metadata": {},
   "outputs": [],
   "source": [
    "##Q6. Which of the following is mutable in nature Series, DataFrame, Panel?\n",
    "\n",
    "##Answer: Series and DataFrame in pandas are mutable in nature, meaning they can be modified after creation. However, Panel is not mutable."
   ]
  },
  {
   "cell_type": "code",
   "execution_count": 42,
   "id": "0ba5b106-7459-46d4-97f6-1cc65b2e88be",
   "metadata": {},
   "outputs": [
    {
     "name": "stdout",
     "output_type": "stream",
     "text": [
      "        NAME  AGE GENDER\n",
      "0   jayendra   22      M\n",
      "1       sudh   44      M\n",
      "2  trivendra   23      M\n",
      "3     subham   43      M\n"
     ]
    }
   ],
   "source": [
    "##Q7. Create a DataFrame using multiple Series. Explain with an example.\n",
    "\n",
    "import pandas as pd \n",
    "\n",
    "name = [\"jayendra\", \"sudh\" , \"trivendra\", \"subham\"]\n",
    "age = [22,44,23,43]\n",
    "gender = ['M', 'M' , 'M', 'M']\n",
    "\n",
    "\n",
    "name_series = pd.Series(name)\n",
    "age_series = pd.Series(age)\n",
    "gender_series = pd.Series(gender)\n",
    "\n",
    "df = pd.DataFrame({\"NAME\" : name_series,\n",
    "                  \"AGE\" : age_series,\n",
    "                  \"GENDER\" : gender_series})\n",
    "\n",
    "print(df)"
   ]
  },
  {
   "cell_type": "code",
   "execution_count": null,
   "id": "db74d03e-4511-4778-8257-98852c622a0d",
   "metadata": {},
   "outputs": [],
   "source": []
  }
 ],
 "metadata": {
  "kernelspec": {
   "display_name": "Python 3 (ipykernel)",
   "language": "python",
   "name": "python3"
  },
  "language_info": {
   "codemirror_mode": {
    "name": "ipython",
    "version": 3
   },
   "file_extension": ".py",
   "mimetype": "text/x-python",
   "name": "python",
   "nbconvert_exporter": "python",
   "pygments_lexer": "ipython3",
   "version": "3.10.8"
  }
 },
 "nbformat": 4,
 "nbformat_minor": 5
}
