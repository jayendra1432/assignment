{
 "cells": [
  {
   "cell_type": "markdown",
   "id": "5f2645df",
   "metadata": {},
   "source": [
    "\n"
   ]
  },
  {
   "cell_type": "code",
   "execution_count": 47,
   "id": "7c92cd64",
   "metadata": {},
   "outputs": [],
   "source": [
    "import numpy as np\n",
    "list_ = [ '1','2','3','4','5' ]\n",
    "array_list = np.array(object = list_)"
   ]
  },
  {
   "cell_type": "markdown",
   "id": "69e04766",
   "metadata": {},
   "source": [
    "#Q1. Is there any difference in the data type of variables list_ and array_list? If there is then write a code\n",
    "to print the data types of both the variables."
   ]
  },
  {
   "cell_type": "markdown",
   "id": "7fc0dc2e",
   "metadata": {},
   "source": [
    "Yes there is a difference\n",
    "\n",
    "A list in Python is a collection of items which can contain elements of multiple data types, which may be either numeric, character logical values, etc. \n",
    "\n",
    "An array is a vector containing homogeneous elements i.e. belonging to the same data type. Elements are allocated with contiguous memory locations allowing easy modification, that is, addition, deletion, accessing of elements. Numpy arrays are ndarrays which means they are n dimensional arrays "
   ]
  },
  {
   "cell_type": "code",
   "execution_count": 48,
   "id": "d2808c51",
   "metadata": {},
   "outputs": [
    {
     "name": "stdout",
     "output_type": "stream",
     "text": [
      "<class 'list'>\n",
      "<class 'numpy.ndarray'>\n"
     ]
    }
   ],
   "source": [
    "print(type(list_))\n",
    "print(type(array_list))"
   ]
  },
  {
   "cell_type": "markdown",
   "id": "5ff04a54",
   "metadata": {},
   "source": [
    "#Q2. Write a code to print the data type of each and every element of both the variables list_ and arra_list."
   ]
  },
  {
   "cell_type": "code",
   "execution_count": 49,
   "id": "1ccaed4e",
   "metadata": {},
   "outputs": [
    {
     "name": "stdout",
     "output_type": "stream",
     "text": [
      "1 <class 'str'>\n",
      "2 <class 'str'>\n",
      "3 <class 'str'>\n",
      "4 <class 'str'>\n",
      "5 <class 'str'>\n",
      "1 <class 'numpy.str_'>\n",
      "2 <class 'numpy.str_'>\n",
      "3 <class 'numpy.str_'>\n",
      "4 <class 'numpy.str_'>\n",
      "5 <class 'numpy.str_'>\n"
     ]
    }
   ],
   "source": [
    "for i in list_:\n",
    "    print(i,type(i))\n",
    "for i in array_list:\n",
    "    print(i,type(i))"
   ]
  },
  {
   "cell_type": "markdown",
   "id": "842224a8",
   "metadata": {},
   "source": [
    "#Q3. Considering the following changes in the variable, array_list:"
   ]
  },
  {
   "cell_type": "code",
   "execution_count": 50,
   "id": "78c13200",
   "metadata": {},
   "outputs": [],
   "source": [
    "array_list = np.array(object = list_, dtype = int)"
   ]
  },
  {
   "cell_type": "markdown",
   "id": "7f27779f",
   "metadata": {},
   "source": [
    "`Will there be any difference in the data type of the elements present in both the variables, list_ and\n",
    "arra_list? If so then print the data types of each and every element present in both the variables, list_\n",
    "and arra_list.`"
   ]
  },
  {
   "cell_type": "markdown",
   "id": "05f3e421",
   "metadata": {},
   "source": [
    "Yes, there is a difference. Elements in list_ are of string type. But elements in arr_list will be integer type"
   ]
  },
  {
   "cell_type": "code",
   "execution_count": 51,
   "id": "f3c9ce72",
   "metadata": {},
   "outputs": [
    {
     "name": "stdout",
     "output_type": "stream",
     "text": [
      "1 <class 'str'>\n",
      "2 <class 'str'>\n",
      "3 <class 'str'>\n",
      "4 <class 'str'>\n",
      "5 <class 'str'>\n",
      "1 <class 'numpy.int64'>\n",
      "2 <class 'numpy.int64'>\n",
      "3 <class 'numpy.int64'>\n",
      "4 <class 'numpy.int64'>\n",
      "5 <class 'numpy.int64'>\n"
     ]
    }
   ],
   "source": [
    "for i in list_:\n",
    "    print(i,type(i))\n",
    "for i in array_list:\n",
    "    print(i,type(i))"
   ]
  },
  {
   "cell_type": "code",
   "execution_count": 52,
   "id": "3f0c0892",
   "metadata": {},
   "outputs": [],
   "source": [
    "#Consider the below code to answer further questions:\n",
    "import numpy as np\n",
    "num_list = [ [ 1 , 2 , 3 ] , [ 4 , 5 , 6 ] ]\n",
    "num_array = np.array(object = num_list)"
   ]
  },
  {
   "cell_type": "markdown",
   "id": "fb0a8a5e",
   "metadata": {},
   "source": [
    "#Q4. Write a code to find the following characteristics of variable, num_array:<br>\n",
    "(i) shape<br>\n",
    "(ii) size<br>"
   ]
  },
  {
   "cell_type": "code",
   "execution_count": 53,
   "id": "4b0627f5",
   "metadata": {},
   "outputs": [
    {
     "name": "stdout",
     "output_type": "stream",
     "text": [
      "Shape is: (2, 3)\n",
      "Size is: 6\n"
     ]
    }
   ],
   "source": [
    "print(\"Shape is:\",num_array.shape)\n",
    "print(\"Size is:\",num_array.size)"
   ]
  },
  {
   "cell_type": "markdown",
   "id": "88e5bf70",
   "metadata": {},
   "source": [
    "#Q5. Write a code to create numpy array of 3*3 matrix containing zeros only, using a numpy array\n",
    "creation function.\n",
    "[Hint: The size of the array will be 9 and the shape will be (3,3).]"
   ]
  },
  {
   "cell_type": "code",
   "execution_count": 54,
   "id": "5e44130a",
   "metadata": {},
   "outputs": [
    {
     "data": {
      "text/plain": [
       "array([[0., 0., 0.],\n",
       "       [0., 0., 0.],\n",
       "       [0., 0., 0.]])"
      ]
     },
     "execution_count": 54,
     "metadata": {},
     "output_type": "execute_result"
    }
   ],
   "source": [
    "np.zeros((3,3))"
   ]
  },
  {
   "cell_type": "markdown",
   "id": "2e3eb8cf",
   "metadata": {},
   "source": [
    "#Q6. Create an identity matrix of shape (5,5) using numpy functions?\n",
    "[Hint: An identity matrix is a matrix containing 1 diagonally and other elements will be 0.]"
   ]
  },
  {
   "cell_type": "code",
   "execution_count": 55,
   "id": "f8d5aa62",
   "metadata": {},
   "outputs": [
    {
     "data": {
      "text/plain": [
       "array([[1., 0., 0., 0., 0.],\n",
       "       [0., 1., 0., 0., 0.],\n",
       "       [0., 0., 1., 0., 0.],\n",
       "       [0., 0., 0., 1., 0.],\n",
       "       [0., 0., 0., 0., 1.]])"
      ]
     },
     "execution_count": 55,
     "metadata": {},
     "output_type": "execute_result"
    }
   ],
   "source": [
    "np.eye(5)"
   ]
  },
  {
   "cell_type": "code",
   "execution_count": null,
   "id": "a5996d01-4a95-4d13-a4c9-36801b0ee6d6",
   "metadata": {},
   "outputs": [],
   "source": []
  },
  {
   "cell_type": "code",
   "execution_count": null,
   "id": "56b4740a-b142-404f-9f3e-77fc23680ba4",
   "metadata": {},
   "outputs": [],
   "source": []
  },
  {
   "cell_type": "code",
   "execution_count": null,
   "id": "526d11e9-b7b8-4c50-923a-7dd5489d2ba1",
   "metadata": {},
   "outputs": [],
   "source": []
  },
  {
   "cell_type": "code",
   "execution_count": null,
   "id": "8d051888-71d5-4c34-9341-9737ac8fd2c8",
   "metadata": {},
   "outputs": [],
   "source": []
  },
  {
   "cell_type": "code",
   "execution_count": null,
   "id": "bba7114a-5dbd-4752-8e04-a9e7d7accbbd",
   "metadata": {},
   "outputs": [],
   "source": []
  },
  {
   "cell_type": "code",
   "execution_count": null,
   "id": "c981870a-3a55-4503-9a0e-339152f530b4",
   "metadata": {},
   "outputs": [],
   "source": []
  }
 ],
 "metadata": {
  "kernelspec": {
   "display_name": "Python 3 (ipykernel)",
   "language": "python",
   "name": "python3"
  },
  "language_info": {
   "codemirror_mode": {
    "name": "ipython",
    "version": 3
   },
   "file_extension": ".py",
   "mimetype": "text/x-python",
   "name": "python",
   "nbconvert_exporter": "python",
   "pygments_lexer": "ipython3",
   "version": "3.10.8"
  }
 },
 "nbformat": 4,
 "nbformat_minor": 5
}
