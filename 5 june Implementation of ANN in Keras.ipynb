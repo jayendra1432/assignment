{
 "cells": [
  {
   "cell_type": "code",
   "execution_count": 7,
   "metadata": {},
   "outputs": [],
   "source": [
    "# Importing Libraries\n",
    "import tensorflow as tf\n",
    "import matplotlib.pyplot as plt\n",
    "import numpy as np\n",
    "import pandas as pd\n",
    "import seaborn as sns"
   ]
  },
  {
   "cell_type": "markdown",
   "metadata": {},
   "source": [
    "Q1. Install and load the latest versions of TensorFlow and Keras. Print their versions."
   ]
  },
  {
   "cell_type": "code",
   "execution_count": null,
   "metadata": {},
   "outputs": [],
   "source": [
    "#checking version of tensorflow and keras\n",
    "print(f\"Tensorflow Version {tf.__version__}\")\n",
    "print(f\"Keras Version {tf.keras.__version__}\")"
   ]
  },
  {
   "cell_type": "markdown",
   "metadata": {},
   "source": [
    "Q2. Load the Wine Quality dataset and explore its dimensions."
   ]
  },
  {
   "cell_type": "code",
   "execution_count": 29,
   "metadata": {},
   "outputs": [],
   "source": [
    "# reading the dataset\n",
    "df = pd.read_csv('wine.csv')"
   ]
  },
  {
   "cell_type": "code",
   "execution_count": 30,
   "metadata": {},
   "outputs": [
    {
     "data": {
      "text/plain": [
       "(1599, 12)"
      ]
     },
     "execution_count": 30,
     "metadata": {},
     "output_type": "execute_result"
    }
   ],
   "source": [
    "df.shape"
   ]
  },
  {
   "cell_type": "markdown",
   "metadata": {},
   "source": [
    "#### Insight: total 1599 observations with 12 features"
   ]
  },
  {
   "cell_type": "code",
   "execution_count": 31,
   "metadata": {},
   "outputs": [
    {
     "data": {
      "text/html": [
       "<div>\n",
       "<style scoped>\n",
       "    .dataframe tbody tr th:only-of-type {\n",
       "        vertical-align: middle;\n",
       "    }\n",
       "\n",
       "    .dataframe tbody tr th {\n",
       "        vertical-align: top;\n",
       "    }\n",
       "\n",
       "    .dataframe thead th {\n",
       "        text-align: right;\n",
       "    }\n",
       "</style>\n",
       "<table border=\"1\" class=\"dataframe\">\n",
       "  <thead>\n",
       "    <tr style=\"text-align: right;\">\n",
       "      <th></th>\n",
       "      <th>fixed acidity</th>\n",
       "      <th>volatile acidity</th>\n",
       "      <th>citric acid</th>\n",
       "      <th>residual sugar</th>\n",
       "      <th>chlorides</th>\n",
       "      <th>free sulfur dioxide</th>\n",
       "      <th>total sulfur dioxide</th>\n",
       "      <th>density</th>\n",
       "      <th>pH</th>\n",
       "      <th>sulphates</th>\n",
       "      <th>alcohol</th>\n",
       "    </tr>\n",
       "  </thead>\n",
       "  <tbody>\n",
       "    <tr>\n",
       "      <th>count</th>\n",
       "      <td>1599.000000</td>\n",
       "      <td>1599.000000</td>\n",
       "      <td>1599.000000</td>\n",
       "      <td>1599.000000</td>\n",
       "      <td>1599.000000</td>\n",
       "      <td>1599.000000</td>\n",
       "      <td>1599.000000</td>\n",
       "      <td>1599.000000</td>\n",
       "      <td>1599.000000</td>\n",
       "      <td>1599.000000</td>\n",
       "      <td>1599.000000</td>\n",
       "    </tr>\n",
       "    <tr>\n",
       "      <th>mean</th>\n",
       "      <td>8.319637</td>\n",
       "      <td>0.527821</td>\n",
       "      <td>0.270976</td>\n",
       "      <td>2.538806</td>\n",
       "      <td>0.087467</td>\n",
       "      <td>15.874922</td>\n",
       "      <td>46.467792</td>\n",
       "      <td>0.996747</td>\n",
       "      <td>3.311113</td>\n",
       "      <td>0.658149</td>\n",
       "      <td>10.422983</td>\n",
       "    </tr>\n",
       "    <tr>\n",
       "      <th>std</th>\n",
       "      <td>1.741096</td>\n",
       "      <td>0.179060</td>\n",
       "      <td>0.194801</td>\n",
       "      <td>1.409928</td>\n",
       "      <td>0.047065</td>\n",
       "      <td>10.460157</td>\n",
       "      <td>32.895324</td>\n",
       "      <td>0.001887</td>\n",
       "      <td>0.154386</td>\n",
       "      <td>0.169507</td>\n",
       "      <td>1.065668</td>\n",
       "    </tr>\n",
       "    <tr>\n",
       "      <th>min</th>\n",
       "      <td>4.600000</td>\n",
       "      <td>0.120000</td>\n",
       "      <td>0.000000</td>\n",
       "      <td>0.900000</td>\n",
       "      <td>0.012000</td>\n",
       "      <td>1.000000</td>\n",
       "      <td>6.000000</td>\n",
       "      <td>0.990070</td>\n",
       "      <td>2.740000</td>\n",
       "      <td>0.330000</td>\n",
       "      <td>8.400000</td>\n",
       "    </tr>\n",
       "    <tr>\n",
       "      <th>25%</th>\n",
       "      <td>7.100000</td>\n",
       "      <td>0.390000</td>\n",
       "      <td>0.090000</td>\n",
       "      <td>1.900000</td>\n",
       "      <td>0.070000</td>\n",
       "      <td>7.000000</td>\n",
       "      <td>22.000000</td>\n",
       "      <td>0.995600</td>\n",
       "      <td>3.210000</td>\n",
       "      <td>0.550000</td>\n",
       "      <td>9.500000</td>\n",
       "    </tr>\n",
       "    <tr>\n",
       "      <th>50%</th>\n",
       "      <td>7.900000</td>\n",
       "      <td>0.520000</td>\n",
       "      <td>0.260000</td>\n",
       "      <td>2.200000</td>\n",
       "      <td>0.079000</td>\n",
       "      <td>14.000000</td>\n",
       "      <td>38.000000</td>\n",
       "      <td>0.996750</td>\n",
       "      <td>3.310000</td>\n",
       "      <td>0.620000</td>\n",
       "      <td>10.200000</td>\n",
       "    </tr>\n",
       "    <tr>\n",
       "      <th>75%</th>\n",
       "      <td>9.200000</td>\n",
       "      <td>0.640000</td>\n",
       "      <td>0.420000</td>\n",
       "      <td>2.600000</td>\n",
       "      <td>0.090000</td>\n",
       "      <td>21.000000</td>\n",
       "      <td>62.000000</td>\n",
       "      <td>0.997835</td>\n",
       "      <td>3.400000</td>\n",
       "      <td>0.730000</td>\n",
       "      <td>11.100000</td>\n",
       "    </tr>\n",
       "    <tr>\n",
       "      <th>max</th>\n",
       "      <td>15.900000</td>\n",
       "      <td>1.580000</td>\n",
       "      <td>1.000000</td>\n",
       "      <td>15.500000</td>\n",
       "      <td>0.611000</td>\n",
       "      <td>72.000000</td>\n",
       "      <td>289.000000</td>\n",
       "      <td>1.003690</td>\n",
       "      <td>4.010000</td>\n",
       "      <td>2.000000</td>\n",
       "      <td>14.900000</td>\n",
       "    </tr>\n",
       "  </tbody>\n",
       "</table>\n",
       "</div>"
      ],
      "text/plain": [
       "       fixed acidity  volatile acidity  citric acid  residual sugar   \n",
       "count    1599.000000       1599.000000  1599.000000     1599.000000  \\\n",
       "mean        8.319637          0.527821     0.270976        2.538806   \n",
       "std         1.741096          0.179060     0.194801        1.409928   \n",
       "min         4.600000          0.120000     0.000000        0.900000   \n",
       "25%         7.100000          0.390000     0.090000        1.900000   \n",
       "50%         7.900000          0.520000     0.260000        2.200000   \n",
       "75%         9.200000          0.640000     0.420000        2.600000   \n",
       "max        15.900000          1.580000     1.000000       15.500000   \n",
       "\n",
       "         chlorides  free sulfur dioxide  total sulfur dioxide      density   \n",
       "count  1599.000000          1599.000000           1599.000000  1599.000000  \\\n",
       "mean      0.087467            15.874922             46.467792     0.996747   \n",
       "std       0.047065            10.460157             32.895324     0.001887   \n",
       "min       0.012000             1.000000              6.000000     0.990070   \n",
       "25%       0.070000             7.000000             22.000000     0.995600   \n",
       "50%       0.079000            14.000000             38.000000     0.996750   \n",
       "75%       0.090000            21.000000             62.000000     0.997835   \n",
       "max       0.611000            72.000000            289.000000     1.003690   \n",
       "\n",
       "                pH    sulphates      alcohol  \n",
       "count  1599.000000  1599.000000  1599.000000  \n",
       "mean      3.311113     0.658149    10.422983  \n",
       "std       0.154386     0.169507     1.065668  \n",
       "min       2.740000     0.330000     8.400000  \n",
       "25%       3.210000     0.550000     9.500000  \n",
       "50%       3.310000     0.620000    10.200000  \n",
       "75%       3.400000     0.730000    11.100000  \n",
       "max       4.010000     2.000000    14.900000  "
      ]
     },
     "execution_count": 31,
     "metadata": {},
     "output_type": "execute_result"
    }
   ],
   "source": [
    "df.describe()"
   ]
  },
  {
   "cell_type": "markdown",
   "metadata": {},
   "source": [
    "Q3. Check for null values, identify categorical variables, and encode them."
   ]
  },
  {
   "cell_type": "code",
   "execution_count": 32,
   "metadata": {},
   "outputs": [
    {
     "data": {
      "text/plain": [
       "fixed acidity           0\n",
       "volatile acidity        0\n",
       "citric acid             0\n",
       "residual sugar          0\n",
       "chlorides               0\n",
       "free sulfur dioxide     0\n",
       "total sulfur dioxide    0\n",
       "density                 0\n",
       "pH                      0\n",
       "sulphates               0\n",
       "alcohol                 0\n",
       "quality                 0\n",
       "dtype: int64"
      ]
     },
     "execution_count": 32,
     "metadata": {},
     "output_type": "execute_result"
    }
   ],
   "source": [
    "#check for null values\n",
    "df.isnull().sum()"
   ]
  },
  {
   "cell_type": "markdown",
   "metadata": {},
   "source": [
    "#### Insight: no null values"
   ]
  },
  {
   "cell_type": "code",
   "execution_count": 33,
   "metadata": {},
   "outputs": [
    {
     "name": "stdout",
     "output_type": "stream",
     "text": [
      "<class 'pandas.core.frame.DataFrame'>\n",
      "RangeIndex: 1599 entries, 0 to 1598\n",
      "Data columns (total 12 columns):\n",
      " #   Column                Non-Null Count  Dtype  \n",
      "---  ------                --------------  -----  \n",
      " 0   fixed acidity         1599 non-null   float64\n",
      " 1   volatile acidity      1599 non-null   float64\n",
      " 2   citric acid           1599 non-null   float64\n",
      " 3   residual sugar        1599 non-null   float64\n",
      " 4   chlorides             1599 non-null   float64\n",
      " 5   free sulfur dioxide   1599 non-null   float64\n",
      " 6   total sulfur dioxide  1599 non-null   float64\n",
      " 7   density               1599 non-null   float64\n",
      " 8   pH                    1599 non-null   float64\n",
      " 9   sulphates             1599 non-null   float64\n",
      " 10  alcohol               1599 non-null   float64\n",
      " 11  quality               1599 non-null   object \n",
      "dtypes: float64(11), object(1)\n",
      "memory usage: 150.0+ KB\n"
     ]
    }
   ],
   "source": [
    "#checking for categorical variable\n",
    "df.info()"
   ]
  },
  {
   "cell_type": "code",
   "execution_count": 34,
   "metadata": {},
   "outputs": [
    {
     "data": {
      "text/plain": [
       "array(['bad', 'good'], dtype=object)"
      ]
     },
     "execution_count": 34,
     "metadata": {},
     "output_type": "execute_result"
    }
   ],
   "source": [
    "# target variable is categorical\n",
    "df.quality.unique()"
   ]
  },
  {
   "cell_type": "code",
   "execution_count": 35,
   "metadata": {},
   "outputs": [],
   "source": [
    "#encoding target variable\n",
    "df['quality'] = df.quality.map({'bad':0,'good':1})"
   ]
  },
  {
   "cell_type": "markdown",
   "metadata": {},
   "source": [
    "Q4. Separate the features and target variables from the dataframe."
   ]
  },
  {
   "cell_type": "code",
   "execution_count": 36,
   "metadata": {},
   "outputs": [],
   "source": [
    "X = df.drop('quality',axis=1)\n",
    "y = df['quality']"
   ]
  },
  {
   "cell_type": "code",
   "execution_count": 37,
   "metadata": {},
   "outputs": [
    {
     "data": {
      "text/plain": [
       "((1599, 11), (1599,))"
      ]
     },
     "execution_count": 37,
     "metadata": {},
     "output_type": "execute_result"
    }
   ],
   "source": [
    "X.shape , y.shape"
   ]
  },
  {
   "cell_type": "markdown",
   "metadata": {},
   "source": [
    "Q5. Perform a train-test split and divide the data into training, validation, and test datasets."
   ]
  },
  {
   "cell_type": "code",
   "execution_count": 38,
   "metadata": {},
   "outputs": [],
   "source": [
    "from sklearn.model_selection import train_test_split\n",
    "X_train_full, X_test, y_train_full, y_test = train_test_split(X,y,test_size=0.3,random_state=42)"
   ]
  },
  {
   "cell_type": "code",
   "execution_count": 39,
   "metadata": {},
   "outputs": [
    {
     "data": {
      "text/plain": [
       "((1119, 11), (480, 11), (1119,), (480,))"
      ]
     },
     "execution_count": 39,
     "metadata": {},
     "output_type": "execute_result"
    }
   ],
   "source": [
    "X_train_full.shape,X_test.shape,y_train_full.shape,y_test.shape"
   ]
  },
  {
   "cell_type": "code",
   "execution_count": 40,
   "metadata": {},
   "outputs": [],
   "source": [
    "X_train , X_val , y_train , y_val = train_test_split(X_train_full,y_train_full,test_size=0.2,random_state=42)"
   ]
  },
  {
   "cell_type": "code",
   "execution_count": 41,
   "metadata": {},
   "outputs": [
    {
     "data": {
      "text/plain": [
       "((895, 11), (224, 11), (895,), (224,))"
      ]
     },
     "execution_count": 41,
     "metadata": {},
     "output_type": "execute_result"
    }
   ],
   "source": [
    "X_train.shape , X_val.shape , y_train.shape , y_val.shape "
   ]
  },
  {
   "cell_type": "markdown",
   "metadata": {},
   "source": [
    "Q6. Perform scaling on the dataset."
   ]
  },
  {
   "cell_type": "code",
   "execution_count": 42,
   "metadata": {},
   "outputs": [],
   "source": [
    "from sklearn.preprocessing import StandardScaler\n",
    "scaler = StandardScaler()\n",
    "X_train = scaler.fit_transform(X_train)\n",
    "X_val = scaler.transform(X_val)\n",
    "X_test = scaler.transform(X_test)"
   ]
  },
  {
   "cell_type": "code",
   "execution_count": 43,
   "metadata": {},
   "outputs": [
    {
     "data": {
      "text/plain": [
       "(array([ 0.59068961,  0.41222487, -0.04196674,  0.63215602,  0.04790641,\n",
       "         0.87228742,  1.18501003,  1.60897428, -0.47978   , -0.21383167,\n",
       "        -0.66892463]),\n",
       " array([-0.52427063,  1.36450688, -0.40114931,  1.93113988,  0.12911142,\n",
       "         0.28167042,  1.51619319,  0.2036935 , -1.00320295, -0.81660127,\n",
       "        -0.79576185]),\n",
       " array([-0.34822428,  0.1401443 , -0.96557905, -0.01733591,  0.53513642,\n",
       "        -0.21051042, -0.04939995,  0.1876025 , -0.47978   ,  0.02727617,\n",
       "        -0.76405254]))"
      ]
     },
     "execution_count": 43,
     "metadata": {},
     "output_type": "execute_result"
    }
   ],
   "source": [
    "X_train[0] , X_val[0] ,X_test[0]"
   ]
  },
  {
   "cell_type": "markdown",
   "metadata": {},
   "source": [
    "Q7. Create at least 2 hidden layers and an output layer for the binary categorical variables."
   ]
  },
  {
   "cell_type": "code",
   "execution_count": 53,
   "metadata": {},
   "outputs": [],
   "source": [
    "LAYERS = [tf.keras.layers.Flatten(input_shape=[11,], name = 'inputLayer'),\n",
    "          tf.keras.layers.Dense(300 , activation = \"elu\" , name = 'hiddenLayer1'),\n",
    "          tf.keras.layers.Dense(100 , activation = \"elu\" , name = 'hiddenLayer2'),\n",
    "          tf.keras.layers.BatchNormalization(),\n",
    "          tf.keras.layers.Dense(10, activation = \"elu\" , name = \"hiddenLayer3\"),\n",
    "          tf.keras.layers.BatchNormalization(),\n",
    "          tf.keras.layers.Dense(1, activation = \"sigmoid\" , name = \"outputLayer\"),]\n",
    "model_clf = tf.keras.models.Sequential(LAYERS)"
   ]
  },
  {
   "cell_type": "markdown",
   "metadata": {},
   "source": [
    "Q8. Create a Sequential model and add all the layers to it."
   ]
  },
  {
   "cell_type": "code",
   "execution_count": 54,
   "metadata": {},
   "outputs": [
    {
     "data": {
      "text/plain": [
       "[<keras.layers.reshaping.flatten.Flatten at 0x263531590a0>,\n",
       " <keras.layers.core.dense.Dense at 0x26353156130>,\n",
       " <keras.layers.core.dense.Dense at 0x26353156490>,\n",
       " <keras.layers.normalization.batch_normalization.BatchNormalization at 0x2634b4a8280>,\n",
       " <keras.layers.core.dense.Dense at 0x26353156df0>,\n",
       " <keras.layers.normalization.batch_normalization.BatchNormalization at 0x26353156700>,\n",
       " <keras.layers.core.dense.Dense at 0x2635314fac0>]"
      ]
     },
     "execution_count": 54,
     "metadata": {},
     "output_type": "execute_result"
    }
   ],
   "source": [
    "model_clf.layers"
   ]
  },
  {
   "cell_type": "markdown",
   "metadata": {},
   "source": [
    "Q9. Print the summary of the model architecture."
   ]
  },
  {
   "cell_type": "code",
   "execution_count": 55,
   "metadata": {},
   "outputs": [
    {
     "name": "stdout",
     "output_type": "stream",
     "text": [
      "Model: \"sequential_2\"\n",
      "_________________________________________________________________\n",
      " Layer (type)                Output Shape              Param #   \n",
      "=================================================================\n",
      " inputLayer (Flatten)        (None, 11)                0         \n",
      "                                                                 \n",
      " hiddenLayer1 (Dense)        (None, 300)               3600      \n",
      "                                                                 \n",
      " hiddenLayer2 (Dense)        (None, 100)               30100     \n",
      "                                                                 \n",
      " batch_normalization_4 (Batc  (None, 100)              400       \n",
      " hNormalization)                                                 \n",
      "                                                                 \n",
      " hiddenLayer3 (Dense)        (None, 10)                1010      \n",
      "                                                                 \n",
      " batch_normalization_5 (Batc  (None, 10)               40        \n",
      " hNormalization)                                                 \n",
      "                                                                 \n",
      " outputLayer (Dense)         (None, 1)                 11        \n",
      "                                                                 \n",
      "=================================================================\n",
      "Total params: 35,161\n",
      "Trainable params: 34,941\n",
      "Non-trainable params: 220\n",
      "_________________________________________________________________\n"
     ]
    }
   ],
   "source": [
    "model_clf.summary()"
   ]
  },
  {
   "cell_type": "markdown",
   "metadata": {},
   "source": [
    "Q10. Set the loss function(‘binary_crossentropy’), optimizer, and include the accuracy metric in the model.<br>\n",
    "Q11. Compile the model with the specified loss function, optimizer, and metrics."
   ]
  },
  {
   "cell_type": "code",
   "execution_count": 56,
   "metadata": {},
   "outputs": [],
   "source": [
    "LOSS_FUNCTION = \"binary_crossentropy\"\n",
    "OPTIMIZER = \"SGD\"\n",
    "METRICS = [\"accuracy\"]\n",
    "\n",
    "model_clf.compile(loss=LOSS_FUNCTION,\n",
    "                  optimizer=OPTIMIZER,\n",
    "                  metrics=METRICS)"
   ]
  },
  {
   "cell_type": "markdown",
   "metadata": {},
   "source": [
    "Q12. Fit the model to the training data using appropriate batch size and number of epochs."
   ]
  },
  {
   "cell_type": "code",
   "execution_count": 57,
   "metadata": {},
   "outputs": [
    {
     "name": "stdout",
     "output_type": "stream",
     "text": [
      "Epoch 1/30\n",
      "28/28 [==============================] - 3s 24ms/step - loss: 0.5972 - accuracy: 0.7028 - val_loss: 0.6072 - val_accuracy: 0.7232\n",
      "Epoch 2/30\n",
      "28/28 [==============================] - 0s 10ms/step - loss: 0.5022 - accuracy: 0.7520 - val_loss: 0.5941 - val_accuracy: 0.7143\n",
      "Epoch 3/30\n",
      "28/28 [==============================] - 0s 10ms/step - loss: 0.5096 - accuracy: 0.7587 - val_loss: 0.5846 - val_accuracy: 0.7321\n",
      "Epoch 4/30\n",
      "28/28 [==============================] - 0s 9ms/step - loss: 0.5024 - accuracy: 0.7520 - val_loss: 0.5776 - val_accuracy: 0.7143\n",
      "Epoch 5/30\n",
      "28/28 [==============================] - 0s 9ms/step - loss: 0.4915 - accuracy: 0.7575 - val_loss: 0.5666 - val_accuracy: 0.7500\n",
      "Epoch 6/30\n",
      "28/28 [==============================] - 0s 9ms/step - loss: 0.4871 - accuracy: 0.7721 - val_loss: 0.5693 - val_accuracy: 0.7232\n",
      "Epoch 7/30\n",
      "28/28 [==============================] - 0s 10ms/step - loss: 0.4871 - accuracy: 0.7587 - val_loss: 0.5519 - val_accuracy: 0.7321\n",
      "Epoch 8/30\n",
      "28/28 [==============================] - 0s 10ms/step - loss: 0.4831 - accuracy: 0.7631 - val_loss: 0.5508 - val_accuracy: 0.7232\n",
      "Epoch 9/30\n",
      "28/28 [==============================] - 0s 10ms/step - loss: 0.4946 - accuracy: 0.7587 - val_loss: 0.5473 - val_accuracy: 0.7321\n",
      "Epoch 10/30\n",
      "28/28 [==============================] - 0s 10ms/step - loss: 0.4837 - accuracy: 0.7598 - val_loss: 0.5444 - val_accuracy: 0.7366\n",
      "Epoch 11/30\n",
      "28/28 [==============================] - 0s 9ms/step - loss: 0.4742 - accuracy: 0.7765 - val_loss: 0.5484 - val_accuracy: 0.7277\n",
      "Epoch 12/30\n",
      "28/28 [==============================] - 0s 9ms/step - loss: 0.4762 - accuracy: 0.7687 - val_loss: 0.5571 - val_accuracy: 0.7188\n",
      "Epoch 13/30\n",
      "28/28 [==============================] - 0s 9ms/step - loss: 0.4728 - accuracy: 0.7709 - val_loss: 0.5497 - val_accuracy: 0.7455\n",
      "Epoch 14/30\n",
      "28/28 [==============================] - 0s 9ms/step - loss: 0.4776 - accuracy: 0.7631 - val_loss: 0.5472 - val_accuracy: 0.7500\n",
      "Epoch 15/30\n",
      "28/28 [==============================] - 0s 8ms/step - loss: 0.4822 - accuracy: 0.7687 - val_loss: 0.5481 - val_accuracy: 0.7500\n",
      "Epoch 16/30\n",
      "28/28 [==============================] - 0s 8ms/step - loss: 0.4746 - accuracy: 0.7631 - val_loss: 0.5552 - val_accuracy: 0.7500\n",
      "Epoch 17/30\n",
      "28/28 [==============================] - 0s 10ms/step - loss: 0.4719 - accuracy: 0.7642 - val_loss: 0.5463 - val_accuracy: 0.7411\n",
      "Epoch 18/30\n",
      "28/28 [==============================] - 0s 8ms/step - loss: 0.4667 - accuracy: 0.7832 - val_loss: 0.5501 - val_accuracy: 0.7366\n",
      "Epoch 19/30\n",
      "28/28 [==============================] - 0s 9ms/step - loss: 0.4721 - accuracy: 0.7721 - val_loss: 0.5470 - val_accuracy: 0.7366\n",
      "Epoch 20/30\n",
      "28/28 [==============================] - 0s 11ms/step - loss: 0.4772 - accuracy: 0.7687 - val_loss: 0.5583 - val_accuracy: 0.7366\n",
      "Epoch 21/30\n",
      "28/28 [==============================] - 0s 10ms/step - loss: 0.4735 - accuracy: 0.7855 - val_loss: 0.5589 - val_accuracy: 0.7411\n",
      "Epoch 22/30\n",
      "28/28 [==============================] - 0s 9ms/step - loss: 0.4649 - accuracy: 0.7721 - val_loss: 0.5602 - val_accuracy: 0.7455\n",
      "Epoch 23/30\n",
      "28/28 [==============================] - 0s 8ms/step - loss: 0.4633 - accuracy: 0.7743 - val_loss: 0.5557 - val_accuracy: 0.7366\n",
      "Epoch 24/30\n",
      "28/28 [==============================] - 0s 10ms/step - loss: 0.4701 - accuracy: 0.7709 - val_loss: 0.5516 - val_accuracy: 0.7455\n",
      "Epoch 25/30\n",
      "28/28 [==============================] - 0s 9ms/step - loss: 0.4611 - accuracy: 0.7765 - val_loss: 0.5526 - val_accuracy: 0.7411\n",
      "Epoch 26/30\n",
      "28/28 [==============================] - 0s 11ms/step - loss: 0.4488 - accuracy: 0.7844 - val_loss: 0.5640 - val_accuracy: 0.7366\n",
      "Epoch 27/30\n",
      "28/28 [==============================] - 0s 10ms/step - loss: 0.4686 - accuracy: 0.7732 - val_loss: 0.5539 - val_accuracy: 0.7366\n",
      "Epoch 28/30\n",
      "28/28 [==============================] - 0s 10ms/step - loss: 0.4663 - accuracy: 0.7777 - val_loss: 0.5449 - val_accuracy: 0.7277\n",
      "Epoch 29/30\n",
      "28/28 [==============================] - 0s 9ms/step - loss: 0.4712 - accuracy: 0.7687 - val_loss: 0.5411 - val_accuracy: 0.7321\n",
      "Epoch 30/30\n",
      "28/28 [==============================] - 0s 8ms/step - loss: 0.4672 - accuracy: 0.7810 - val_loss: 0.5454 - val_accuracy: 0.7500\n"
     ]
    }
   ],
   "source": [
    "# training\n",
    "\n",
    "EPOCHS = 30\n",
    "VALIDATION_SET = (X_val, y_val)\n",
    "\n",
    "history = model_clf.fit(X_train, y_train, epochs=EPOCHS,\n",
    "                    validation_data=VALIDATION_SET, batch_size=32)\n"
   ]
  },
  {
   "cell_type": "markdown",
   "metadata": {},
   "source": [
    "Q13. Obtain the model's parameters (weights and biases)."
   ]
  },
  {
   "cell_type": "code",
   "execution_count": 58,
   "metadata": {},
   "outputs": [
    {
     "data": {
      "text/plain": [
       "[array([[ 0.0609379 , -0.14149362, -0.06681447, ..., -0.08981571,\n",
       "         -0.0642115 , -0.0124597 ],\n",
       "        [ 0.11113413,  0.09851322, -0.12118078, ...,  0.0778859 ,\n",
       "         -0.0665124 ,  0.04303778],\n",
       "        [ 0.10674275, -0.03127024, -0.11428955, ..., -0.00168019,\n",
       "         -0.14067589, -0.04082591],\n",
       "        ...,\n",
       "        [ 0.10052976, -0.06877737,  0.08016924, ...,  0.0616992 ,\n",
       "          0.12417473, -0.02176883],\n",
       "        [-0.11479966, -0.05786633,  0.12033996, ...,  0.03284412,\n",
       "          0.09389953, -0.02974939],\n",
       "        [-0.06661106,  0.05471587, -0.05550906, ..., -0.02799177,\n",
       "          0.13964984, -0.05962362]], dtype=float32),\n",
       " array([-1.4474958e-03, -3.5106868e-03, -3.1485404e-03,  1.9888647e-04,\n",
       "        -7.1119261e-04, -1.3235814e-03, -3.0290084e-03,  3.1131278e-03,\n",
       "        -1.4536221e-03, -1.5583590e-03, -9.1223128e-04, -2.6655088e-03,\n",
       "         1.2111817e-03, -7.0581579e-04, -4.6071988e-03, -1.3470661e-04,\n",
       "        -1.5768900e-03, -1.6751703e-03,  2.4740112e-03, -1.0424394e-03,\n",
       "        -1.9319662e-03, -1.6009891e-03, -1.9098998e-03, -3.5552920e-03,\n",
       "        -1.9071577e-03,  1.4041878e-03,  1.9992384e-04,  2.1797749e-03,\n",
       "         1.4865457e-03,  1.6634949e-04, -1.6854967e-03, -1.0495712e-03,\n",
       "        -7.3904521e-04,  3.4310052e-03,  1.7416972e-03, -5.0056549e-03,\n",
       "        -8.4678835e-04, -1.8529961e-03,  3.9941636e-03,  2.7342185e-03,\n",
       "         2.1297398e-03, -6.0801330e-04, -4.6841479e-03, -3.2252472e-04,\n",
       "        -3.7028720e-03, -1.5625972e-03, -1.7242617e-04, -2.2169407e-03,\n",
       "         1.4529406e-04, -2.3763943e-03, -1.8560101e-03,  2.5692232e-05,\n",
       "        -9.0418593e-04,  1.7787890e-03,  2.5286290e-03, -1.4482208e-03,\n",
       "        -3.7870007e-03, -4.5892442e-04,  2.1698500e-03,  2.9026431e-03,\n",
       "        -8.1873348e-04, -7.0239056e-04,  1.1332927e-03, -1.6124012e-03,\n",
       "         1.1154414e-03,  1.0487705e-04,  1.9015883e-03, -1.2862928e-03,\n",
       "        -3.3572561e-03,  2.9175922e-03,  4.9938034e-04, -2.1023483e-03,\n",
       "         4.2439926e-05,  5.6329108e-04, -1.1000588e-03,  2.7977123e-05,\n",
       "         1.2054648e-03,  1.8467437e-03,  5.4852257e-04,  1.5554347e-03,\n",
       "         8.5234840e-04, -2.8423112e-04,  2.8409739e-03,  8.2848521e-05,\n",
       "        -1.9673214e-03, -3.3396177e-04,  5.7675550e-04, -1.4187577e-03,\n",
       "         9.9673681e-04,  7.9756201e-04, -3.0954191e-03, -7.9273326e-05,\n",
       "        -9.7411801e-04, -4.2006583e-03,  6.4890430e-04,  4.2942844e-04,\n",
       "         8.8855939e-04, -1.2678105e-03, -3.4447454e-04, -1.5505801e-03,\n",
       "         3.2610674e-03,  2.0424915e-03,  5.8414461e-04, -3.1813944e-04,\n",
       "         1.3042528e-03,  3.9173992e-04, -5.2661826e-03, -4.9177124e-03,\n",
       "        -2.0255218e-03, -2.0034728e-03,  2.5911392e-03,  3.2361832e-03,\n",
       "         1.2260779e-03,  4.0388244e-04, -4.7907056e-03, -1.3241763e-03,\n",
       "         2.4168245e-03,  3.8853793e-03, -1.3118175e-05,  2.5312835e-03,\n",
       "        -3.8590056e-03,  9.1561757e-04,  2.4316593e-03, -1.9590186e-03,\n",
       "         6.0498798e-03, -1.1361118e-03,  2.1855594e-03, -3.5298790e-03,\n",
       "         2.5680261e-03, -2.1753756e-03, -3.1075890e-03, -2.5642926e-03,\n",
       "        -9.8183751e-04,  9.1766706e-05, -5.0267542e-04, -2.0528636e-03,\n",
       "        -2.2501653e-04, -2.5729666e-04, -3.7949588e-03, -5.3621817e-04,\n",
       "         9.6551667e-04, -6.4259337e-04,  1.8369425e-03,  1.3434149e-03,\n",
       "         2.9607080e-03, -2.7843879e-03, -9.7572414e-04, -2.6875811e-03,\n",
       "         1.1252258e-03, -1.0291900e-03, -2.1217654e-03,  2.7996202e-03,\n",
       "         5.9657957e-04, -1.8279038e-04, -8.0340478e-04, -1.4445627e-03,\n",
       "         3.9918843e-04,  7.1770971e-04, -1.4318300e-03,  9.7628805e-04,\n",
       "        -1.3655201e-04,  2.6274929e-03,  1.4137130e-03,  2.9229522e-03,\n",
       "        -1.6892345e-05,  1.7994199e-03,  4.1639567e-05, -2.1679295e-04,\n",
       "         3.3732681e-03,  1.7357201e-03, -1.2467715e-03,  1.3272053e-03,\n",
       "        -5.2921433e-04,  6.8723783e-04, -1.5203216e-03,  6.3822350e-05,\n",
       "         3.6885105e-03,  2.1945481e-04, -6.2590609e-03, -2.3123273e-03,\n",
       "         1.3455077e-03, -1.4008939e-03, -1.1673656e-03,  5.0981003e-03,\n",
       "         8.6932606e-04, -2.8862739e-03,  2.7419082e-04, -2.3809997e-03,\n",
       "         1.4259608e-04,  9.9894302e-03, -1.5411925e-04, -7.5995107e-05,\n",
       "         3.8713508e-04, -1.4231832e-03, -3.0506414e-03, -8.7972230e-04,\n",
       "        -2.0069955e-03,  1.8574095e-03, -1.1629128e-03, -3.2797756e-03,\n",
       "        -4.3149083e-03, -9.2575018e-04, -1.2826563e-03, -7.4626884e-04,\n",
       "        -8.0082874e-04,  2.7105170e-03, -1.5607660e-04,  3.4311065e-04,\n",
       "        -1.5364155e-03,  2.1339483e-03, -1.4187350e-03,  1.3495849e-03,\n",
       "         1.1893554e-03,  2.1242371e-03,  2.0115797e-03, -2.7779045e-03,\n",
       "         3.2241622e-03, -4.6467488e-03,  2.7313947e-03,  2.3620150e-03,\n",
       "         2.2372855e-03, -4.7597638e-03,  2.0720394e-04,  1.8978509e-04,\n",
       "        -2.1618907e-03,  3.3658682e-03,  3.1599207e-04, -6.7875313e-04,\n",
       "         1.1837715e-03, -1.1830187e-04, -3.3970333e-03,  1.4862582e-03,\n",
       "        -7.6099299e-05, -1.6058894e-03, -6.2211824e-04, -2.0304054e-03,\n",
       "         1.6153230e-05, -1.4646975e-03,  4.5300752e-04, -2.9606265e-03,\n",
       "        -1.9231737e-03, -5.4557726e-04, -2.2511489e-03,  1.1441928e-03,\n",
       "        -5.0596788e-04, -5.2759133e-04,  3.6079392e-03, -2.1181267e-03,\n",
       "        -8.9425012e-04,  3.4466432e-03, -1.2769632e-03, -3.8790936e-04,\n",
       "         4.6305000e-03, -1.3503261e-03, -1.0264298e-03, -2.5606767e-04,\n",
       "        -3.1279654e-03, -2.6531063e-03, -2.6038309e-04, -1.1778937e-03,\n",
       "         6.1678735e-04, -1.2211554e-03,  1.1835451e-03, -2.9619765e-03,\n",
       "        -2.4038188e-03, -2.4563388e-03, -7.4231206e-04, -2.6241883e-03,\n",
       "         4.9226466e-03,  3.6270409e-03,  2.4626469e-03,  1.0019499e-03,\n",
       "        -2.1407395e-03, -3.2205575e-03,  2.8618937e-04,  7.3266710e-04,\n",
       "         1.7452600e-03,  8.6692290e-04,  1.9301374e-03,  4.4827048e-06,\n",
       "        -2.1791838e-04, -2.3799486e-04, -8.2325767e-04,  2.2947241e-03,\n",
       "        -3.0856417e-03,  1.6115579e-03,  2.9251708e-03, -9.1541307e-03,\n",
       "         1.7851631e-03,  9.5116580e-04, -1.4460053e-03, -2.4957138e-03,\n",
       "         4.8054941e-04, -2.6722054e-04, -4.7559636e-03,  9.1917063e-05,\n",
       "         8.9700636e-04,  1.8366708e-03, -1.7482619e-03, -1.6322810e-03],\n",
       "       dtype=float32),\n",
       " array([[ 0.10887208,  0.00164854, -0.10512907, ...,  0.07237134,\n",
       "         -0.0899824 ,  0.02796653],\n",
       "        [ 0.02310481,  0.09126382,  0.0498382 , ..., -0.07221122,\n",
       "         -0.06637271, -0.07974751],\n",
       "        [ 0.03858665, -0.10887136, -0.03269976, ..., -0.02156764,\n",
       "          0.04107914,  0.04582709],\n",
       "        ...,\n",
       "        [-0.00855406, -0.11549691, -0.08749495, ...,  0.04807629,\n",
       "          0.01292807, -0.0443708 ],\n",
       "        [ 0.01399342, -0.00339446, -0.0351308 , ..., -0.03870204,\n",
       "         -0.11755385,  0.05776651],\n",
       "        [-0.07677083,  0.05493453, -0.11395114, ..., -0.00537354,\n",
       "          0.10218196,  0.08722292]], dtype=float32),\n",
       " array([ 5.1202113e-04, -2.7888885e-03, -3.3577809e-03, -8.6115475e-04,\n",
       "        -3.0626662e-03, -1.3081320e-03,  1.2826157e-03, -8.2710537e-04,\n",
       "         9.5759274e-04, -1.4264776e-03, -7.7498279e-04, -1.5382071e-03,\n",
       "        -4.9074303e-04, -2.3296778e-03,  4.4533485e-03, -2.8623648e-03,\n",
       "        -1.2326434e-04,  6.0892233e-04, -6.5897731e-04, -1.2706702e-03,\n",
       "         3.1449911e-03, -1.1762924e-03, -4.0754848e-04, -1.2148056e-03,\n",
       "         1.0836516e-03,  2.1257829e-03, -6.9666763e-05, -3.5158677e-03,\n",
       "        -2.8463439e-03, -1.8325327e-03, -3.1099567e-04,  2.9916966e-03,\n",
       "        -6.7414826e-04,  1.0513035e-03, -4.5816121e-03, -8.6955802e-04,\n",
       "        -4.9568512e-03,  2.4971630e-05,  2.3382323e-04,  1.4443438e-04,\n",
       "         1.0061990e-03,  1.3009274e-03, -1.1533374e-03,  3.5845507e-03,\n",
       "        -4.9680076e-04,  1.5505548e-03,  3.7919235e-05, -1.3560104e-03,\n",
       "        -2.1598150e-03, -2.0163353e-03,  1.2119900e-03, -9.2525198e-04,\n",
       "        -1.0811478e-03,  2.3492749e-03,  5.5792730e-04, -3.9720535e-03,\n",
       "        -5.2825420e-04,  4.8111973e-04, -9.5598809e-03, -8.4451778e-04,\n",
       "         1.1616574e-03, -4.6501886e-03, -1.1082449e-04,  5.2552465e-03,\n",
       "        -2.1989907e-03,  1.1899217e-04, -1.1855288e-03,  3.1705969e-04,\n",
       "        -1.6856795e-04, -4.3057147e-03,  1.2438386e-03,  2.3233124e-04,\n",
       "         2.4505644e-03, -2.1582509e-04, -1.3472454e-03, -1.6741604e-03,\n",
       "        -4.6967249e-03,  1.0916709e-04, -1.1047830e-03,  6.9432531e-06,\n",
       "        -3.0943661e-03, -2.6530435e-03, -1.8382127e-03,  1.7331702e-03,\n",
       "         4.3684407e-03,  4.5859367e-03,  1.8954936e-03,  9.7045448e-04,\n",
       "         3.5401413e-04,  7.3036039e-04, -3.5371407e-04, -1.7002453e-03,\n",
       "        -8.2083291e-04,  2.5565245e-03,  1.4993234e-04, -2.0229619e-03,\n",
       "        -1.0476157e-03, -3.7386417e-03,  1.0005868e-04, -3.5913670e-03],\n",
       "       dtype=float32),\n",
       " array([0.9980522 , 1.0027667 , 1.0032288 , 1.0009041 , 0.99999964,\n",
       "        1.001989  , 1.0012076 , 0.9989803 , 0.99729776, 1.0036778 ,\n",
       "        1.0011668 , 0.99606365, 1.0021788 , 1.0019643 , 0.9981527 ,\n",
       "        0.99725574, 1.0006226 , 0.9987342 , 1.001066  , 1.0014813 ,\n",
       "        0.99691385, 1.0013485 , 1.0000257 , 1.0016793 , 0.99875134,\n",
       "        0.9961051 , 1.0002785 , 1.0019022 , 1.0014569 , 1.001358  ,\n",
       "        1.0024602 , 1.0012808 , 0.99987674, 1.0050199 , 0.9965041 ,\n",
       "        0.9979868 , 1.0002404 , 1.0006816 , 1.0035279 , 1.0056338 ,\n",
       "        1.0018479 , 1.0018759 , 0.9988227 , 0.99601376, 1.0031823 ,\n",
       "        0.997252  , 0.9973295 , 1.0005223 , 0.9988388 , 1.0004615 ,\n",
       "        0.9996868 , 1.002349  , 0.99792004, 1.0018164 , 0.9956697 ,\n",
       "        1.0007457 , 1.0022156 , 1.0022259 , 0.99328524, 1.0016557 ,\n",
       "        1.0045134 , 0.9995006 , 1.0005006 , 0.9979609 , 1.0006943 ,\n",
       "        0.999079  , 0.9981015 , 0.9985434 , 1.0016103 , 1.0029705 ,\n",
       "        0.9953672 , 1.000603  , 0.99869555, 1.0018026 , 1.0010675 ,\n",
       "        0.999521  , 0.9986037 , 1.0033785 , 1.0035155 , 1.0034735 ,\n",
       "        0.99843866, 1.0003589 , 1.0020524 , 1.0020871 , 0.9977757 ,\n",
       "        0.9989844 , 1.0009054 , 0.9983281 , 0.99784553, 1.0064684 ,\n",
       "        0.9997798 , 1.0006849 , 0.99934995, 1.0002127 , 1.002116  ,\n",
       "        0.99914896, 1.003145  , 1.0005403 , 1.0003651 , 0.9995359 ],\n",
       "       dtype=float32),\n",
       " array([ 2.4027457e-03,  3.1575810e-03,  2.0377180e-03,  3.8639395e-03,\n",
       "         3.9430321e-03, -2.7228177e-03, -1.1553667e-03,  1.3014487e-03,\n",
       "        -4.3368437e-03,  2.4336402e-03,  3.4252498e-03, -1.9455660e-03,\n",
       "         1.0480282e-03, -2.4975932e-04, -6.0952123e-04, -2.2036099e-04,\n",
       "        -1.4469281e-03, -4.0976753e-05, -4.1913485e-05,  9.9984452e-04,\n",
       "        -3.3122858e-03, -1.0775679e-03,  2.3817201e-03,  1.6516338e-03,\n",
       "        -7.1083906e-04,  1.5285563e-03, -4.2838609e-04, -4.1205739e-03,\n",
       "         2.6826709e-04,  2.4142570e-03,  2.4405023e-04, -1.3854012e-03,\n",
       "        -3.8864705e-04,  2.9340945e-03,  5.6718392e-03,  1.9792565e-03,\n",
       "         2.4971024e-03,  1.3264439e-03, -4.2533721e-03,  3.2581543e-03,\n",
       "        -3.5708921e-03, -8.8291749e-04, -3.1211009e-04, -2.7148360e-03,\n",
       "         2.9935304e-03, -2.6693544e-04,  4.3182862e-03, -1.9725445e-03,\n",
       "         2.9442243e-03,  2.6706532e-03, -1.9542137e-03,  4.9320883e-03,\n",
       "        -2.5420380e-03, -2.8568023e-04, -1.2679511e-03,  3.0957445e-04,\n",
       "         1.3030879e-03, -1.4447719e-03,  1.2861631e-03, -1.9629291e-04,\n",
       "         2.2806777e-04,  4.2599760e-05,  1.9912424e-03, -1.3949912e-03,\n",
       "        -4.7239764e-03, -2.5088312e-03, -2.9127742e-04,  7.0275139e-04,\n",
       "        -9.7165926e-04,  9.0091518e-04, -2.3774470e-03, -3.1506638e-03,\n",
       "         2.6208337e-03,  1.6923451e-03, -3.2186578e-04,  1.1675071e-04,\n",
       "         2.0622131e-03,  3.5944306e-03, -9.8780484e-04, -2.3443720e-03,\n",
       "        -1.1635704e-03, -4.5168679e-03, -1.0794127e-04,  5.3824112e-04,\n",
       "         8.4482954e-04, -4.9108411e-03,  2.5012207e-03, -3.4460947e-03,\n",
       "        -6.2594432e-03,  2.6130166e-03, -7.3495728e-04,  3.3977346e-03,\n",
       "        -1.0222229e-03,  3.4759135e-03, -3.6511635e-03,  2.2216670e-03,\n",
       "        -2.8913338e-03, -1.3983356e-03,  5.2215457e-03, -2.9125158e-03],\n",
       "       dtype=float32),\n",
       " array([ 0.02985892, -0.00034438,  0.01752301, -0.02898381,  0.03137244,\n",
       "         0.03453787,  0.03804142,  0.00028627,  0.02874332,  0.03384696,\n",
       "         0.03481977,  0.00610395,  0.05853339,  0.00181746,  0.00630224,\n",
       "         0.02314078,  0.02091102,  0.01543505,  0.02486289,  0.00100446,\n",
       "         0.01509229,  0.06581284,  0.00255384,  0.00777283,  0.01356651,\n",
       "         0.0014542 ,  0.00124401,  0.02287005,  0.01625095,  0.00397395,\n",
       "         0.06100786, -0.0036516 , -0.02428177,  0.03360568,  0.01863032,\n",
       "         0.03357623,  0.01420635,  0.01969092,  0.04884466,  0.0041907 ,\n",
       "         0.04532797, -0.02216055,  0.00774013,  0.02827882, -0.0069002 ,\n",
       "         0.00725719,  0.02262114,  0.01252535,  0.01135487,  0.02425615,\n",
       "         0.0307919 ,  0.02386093,  0.0473166 ,  0.03047701,  0.04158704,\n",
       "         0.06237223,  0.02138283,  0.0118219 ,  0.06264944,  0.00991096,\n",
       "         0.04083509,  0.01223814,  0.02279011,  0.00598326,  0.01551024,\n",
       "         0.00786854, -0.00375869,  0.03301027,  0.02335028,  0.02770955,\n",
       "         0.01813258,  0.02323915,  0.04617352,  0.02931145, -0.00466507,\n",
       "         0.01185921,  0.01945311, -0.00945315,  0.01489614, -0.00102321,\n",
       "        -0.03742598,  0.00813924,  0.02036347,  0.02976017,  0.01238737,\n",
       "         0.02268529,  0.02184521,  0.02888676,  0.01035837,  0.00435874,\n",
       "        -0.01160622,  0.01060216,  0.02345273,  0.01093235,  0.00945485,\n",
       "         0.00537408,  0.03544441,  0.01267327,  0.02471896, -0.00152377],\n",
       "       dtype=float32),\n",
       " array([0.07770859, 0.04317673, 0.05031505, 0.02547448, 0.05935115,\n",
       "        0.0635924 , 0.07816059, 0.04889333, 0.0906014 , 0.06383106,\n",
       "        0.04861756, 0.06140857, 0.06505627, 0.04169394, 0.05053637,\n",
       "        0.02948415, 0.08261275, 0.04449648, 0.03509601, 0.06967325,\n",
       "        0.11741096, 0.15111804, 0.05331795, 0.07470486, 0.03427322,\n",
       "        0.0387316 , 0.05226199, 0.10328774, 0.059761  , 0.16039169,\n",
       "        0.08677541, 0.05213607, 0.03219701, 0.09521975, 0.04033164,\n",
       "        0.05559953, 0.05787053, 0.04506241, 0.08893079, 0.04142132,\n",
       "        0.05848718, 0.0439467 , 0.04065469, 0.07011267, 0.04775141,\n",
       "        0.06280034, 0.05621593, 0.08305706, 0.12447019, 0.04448885,\n",
       "        0.13295202, 0.08926309, 0.10592487, 0.05204263, 0.08777991,\n",
       "        0.09318713, 0.07264481, 0.04500166, 0.13991672, 0.02520981,\n",
       "        0.04758159, 0.07856255, 0.02903915, 0.07002612, 0.03112142,\n",
       "        0.0665612 , 0.06052493, 0.07836929, 0.068728  , 0.11739826,\n",
       "        0.09109858, 0.04849688, 0.14224435, 0.06847955, 0.07628306,\n",
       "        0.04990129, 0.09844045, 0.08049056, 0.05224348, 0.02197654,\n",
       "        0.03925215, 0.09536719, 0.03594474, 0.06945787, 0.05651925,\n",
       "        0.04900753, 0.04579418, 0.07062577, 0.04903263, 0.02986472,\n",
       "        0.06367077, 0.06309468, 0.04270096, 0.06827894, 0.07432267,\n",
       "        0.06526364, 0.05329486, 0.05317665, 0.05192813, 0.0539238 ],\n",
       "       dtype=float32),\n",
       " array([[-2.31131941e-01, -2.20456868e-01, -1.27672687e-01,\n",
       "         -1.63721725e-01,  9.75361764e-02, -1.99620962e-01,\n",
       "          1.75367787e-01,  3.53642949e-03, -2.24509880e-01,\n",
       "          3.16919573e-02],\n",
       "        [ 1.43014774e-01,  6.37078211e-02, -2.19906271e-01,\n",
       "          8.77676010e-02, -2.25725532e-01, -1.08388036e-01,\n",
       "         -1.44748718e-01, -2.18318790e-01, -8.61863792e-02,\n",
       "         -1.55111536e-01],\n",
       "        [-1.77683741e-01, -1.18437007e-01,  7.18761832e-02,\n",
       "          1.57452807e-01,  9.40450728e-02, -1.69960678e-01,\n",
       "         -5.36742434e-02,  5.74344620e-02,  3.19168018e-03,\n",
       "          1.82979420e-01],\n",
       "        [ 9.06101801e-03, -1.57323793e-01, -8.45579132e-02,\n",
       "          1.96576506e-01,  1.54183000e-01,  5.94512410e-02,\n",
       "          6.98791668e-02, -1.68525815e-01,  3.28174904e-02,\n",
       "          1.52604962e-02],\n",
       "        [-1.20796263e-01, -2.22979754e-01,  2.35716939e-01,\n",
       "         -1.63283460e-02,  1.32890165e-01,  1.52160674e-01,\n",
       "          9.99756977e-02, -1.89155653e-01, -1.54664755e-01,\n",
       "         -1.46658584e-01],\n",
       "        [-3.43833230e-02,  2.06897065e-01,  1.62563220e-01,\n",
       "          9.33691338e-02, -2.05308095e-01,  7.17237741e-02,\n",
       "          1.83988199e-01,  7.64209628e-02,  3.61086763e-02,\n",
       "          6.50769944e-05],\n",
       "        [-6.71847239e-02, -1.48721799e-01,  6.67130426e-02,\n",
       "         -1.21081382e-01,  1.31791487e-01, -9.93653908e-02,\n",
       "         -1.32258251e-01,  1.76473141e-01, -4.10127714e-02,\n",
       "          2.67404318e-02],\n",
       "        [-6.57292157e-02, -6.16462864e-02, -6.89381063e-02,\n",
       "         -2.02595413e-01, -3.93396989e-02, -1.04137465e-01,\n",
       "         -1.22264639e-01, -2.55907327e-02, -1.92966431e-01,\n",
       "         -1.81497280e-02],\n",
       "        [-4.95066717e-02,  6.78401515e-02,  5.93567304e-02,\n",
       "         -2.07308188e-01,  6.68074042e-02, -8.60188454e-02,\n",
       "          1.44902572e-01,  1.95406035e-01,  1.71298906e-01,\n",
       "          1.45868450e-01],\n",
       "        [-1.67680398e-01, -1.56504840e-01,  2.12544784e-01,\n",
       "          5.09821959e-02, -6.48888499e-02, -2.02873051e-01,\n",
       "          1.96520925e-01,  2.38667708e-02, -1.47147357e-01,\n",
       "          2.20093191e-01],\n",
       "        [-8.34639445e-02, -1.75522968e-01,  3.28683034e-02,\n",
       "          9.19201598e-02,  5.58160851e-03, -9.78279784e-02,\n",
       "         -1.44123942e-01, -8.29434916e-02,  7.99431279e-02,\n",
       "         -2.05468118e-01],\n",
       "        [ 2.45778546e-01,  1.31006822e-01, -7.90145695e-02,\n",
       "          1.36056706e-01, -1.13689303e-01,  8.29854831e-02,\n",
       "          1.50723517e-01,  7.27010751e-03,  1.03029953e-02,\n",
       "          3.50537412e-02],\n",
       "        [ 1.99670091e-01,  5.91890179e-02, -1.83024183e-01,\n",
       "          1.38883471e-01, -2.33934343e-01,  2.19491228e-01,\n",
       "          1.23906977e-01, -9.84300599e-02, -2.07237393e-01,\n",
       "         -7.95184821e-02],\n",
       "        [ 1.67695388e-01,  1.63235795e-02,  1.46421030e-01,\n",
       "          1.09666616e-01, -1.95140377e-01, -1.90582514e-01,\n",
       "         -1.05741180e-01,  6.80994336e-03,  3.98255363e-02,\n",
       "         -1.41047135e-01],\n",
       "        [ 9.24713835e-02, -2.17208460e-01, -5.29802628e-02,\n",
       "         -2.08992273e-01,  1.43148944e-01, -1.28437206e-01,\n",
       "          2.01945119e-02,  9.46312696e-02, -1.08170733e-02,\n",
       "          4.44611572e-02],\n",
       "        [-4.22931090e-02,  1.03965670e-01,  1.56640515e-01,\n",
       "         -2.00005963e-01,  1.38301000e-01,  2.29653213e-02,\n",
       "         -1.50965348e-01, -1.18795775e-01,  5.77688590e-02,\n",
       "          5.28677739e-02],\n",
       "        [-2.20299914e-01,  1.89104155e-01,  5.18205129e-02,\n",
       "         -8.78697932e-02, -1.29438499e-02,  3.21929269e-02,\n",
       "          2.17062324e-01, -3.14958766e-02,  4.99898493e-02,\n",
       "         -1.34577937e-02],\n",
       "        [-1.73376888e-01, -6.98604956e-02, -8.77990127e-02,\n",
       "         -2.26562008e-01, -1.19209386e-01,  6.23089485e-02,\n",
       "          1.36362258e-02,  7.51375481e-02, -1.21572159e-01,\n",
       "         -1.69322774e-01],\n",
       "        [-1.73501492e-01,  7.03010857e-02,  5.03230914e-02,\n",
       "         -1.12027656e-02,  2.20357209e-01, -1.22466929e-01,\n",
       "          6.48083836e-02, -9.81085151e-02,  7.31517300e-02,\n",
       "         -1.25656724e-01],\n",
       "        [ 1.56579390e-01,  7.36130401e-02, -1.00528486e-01,\n",
       "          7.95633569e-02, -1.19422540e-01,  5.88304736e-02,\n",
       "         -1.35740891e-01, -1.20483577e-01,  4.97931726e-02,\n",
       "         -9.25463364e-02],\n",
       "        [ 1.90638751e-02,  1.40407473e-01, -1.19214900e-01,\n",
       "          6.64778501e-02, -1.87247068e-01, -1.23233080e-01,\n",
       "          4.86000953e-03,  2.01425537e-01,  1.80222139e-01,\n",
       "         -4.94417474e-02],\n",
       "        [ 3.51856351e-02,  7.99885169e-02,  1.49203300e-01,\n",
       "         -2.04012036e-01, -3.80480178e-02,  1.65141702e-01,\n",
       "         -6.13416731e-02, -3.01844440e-02, -1.30767049e-02,\n",
       "          1.07826501e-01],\n",
       "        [ 5.18301874e-02,  1.12080179e-01,  4.94409539e-02,\n",
       "          2.26329550e-01, -1.67003065e-01,  2.19005093e-01,\n",
       "         -1.59355238e-01, -1.33087218e-01,  1.08802207e-01,\n",
       "          1.50086135e-01],\n",
       "        [ 1.24583784e-02,  8.08390602e-02,  3.29252109e-02,\n",
       "          1.19808279e-01, -1.63195789e-01,  2.10287213e-01,\n",
       "         -2.10397333e-01, -1.11566842e-01,  2.59022750e-02,\n",
       "         -1.52234241e-01],\n",
       "        [-2.07828149e-01, -1.77282855e-01, -1.80945382e-01,\n",
       "         -1.34951875e-01,  2.21078932e-01, -1.51177853e-01,\n",
       "         -2.89248321e-02,  2.17266694e-01, -2.07966000e-01,\n",
       "          6.19881861e-02],\n",
       "        [ 2.09413558e-01,  9.34733544e-03, -5.55517264e-02,\n",
       "         -1.88142210e-01, -2.35274643e-01,  1.96982220e-01,\n",
       "         -1.74547322e-02, -2.12223485e-01, -2.43851580e-02,\n",
       "         -2.27868274e-01],\n",
       "        [ 1.13519922e-01,  7.89184794e-02,  9.45446789e-02,\n",
       "          6.27746806e-02, -2.21193284e-02, -6.08609319e-02,\n",
       "          9.25250128e-02, -6.90932423e-02, -1.10158384e-01,\n",
       "         -8.44466779e-03],\n",
       "        [ 3.98139320e-02, -2.86364392e-03,  1.46804720e-01,\n",
       "         -1.79406613e-01,  1.50852248e-01, -1.30514368e-01,\n",
       "          7.95594696e-03,  1.76231191e-01,  4.94594909e-02,\n",
       "         -4.53028083e-02],\n",
       "        [-1.88679755e-01,  7.33913407e-02,  1.07130550e-01,\n",
       "          3.49785276e-02, -1.75907031e-01,  2.11199224e-01,\n",
       "          1.38039336e-01, -8.85534659e-03,  2.12974489e-01,\n",
       "         -8.49778727e-02],\n",
       "        [ 6.35856688e-02, -4.37986553e-02,  1.21257668e-02,\n",
       "          1.70174874e-02,  1.51451761e-02,  2.32263207e-01,\n",
       "         -2.19152123e-02, -1.79337174e-01,  2.75935456e-02,\n",
       "         -3.55868600e-02],\n",
       "        [-1.25446707e-01, -3.01436409e-02, -6.97326511e-02,\n",
       "         -2.21437618e-01, -1.81679606e-01,  2.29704633e-01,\n",
       "         -4.45480011e-02,  5.38305640e-02,  1.78346559e-01,\n",
       "          8.02957267e-03],\n",
       "        [-9.53896269e-02,  9.49029028e-02, -7.18515068e-02,\n",
       "          1.07834972e-01, -1.37841269e-01,  4.08454165e-02,\n",
       "          4.94938269e-02,  1.16716258e-01,  2.15703752e-02,\n",
       "         -7.72877261e-02],\n",
       "        [ 2.23626360e-01,  3.28680011e-03,  1.44060090e-01,\n",
       "         -7.81156681e-03, -1.60100415e-01,  1.50677770e-01,\n",
       "          1.17735490e-01, -5.56010306e-02,  2.14092776e-01,\n",
       "          3.86170372e-02],\n",
       "        [-1.27229884e-01, -6.00561872e-03, -1.66905507e-01,\n",
       "         -1.71751827e-01,  3.20296809e-02, -2.24730983e-01,\n",
       "         -1.15304694e-01, -1.35995507e-01,  1.19203873e-01,\n",
       "          2.41050646e-01],\n",
       "        [-3.34630348e-02, -9.28386450e-02, -1.33752003e-01,\n",
       "          1.15098082e-01, -1.86087161e-01,  1.89238656e-02,\n",
       "         -9.50686485e-02, -1.94046870e-01, -7.13901073e-02,\n",
       "          8.54745656e-02],\n",
       "        [-2.00866029e-01,  2.24035069e-01,  1.11822858e-01,\n",
       "          5.21113165e-02, -1.02048442e-01, -1.36234434e-02,\n",
       "          2.82119457e-02, -2.21444950e-01,  6.00908771e-02,\n",
       "          1.62116042e-03],\n",
       "        [ 1.08576976e-02, -1.07482998e-02,  9.64022726e-02,\n",
       "          4.50386330e-02, -1.86356738e-01,  5.18216416e-02,\n",
       "         -1.58548746e-02, -8.93542469e-02,  1.65378135e-02,\n",
       "          1.82214662e-01],\n",
       "        [-2.90150102e-02,  4.00919616e-02,  9.42544043e-02,\n",
       "          2.42683649e-01,  6.62267730e-02, -2.26653710e-01,\n",
       "          5.53995110e-02, -1.25370994e-01,  1.99414551e-01,\n",
       "         -1.75697014e-01],\n",
       "        [-7.77915940e-02,  2.06132010e-01,  1.00783028e-01,\n",
       "         -1.39622495e-01, -2.17400521e-01,  3.13354582e-02,\n",
       "          1.37469143e-01,  2.06284076e-01, -1.09403059e-01,\n",
       "          1.36892006e-01],\n",
       "        [-1.57013625e-01, -1.00023761e-01, -6.77701682e-02,\n",
       "         -6.29363284e-02, -6.70429915e-02,  3.23990211e-02,\n",
       "          4.43983637e-02, -7.82837719e-02,  2.08500206e-01,\n",
       "          2.39182726e-01],\n",
       "        [-5.29718772e-02,  1.29604489e-01, -1.65697962e-01,\n",
       "          1.13861673e-01,  8.27692971e-02, -3.70768048e-02,\n",
       "         -3.28897201e-02,  2.19377771e-01, -1.25906374e-02,\n",
       "          1.17932784e-03],\n",
       "        [-3.72238196e-02, -1.71618789e-01, -3.74731538e-03,\n",
       "         -2.00778604e-01, -8.40635076e-02,  6.92047328e-02,\n",
       "          1.94306940e-01,  1.33422062e-01, -1.52689606e-01,\n",
       "         -1.00874379e-01],\n",
       "        [-4.21238281e-02,  1.63565472e-01,  1.72293574e-01,\n",
       "          1.99704438e-01,  1.74523905e-01,  6.97420835e-02,\n",
       "          1.01767786e-01, -1.29484832e-01, -8.98802057e-02,\n",
       "         -6.19856752e-02],\n",
       "        [-1.49051830e-01,  8.91961604e-02, -1.86916858e-01,\n",
       "         -1.65495738e-01, -1.59032255e-01,  1.96626723e-01,\n",
       "         -1.07078720e-02,  1.76452428e-01,  2.13954017e-01,\n",
       "         -9.35908929e-02],\n",
       "        [ 8.34920406e-02, -1.90487206e-01,  2.24955007e-01,\n",
       "         -2.03437969e-01, -1.94700018e-01,  2.07360759e-01,\n",
       "         -5.86639605e-02, -7.60258064e-02, -1.81209490e-01,\n",
       "          2.24283054e-01],\n",
       "        [-1.06436402e-01,  1.92642599e-01,  2.80174916e-03,\n",
       "         -8.52174833e-02,  1.77554786e-01, -1.91375509e-01,\n",
       "         -4.91132401e-02, -1.48542613e-01, -4.77338694e-02,\n",
       "         -2.55404692e-02],\n",
       "        [-8.53323266e-02, -8.26522931e-02, -1.73976228e-01,\n",
       "         -1.00801960e-01, -2.09008917e-01, -9.17798653e-02,\n",
       "          1.48996636e-01, -1.68924987e-01,  1.23491719e-01,\n",
       "          1.66309878e-01],\n",
       "        [-2.27596201e-02,  1.62778131e-03,  1.08697303e-01,\n",
       "          8.57068449e-02,  6.48221895e-02, -4.58470546e-02,\n",
       "          1.76944688e-01,  1.22588053e-01,  2.10357100e-01,\n",
       "          8.12003016e-02],\n",
       "        [ 1.30333886e-01, -1.73835039e-01, -6.49500936e-02,\n",
       "         -1.20138206e-01,  1.59256667e-01, -4.34095003e-02,\n",
       "         -1.69269536e-02, -2.32040659e-01,  1.36250168e-01,\n",
       "         -1.61564276e-01],\n",
       "        [-2.06797659e-01, -1.22536175e-01, -1.94397479e-01,\n",
       "          1.53150797e-01, -8.38593170e-02, -1.04344070e-01,\n",
       "         -2.09516391e-01,  6.53554648e-02,  6.39816523e-02,\n",
       "         -1.78994104e-01],\n",
       "        [-2.30451822e-01,  2.41846442e-02, -9.76041481e-02,\n",
       "          7.24931015e-03, -4.38048393e-02,  1.64732859e-01,\n",
       "          2.15710044e-01,  2.27872074e-01,  8.74376893e-02,\n",
       "          2.05919504e-01],\n",
       "        [-1.72356650e-01, -1.37776583e-01, -1.30956933e-01,\n",
       "          1.53910428e-01,  1.51680395e-01,  1.02433197e-01,\n",
       "         -1.29536092e-01, -1.44263327e-01, -1.78969741e-01,\n",
       "          8.07496682e-02],\n",
       "        [ 1.41734481e-01,  7.59289339e-02, -1.18544944e-01,\n",
       "         -1.67638764e-01, -6.20352067e-02,  9.44952294e-03,\n",
       "          1.48806438e-01,  1.81647353e-02,  2.04681382e-01,\n",
       "         -5.69266453e-02],\n",
       "        [ 1.71689406e-01, -1.44892067e-01, -4.07483876e-02,\n",
       "         -3.85264046e-02,  1.06960811e-01,  1.10673793e-01,\n",
       "          2.56249178e-02,  3.17734145e-02, -9.28222910e-02,\n",
       "         -1.22073991e-02],\n",
       "        [-1.09545045e-01, -4.51326892e-02, -4.10946272e-03,\n",
       "         -1.63258344e-01, -9.34158489e-02,  5.30414321e-02,\n",
       "          8.28962401e-02,  1.78959891e-01, -1.47788167e-01,\n",
       "          2.01391637e-01],\n",
       "        [-4.05752584e-02,  1.86190739e-01, -1.25058249e-01,\n",
       "          3.28515307e-03, -1.60725772e-01,  1.02113947e-01,\n",
       "          1.84308901e-01, -9.40606073e-02, -2.25411415e-01,\n",
       "          8.89166817e-02],\n",
       "        [ 1.85655951e-01, -2.30344713e-01, -1.56373531e-01,\n",
       "          1.17261320e-01,  1.69396311e-01,  4.74012531e-02,\n",
       "         -6.61573261e-02,  1.32100908e-02,  1.22068807e-01,\n",
       "         -1.62287001e-02],\n",
       "        [ 4.28708596e-03, -1.17210656e-01, -2.70479154e-02,\n",
       "          1.85648367e-01,  6.46395683e-02, -2.30317980e-01,\n",
       "          2.21259803e-01,  1.51063845e-01,  1.50525242e-01,\n",
       "         -2.18522176e-01],\n",
       "        [ 2.01827064e-01, -3.01968921e-02, -8.18632916e-02,\n",
       "         -1.02191746e-01,  1.48637488e-01, -1.85801402e-01,\n",
       "         -8.16263333e-02, -2.22635657e-01, -1.30571157e-01,\n",
       "         -2.17340857e-01],\n",
       "        [ 2.21196875e-01,  2.07606271e-01, -1.67896509e-01,\n",
       "          1.98477313e-01, -2.31827706e-01, -4.70924452e-02,\n",
       "         -2.40454974e-04, -1.27490044e-01,  9.50300023e-02,\n",
       "         -1.90510333e-01],\n",
       "        [-2.30067909e-01, -2.21959218e-01, -1.85097735e-02,\n",
       "          1.28898963e-01,  2.26892680e-01, -6.17834628e-02,\n",
       "          7.96220228e-02,  1.58644155e-01, -4.96613383e-02,\n",
       "         -2.19572231e-01],\n",
       "        [-1.13863498e-01,  1.82790115e-01,  1.95910744e-02,\n",
       "         -2.10415609e-02, -4.95197251e-02,  1.86420321e-01,\n",
       "         -2.23219499e-01, -4.06590253e-02,  1.73097983e-01,\n",
       "          1.23328738e-01],\n",
       "        [ 1.71747491e-01, -2.64063962e-02,  9.56827700e-02,\n",
       "          9.63787585e-02, -1.86543971e-01, -8.25459883e-02,\n",
       "         -7.69998580e-02, -7.89692476e-02, -1.46341532e-01,\n",
       "          1.15019485e-01],\n",
       "        [-6.82499260e-02, -3.37440372e-02, -7.09521025e-03,\n",
       "         -2.13267416e-01, -5.92292510e-02, -1.81041975e-02,\n",
       "         -9.86392889e-03,  8.88677686e-02,  1.14699550e-01,\n",
       "         -1.19919956e-01],\n",
       "        [-1.67209785e-02,  1.93480998e-01,  1.88967705e-01,\n",
       "         -1.57965720e-01,  6.98912665e-02, -2.73977034e-02,\n",
       "         -1.52793024e-02,  1.40694618e-01,  1.12394458e-02,\n",
       "          5.85883483e-02],\n",
       "        [ 6.73036501e-02,  1.05667874e-01, -1.87702611e-01,\n",
       "         -1.68376729e-01, -6.52100295e-02, -1.32143244e-01,\n",
       "          1.77639604e-01,  3.27022225e-02,  2.05301702e-01,\n",
       "         -1.80494450e-02],\n",
       "        [-1.68276038e-02,  1.73227400e-01, -1.17740735e-01,\n",
       "          1.03450067e-01,  7.09879845e-02,  2.16972679e-01,\n",
       "         -1.35217726e-01, -8.09973776e-02, -8.49274322e-02,\n",
       "         -1.20568015e-01],\n",
       "        [-1.83110520e-01, -1.76329523e-01,  1.80474952e-01,\n",
       "         -1.08319134e-01,  1.85458273e-01, -3.48416343e-02,\n",
       "          7.29681849e-02,  3.53745893e-02, -5.19573428e-02,\n",
       "         -2.08736621e-02],\n",
       "        [ 1.85755074e-01,  1.33998003e-02,  2.28371859e-01,\n",
       "          1.76099092e-01,  1.03339173e-01, -1.17534049e-01,\n",
       "          2.17021376e-01, -4.10128944e-02, -1.96604371e-01,\n",
       "          4.55971099e-02],\n",
       "        [ 1.05356112e-01,  1.49059817e-01,  1.21922694e-01,\n",
       "          2.42098302e-01, -1.24390289e-01,  6.92411736e-02,\n",
       "          9.11666527e-02, -1.38595149e-01, -5.93213104e-02,\n",
       "          6.27192631e-02],\n",
       "        [-9.37583745e-02, -3.32895294e-02, -1.03203766e-01,\n",
       "         -2.16234028e-01, -4.08129059e-02,  1.63365543e-01,\n",
       "          5.35775051e-02,  1.59973159e-01, -1.84695795e-01,\n",
       "         -1.75066784e-01],\n",
       "        [ 7.23747909e-02,  1.79449528e-01,  1.17601909e-01,\n",
       "          9.90268067e-02, -1.33538336e-01, -3.01729161e-02,\n",
       "          1.55032679e-01,  8.29289705e-02,  1.12468759e-02,\n",
       "         -3.20248343e-02],\n",
       "        [-2.43042000e-02,  1.64844021e-01, -4.69520725e-02,\n",
       "         -1.09213166e-01, -1.28015444e-01,  7.39020705e-02,\n",
       "         -7.22731203e-02, -2.37853676e-01, -1.41736075e-01,\n",
       "          2.15749666e-01],\n",
       "        [-2.18053237e-01,  7.89218098e-02, -2.24923894e-01,\n",
       "         -2.10057333e-01,  9.32150707e-02, -1.16110936e-01,\n",
       "          2.99832541e-02, -1.58759549e-01, -1.55007601e-01,\n",
       "         -2.87851493e-04],\n",
       "        [ 2.06216127e-01,  1.65959626e-01,  2.13020831e-01,\n",
       "         -1.33544922e-01, -9.50829238e-02, -6.78388774e-02,\n",
       "         -1.49132892e-01, -1.60053819e-01,  2.28014559e-01,\n",
       "          1.96710944e-01],\n",
       "        [ 4.36201915e-02, -1.01183243e-01,  9.22570378e-03,\n",
       "          1.16170548e-01, -1.90028191e-01, -2.03720883e-01,\n",
       "         -1.09583765e-01,  1.24790572e-01,  2.30446428e-01,\n",
       "         -1.24628715e-01],\n",
       "        [-2.13908240e-01, -1.10441886e-01,  1.25204012e-01,\n",
       "          1.45499334e-01, -8.43946710e-02, -1.33090662e-02,\n",
       "          1.52083948e-01,  3.36400419e-02, -8.83026943e-02,\n",
       "         -2.29342021e-02],\n",
       "        [-1.35712326e-01, -2.27230832e-01,  4.32726257e-02,\n",
       "          6.40415698e-02, -1.01964399e-01,  7.62764439e-02,\n",
       "         -1.70738459e-01, -1.89432176e-05,  2.91343816e-02,\n",
       "         -1.54116988e-01],\n",
       "        [ 2.18484141e-02, -1.28669679e-01,  5.75387068e-02,\n",
       "          3.94680984e-02,  3.63105047e-03,  1.08730957e-01,\n",
       "         -2.08460763e-02,  1.74491361e-01,  2.66945604e-02,\n",
       "          4.76328954e-02],\n",
       "        [-2.29606792e-01,  2.55227294e-02,  1.95763201e-01,\n",
       "          3.14648226e-02, -8.09263960e-02,  2.15118408e-01,\n",
       "          1.14312179e-01,  1.67822510e-01,  2.17029259e-01,\n",
       "         -2.35576138e-01],\n",
       "        [ 1.24081023e-01, -1.98485702e-01,  5.78985177e-02,\n",
       "         -1.23037696e-01,  2.01021150e-01,  5.96810281e-02,\n",
       "         -2.86646094e-03,  8.54141712e-02, -1.79823354e-01,\n",
       "         -6.21421076e-02],\n",
       "        [-5.99839687e-02,  1.78627834e-01,  1.69195294e-01,\n",
       "          1.12592176e-01,  5.09896390e-02, -1.28654420e-01,\n",
       "          8.35137069e-02,  2.33585775e-01, -3.89196128e-02,\n",
       "          1.43590584e-01],\n",
       "        [-1.64278284e-01, -1.62696853e-01,  9.24638212e-02,\n",
       "          1.00329593e-01,  2.15088248e-01, -5.22350669e-02,\n",
       "          9.64456573e-02,  1.21835269e-01, -1.03165887e-01,\n",
       "         -7.20235184e-02],\n",
       "        [-3.14457305e-02, -4.69259992e-02,  1.72296003e-01,\n",
       "          1.30431741e-01, -5.04559800e-02,  2.24600583e-01,\n",
       "         -6.18120767e-02,  5.74578941e-02,  1.76047921e-01,\n",
       "          1.01789914e-01],\n",
       "        [ 2.49888413e-02, -1.50763288e-01, -1.55894980e-01,\n",
       "          5.29259741e-02, -2.11444095e-01,  2.12935954e-01,\n",
       "         -5.15339933e-02,  1.50617018e-01,  1.24933004e-01,\n",
       "          1.20414980e-01],\n",
       "        [ 1.78959996e-01,  6.07977882e-02,  1.63250059e-01,\n",
       "         -2.03936860e-01,  8.56890902e-02,  6.25730753e-02,\n",
       "         -1.03817336e-01,  1.68503299e-01,  1.56447977e-01,\n",
       "         -1.68457662e-03],\n",
       "        [ 1.54174834e-01, -9.21438858e-02, -2.10288286e-01,\n",
       "          6.40661344e-02, -4.16409485e-02,  1.25815541e-01,\n",
       "         -1.93895042e-01, -5.80775402e-02,  1.67755261e-01,\n",
       "          2.00957462e-01],\n",
       "        [ 9.35767815e-02,  1.12788208e-01, -4.82028276e-02,\n",
       "          1.49064977e-02,  8.54947567e-02, -5.40308282e-02,\n",
       "          1.96039245e-01,  6.32912666e-02, -1.58949681e-02,\n",
       "         -9.57315415e-02],\n",
       "        [ 8.59794915e-02,  2.17726186e-01, -2.11297363e-01,\n",
       "         -6.32432997e-02,  9.74216759e-02,  1.62828848e-01,\n",
       "          1.20069589e-02,  1.95028946e-01,  2.96657323e-03,\n",
       "         -2.23138079e-01],\n",
       "        [-1.86910257e-01,  8.57772082e-02,  1.19965374e-01,\n",
       "          1.85234666e-01,  1.23919122e-01, -6.50610356e-03,\n",
       "         -1.07576005e-01, -2.04963252e-01, -1.13306828e-01,\n",
       "         -2.42736414e-01],\n",
       "        [ 2.13404000e-01, -3.85004692e-02,  2.33329162e-01,\n",
       "          2.23787695e-01,  7.19710439e-02,  1.07071511e-01,\n",
       "          6.14037067e-02,  1.11323837e-02, -2.75686532e-02,\n",
       "          2.90957056e-02],\n",
       "        [ 1.71604991e-01, -1.14984982e-01,  3.15337367e-02,\n",
       "          1.22179717e-01, -1.17387101e-01,  1.69357955e-01,\n",
       "          2.75499243e-02, -1.92593321e-01, -1.00798272e-01,\n",
       "         -1.25122219e-01],\n",
       "        [-2.09746167e-01, -1.24096327e-01,  1.55314535e-01,\n",
       "          1.19374469e-02, -4.22291718e-02,  1.10719226e-01,\n",
       "          1.46077529e-01,  2.27340654e-01, -1.37936369e-01,\n",
       "          5.36674522e-02],\n",
       "        [-6.38867766e-02, -7.80933052e-02,  7.41416663e-02,\n",
       "          5.53253293e-02,  9.96843204e-02,  1.52177294e-03,\n",
       "         -9.76775065e-02, -1.69116274e-01, -1.83189631e-01,\n",
       "          9.49796196e-03],\n",
       "        [ 1.35412917e-01,  1.50519982e-01, -2.27703884e-01,\n",
       "         -8.58436245e-03,  1.04532339e-01,  1.63791791e-01,\n",
       "          1.87555149e-01,  1.10841088e-01, -1.76026911e-01,\n",
       "          2.04845816e-01],\n",
       "        [ 1.00828283e-01, -1.27400011e-01,  2.34123841e-01,\n",
       "         -1.04025807e-02, -2.47530155e-02,  1.49094062e-02,\n",
       "         -7.31159225e-02, -8.84632170e-02, -2.31310353e-01,\n",
       "          9.82464701e-02],\n",
       "        [ 5.94150946e-02,  2.17555851e-01,  3.23887244e-02,\n",
       "          9.99093950e-02,  1.91125169e-01, -2.19496250e-01,\n",
       "          5.52264228e-02, -2.09480003e-02,  1.98621348e-01,\n",
       "         -1.05865747e-02],\n",
       "        [ 1.60738036e-01,  1.92679912e-01,  4.88581806e-02,\n",
       "         -7.79843656e-03,  1.07217900e-01, -1.38520613e-01,\n",
       "         -2.08743319e-01, -1.15024112e-01, -1.82142049e-01,\n",
       "         -1.21189542e-01],\n",
       "        [-1.52838826e-01, -1.82974115e-01, -3.45406793e-02,\n",
       "          1.01695038e-01, -8.64149556e-02, -1.58760458e-01,\n",
       "          1.03625730e-01, -1.22571170e-01,  5.61017096e-02,\n",
       "          1.44596383e-01],\n",
       "        [ 1.60852596e-01, -8.79730508e-02,  2.03074500e-01,\n",
       "         -5.84448837e-02,  1.83013901e-01,  3.01945349e-03,\n",
       "          1.02232963e-01,  9.10474360e-02, -2.08315805e-01,\n",
       "         -1.81549028e-01]], dtype=float32),\n",
       " array([-0.00499078, -0.01036954, -0.00158062,  0.0035711 , -0.0039484 ,\n",
       "        -0.00032888, -0.00253396, -0.01354214, -0.00058149,  0.00252129],\n",
       "       dtype=float32),\n",
       " array([1.012464  , 1.0026822 , 0.9808869 , 0.9924951 , 0.99905074,\n",
       "        1.0000048 , 1.0036004 , 1.0313444 , 1.0005246 , 1.0014632 ],\n",
       "       dtype=float32),\n",
       " array([ 0.04105393, -0.03562689,  0.02584649, -0.04247421,  0.03714895,\n",
       "        -0.00319346, -0.00591009, -0.03213718, -0.00218935, -0.04069267],\n",
       "       dtype=float32),\n",
       " array([0.3803601 , 0.29957095, 0.2199768 , 0.3150641 , 0.43741497,\n",
       "        0.23488246, 0.32057136, 0.4451869 , 0.22262429, 0.37021583],\n",
       "       dtype=float32),\n",
       " array([2.1852403, 1.9240735, 1.065636 , 1.3348204, 1.699298 , 1.1072103,\n",
       "        1.0945392, 1.53475  , 0.9410258, 1.444699 ], dtype=float32),\n",
       " array([[ 0.6067025 ],\n",
       "        [-0.5343606 ],\n",
       "        [ 0.35908502],\n",
       "        [-0.6250634 ],\n",
       "        [ 0.54703814],\n",
       "        [-0.05052223],\n",
       "        [-0.11553071],\n",
       "        [-0.511695  ],\n",
       "        [-0.0496299 ],\n",
       "        [-0.5959373 ]], dtype=float32),\n",
       " array([0.06897715], dtype=float32)]"
      ]
     },
     "execution_count": 58,
     "metadata": {},
     "output_type": "execute_result"
    }
   ],
   "source": [
    "model_clf.get_weights()"
   ]
  },
  {
   "cell_type": "markdown",
   "metadata": {},
   "source": [
    "Q14. Store the model's training history as a Pandas DataFrame."
   ]
  },
  {
   "cell_type": "code",
   "execution_count": 59,
   "metadata": {},
   "outputs": [
    {
     "data": {
      "text/html": [
       "<div>\n",
       "<style scoped>\n",
       "    .dataframe tbody tr th:only-of-type {\n",
       "        vertical-align: middle;\n",
       "    }\n",
       "\n",
       "    .dataframe tbody tr th {\n",
       "        vertical-align: top;\n",
       "    }\n",
       "\n",
       "    .dataframe thead th {\n",
       "        text-align: right;\n",
       "    }\n",
       "</style>\n",
       "<table border=\"1\" class=\"dataframe\">\n",
       "  <thead>\n",
       "    <tr style=\"text-align: right;\">\n",
       "      <th></th>\n",
       "      <th>loss</th>\n",
       "      <th>accuracy</th>\n",
       "      <th>val_loss</th>\n",
       "      <th>val_accuracy</th>\n",
       "    </tr>\n",
       "  </thead>\n",
       "  <tbody>\n",
       "    <tr>\n",
       "      <th>0</th>\n",
       "      <td>0.597180</td>\n",
       "      <td>0.702793</td>\n",
       "      <td>0.607153</td>\n",
       "      <td>0.723214</td>\n",
       "    </tr>\n",
       "    <tr>\n",
       "      <th>1</th>\n",
       "      <td>0.502229</td>\n",
       "      <td>0.751955</td>\n",
       "      <td>0.594077</td>\n",
       "      <td>0.714286</td>\n",
       "    </tr>\n",
       "    <tr>\n",
       "      <th>2</th>\n",
       "      <td>0.509613</td>\n",
       "      <td>0.758659</td>\n",
       "      <td>0.584639</td>\n",
       "      <td>0.732143</td>\n",
       "    </tr>\n",
       "    <tr>\n",
       "      <th>3</th>\n",
       "      <td>0.502393</td>\n",
       "      <td>0.751955</td>\n",
       "      <td>0.577579</td>\n",
       "      <td>0.714286</td>\n",
       "    </tr>\n",
       "    <tr>\n",
       "      <th>4</th>\n",
       "      <td>0.491453</td>\n",
       "      <td>0.757542</td>\n",
       "      <td>0.566627</td>\n",
       "      <td>0.750000</td>\n",
       "    </tr>\n",
       "  </tbody>\n",
       "</table>\n",
       "</div>"
      ],
      "text/plain": [
       "       loss  accuracy  val_loss  val_accuracy\n",
       "0  0.597180  0.702793  0.607153      0.723214\n",
       "1  0.502229  0.751955  0.594077      0.714286\n",
       "2  0.509613  0.758659  0.584639      0.732143\n",
       "3  0.502393  0.751955  0.577579      0.714286\n",
       "4  0.491453  0.757542  0.566627      0.750000"
      ]
     },
     "execution_count": 59,
     "metadata": {},
     "output_type": "execute_result"
    }
   ],
   "source": [
    "training_history = pd.DataFrame(history.history)\n",
    "training_history.head()"
   ]
  },
  {
   "cell_type": "markdown",
   "metadata": {},
   "source": [
    "Q15. Plot the training history (e.g., accuracy and loss) using suitable visualization techniques."
   ]
  },
  {
   "cell_type": "code",
   "execution_count": 78,
   "metadata": {},
   "outputs": [
    {
     "data": {
      "text/plain": [
       "<Axes: title={'center': 'Model Training History'}>"
      ]
     },
     "execution_count": 78,
     "metadata": {},
     "output_type": "execute_result"
    },
    {
     "data": {
      "image/png": "[encoded data removed]",
      "text/plain": [
       "<Figure size 640x480 with 1 Axes>"
      ]
     },
     "metadata": {},
     "output_type": "display_data"
    }
   ],
   "source": [
    "training_history.plot(title=\"Model Training History\")"
   ]
  },
  {
   "cell_type": "markdown",
   "metadata": {},
   "source": [
    "Q16. Evaluate the model's performance using the test dataset and report relevant metrics."
   ]
  },
  {
   "cell_type": "code",
   "execution_count": 63,
   "metadata": {},
   "outputs": [
    {
     "name": "stdout",
     "output_type": "stream",
     "text": [
      "15/15 [==============================] - 0s 5ms/step - loss: 0.5268 - accuracy: 0.7292\n"
     ]
    },
    {
     "data": {
      "text/plain": [
       "[0.5267515778541565, 0.7291666865348816]"
      ]
     },
     "execution_count": 63,
     "metadata": {},
     "output_type": "execute_result"
    }
   ],
   "source": [
    "prediction = model_clf.evaluate(X_test,y_test)\n",
    "prediction"
   ]
  },
  {
   "cell_type": "code",
   "execution_count": 76,
   "metadata": {},
   "outputs": [
    {
     "name": "stdout",
     "output_type": "stream",
     "text": [
      "Loss of prediction is 0.5267515778541565\n",
      "----------------------------------------\n",
      "Accuracy of prediction is 0.7291666865348816\n"
     ]
    }
   ],
   "source": [
    "print(\"Loss of prediction is {}\".format(prediction[0]))\n",
    "print(\"-\"*40)\n",
    "print(\"Accuracy of prediction is {}\".format(prediction[1]))"
   ]
  }
 ],
 "metadata": {
  "kernelspec": {
   "display_name": "Python 3 (ipykernel)",
   "language": "python",
   "name": "python3"
  },
  "language_info": {
   "codemirror_mode": {
    "name": "ipython",
    "version": 3
   },
   "file_extension": ".py",
   "mimetype": "text/x-python",
   "name": "python",
   "nbconvert_exporter": "python",
   "pygments_lexer": "ipython3",
   "version": "3.10.8"
  }
 },
 "nbformat": 4,
 "nbformat_minor": 4
}
