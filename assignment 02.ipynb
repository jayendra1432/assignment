{
 "cells": [
  {
   "cell_type": "code",
   "execution_count": 1,
   "id": "70896493-2165-4fba-b13d-71974760bc11",
   "metadata": {},
   "outputs": [
    {
     "name": "stdin",
     "output_type": "stream",
     "text": [
      "enter your obtained marks 22\n"
     ]
    },
    {
     "name": "stdout",
     "output_type": "stream",
     "text": [
      "Grade D\n"
     ]
    }
   ],
   "source": [
    "#1 A program to accept percentage from the user\n",
    "\n",
    "\n",
    "\n",
    "marks = int(input(\"enter your obtained marks\"))\n",
    "if marks > 90 :\n",
    "    print(\"Grade A\")\n",
    "elif marks > 80 and  marks <= 90 :\n",
    "    print(\"Grade B\")\n",
    "elif marks >= 60 and marks <= 80 :\n",
    "    print(\"Grade C\")\n",
    "else :\n",
    "    print(\"Grade D\")"
   ]
  },
  {
   "cell_type": "code",
   "execution_count": 2,
   "id": "b6bb2f7a-dd8b-496b-9f36-0db7ae4ae627",
   "metadata": {},
   "outputs": [
    {
     "name": "stdin",
     "output_type": "stream",
     "text": [
      "enter your cost price 2221\n"
     ]
    },
    {
     "name": "stdout",
     "output_type": "stream",
     "text": [
      "your road tax is 5%\n"
     ]
    }
   ],
   "source": [
    "#2 A program to accept the cost price of a bike and aisplay the road tax to be paid\n",
    "\n",
    "price = int(input(\"enter your cost price\"))\n",
    "if price > 100000:\n",
    "    print(\"your road tax is 15%\")\n",
    "elif price > 50000 and price <= 100000:\n",
    "    print(\"your road tax is 10%\")\n",
    "else :\n",
    "    print(\"your road tax is 5%\")\n"
   ]
  },
  {
   "cell_type": "code",
   "execution_count": 3,
   "id": "647a822b-57d8-444f-a581-058c7e12c6b9",
   "metadata": {},
   "outputs": [
    {
     "name": "stdin",
     "output_type": "stream",
     "text": [
      "enter your city Jaipur\n"
     ]
    },
    {
     "name": "stdout",
     "output_type": "stream",
     "text": [
      "Monument of your city is Jal Mahal\n"
     ]
    }
   ],
   "source": [
    "#3 monuments for cities\n",
    "\n",
    "city = input(\"enter your city\")\n",
    "if city == \"Dehli\" :\n",
    "    print(\"Monument of your city is Red Fort\")\n",
    "elif city == \"Agra\" :\n",
    "    print(\"Monument of your city is Taj Mahal\")\n",
    "elif city == \"Jaipur\" :\n",
    "    print(\"Monument of your city is Jal Mahal\")"
   ]
  },
  {
   "cell_type": "code",
   "execution_count": 4,
   "id": "16e5ddd6-089d-42fb-a00a-b828e5c85060",
   "metadata": {},
   "outputs": [
    {
     "name": "stdout",
     "output_type": "stream",
     "text": [
      "0\n",
      "3\n",
      "6\n",
      "9\n"
     ]
    }
   ],
   "source": [
    "#4 check number\n",
    "\n",
    "list(range(0,10,3))\n",
    "\n",
    "for i in range(0,10,3):\n",
    "    print(i)"
   ]
  },
  {
   "cell_type": "code",
   "execution_count": 5,
   "id": "1ff2e0e8-b1cd-4ec0-ab47-8da264c07b2c",
   "metadata": {},
   "outputs": [
    {
     "name": "stdout",
     "output_type": "stream",
     "text": [
      "0\n",
      "2\n",
      "4\n",
      "6\n",
      "8\n",
      "10\n",
      "12\n",
      "14\n",
      "16\n",
      "18\n",
      "20\n"
     ]
    }
   ],
   "source": [
    "#5 Q.05 Why and when to use while loop in Python give a detailed description with example.\n",
    "\n",
    "\n",
    "#Answer:- Python While Loop is used to execute a block of statements repeatedly until a given condition is satisfied. And when the condition becomes false, the line immediately after the loop in the program is executed.\n",
    "            #Example :-\n",
    "    \n",
    "a = 0\n",
    "    \n",
    "while a <= 20:\n",
    "    print(a)\n",
    "    a = a + 2\n",
    "    "
   ]
  },
  {
   "cell_type": "code",
   "execution_count": 7,
   "id": "e9498c5d-5abd-46d7-ba48-ed6ef75939b1",
   "metadata": {},
   "outputs": [
    {
     "name": "stdout",
     "output_type": "stream",
     "text": [
      "1\n",
      "3\n",
      "6\n",
      "10\n"
     ]
    }
   ],
   "source": [
    "#6 use nested while loop different pattern\n",
    "\n",
    "\n",
    "a = 1  \n",
    "while a <= 10:\n",
    "    print(a)\n",
    "    a = a + 2\n",
    "    while a <= 10 :\n",
    "        print(a)\n",
    "        a = a + 3\n",
    "        while a <= 10 :\n",
    "            print(a)\n",
    "            a = a + 4"
   ]
  },
  {
   "cell_type": "code",
   "execution_count": 1,
   "id": "448667e4-1b7a-49a7-bcb1-fb8414532421",
   "metadata": {},
   "outputs": [
    {
     "name": "stdout",
     "output_type": "stream",
     "text": [
      "10\n",
      "9\n",
      "8\n",
      "7\n",
      "6\n",
      "5\n",
      "4\n",
      "3\n",
      "2\n",
      "1\n"
     ]
    }
   ],
   "source": [
    "#7 while loop to display numbers from 10 to 1\n",
    "\n",
    "\n",
    "reverse = 10\n",
    "while reverse > 0 :\n",
    "    print(reverse)\n",
    "    reverse = reverse - 1\n"
   ]
  },
  {
   "cell_type": "code",
   "execution_count": 3,
   "id": "673c4b6f-2f7b-4c16-a20f-965a28d974ff",
   "metadata": {},
   "outputs": [
    {
     "name": "stdout",
     "output_type": "stream",
     "text": [
      "1\n",
      "2\n",
      "3\n",
      "4\n",
      "5\n",
      "6\n",
      "7\n",
      "8\n",
      "9\n",
      "10\n"
     ]
    }
   ],
   "source": [
    "#8 while loop to display numbers from 1 to 10\n",
    "\n",
    "\n",
    "reverse = 1\n",
    "while reverse <= 10 :\n",
    "    print(reverse)\n",
    "    reverse = reverse + 1"
   ]
  }
 ],
 "metadata": {
  "kernelspec": {
   "display_name": "Python 3 (ipykernel)",
   "language": "python",
   "name": "python3"
  },
  "language_info": {
   "codemirror_mode": {
    "name": "ipython",
    "version": 3
   },
   "file_extension": ".py",
   "mimetype": "text/x-python",
   "name": "python",
   "nbconvert_exporter": "python",
   "pygments_lexer": "ipython3",
   "version": "3.10.8"
  }
 },
 "nbformat": 4,
 "nbformat_minor": 5
}
