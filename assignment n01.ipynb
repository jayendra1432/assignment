{
 "cells": [
  {
   "cell_type": "code",
   "execution_count": 26,
   "id": "42be12ff-e675-4b33-b1aa-074884a8ae4e",
   "metadata": {},
   "outputs": [],
   "source": [
    " #Question:-01. Who developed Python Programming Language?\n",
    "    \n",
    "#Answer:- 01.  Guido van Rossum discovered python programming and its implementation began in Dec 1989."
   ]
  },
  {
   "cell_type": "code",
   "execution_count": 7,
   "id": "567717eb-d8c3-46e5-83b5-94a0eeba146d",
   "metadata": {},
   "outputs": [],
   "source": [
    "#Question:-02. Which type of Programming does Python support?\n",
    "\n",
    "#Answer:- 02. Python supports object-oriented, structured, and functional programming."
   ]
  },
  {
   "cell_type": "code",
   "execution_count": 9,
   "id": "b04ae88c-21cd-41bd-bc1c-c76a7adc3b62",
   "metadata": {},
   "outputs": [],
   "source": [
    "#Question:-03. Is Python case sensitive when dealing with identifiers?\n",
    "\n",
    "#Answer:- 03. Yes, Python is a case sensitive when dealing with identifiers. This means, Variable and variable are not the same. Always give the identifiers a name that makes sense."
   ]
  },
  {
   "cell_type": "code",
   "execution_count": 10,
   "id": "8c9b5219-4531-43e8-8b79-2400e99298a5",
   "metadata": {},
   "outputs": [],
   "source": [
    "#Question 04. What is the correct extension of the Python file?\n",
    "\n",
    "#Answer 04. .py is the correct extension of the Python file."
   ]
  },
  {
   "cell_type": "code",
   "execution_count": 11,
   "id": "993f1090-ae05-4d3c-b99d-57b5402032fa",
   "metadata": {},
   "outputs": [],
   "source": [
    "#Question 05. Is Python code compiled or interpreted?\n",
    "\n",
    "#Answer 05. Python code is interpreted."
   ]
  },
  {
   "cell_type": "code",
   "execution_count": 12,
   "id": "90085119-ac95-49bf-9b4a-6ba1c0a2b9a4",
   "metadata": {},
   "outputs": [],
   "source": [
    "#Question 06. Name a few blocks of code used to define in Python language?\n",
    "\n",
    "#Answer 06. The following are blocks: a module, a function body, and a class definition."
   ]
  },
  {
   "cell_type": "code",
   "execution_count": 13,
   "id": "ce808f08-2f91-473a-91b6-a95ce05a354f",
   "metadata": {},
   "outputs": [],
   "source": [
    "#Question 07. State a character used to give single-line comments in Python?\n",
    "\n",
    "#Answer 07. (#) is a character used to give single-line comments in Python."
   ]
  },
  {
   "cell_type": "code",
   "execution_count": 14,
   "id": "8b8517bb-754f-4494-9e5e-074c5f23700b",
   "metadata": {},
   "outputs": [],
   "source": [
    "#Question 08. Mention functions which can help us to find the version of python that we are currently working on?\n",
    "\n",
    "#Answer 08. The function sys.version can help us to find the version of python that we are currently working on."
   ]
  },
  {
   "cell_type": "code",
   "execution_count": 15,
   "id": "3a69951f-a327-4ac5-88fb-0ce97f44d462",
   "metadata": {},
   "outputs": [],
   "source": [
    "#Question 09. Python supports the creation of anonymous functions at runtime, using a construct called\n",
    "\n",
    "#Answer 09.  Python supports the creation of anonymous functions at runtime, using a construct called lambda ."
   ]
  },
  {
   "cell_type": "code",
   "execution_count": 16,
   "id": "8b11486c-9e97-44c3-a5d1-6a4654ba8bfe",
   "metadata": {},
   "outputs": [],
   "source": [
    "#Question:- 10. What does pip stand for python?\n",
    "\n",
    "#Answer:- 10. Pip is a powerful package management system for Python software packages. Pip is the standard tool for installing Python packages and their dependencies in a secure manner."
   ]
  },
  {
   "cell_type": "code",
   "execution_count": 17,
   "id": "087c570d-6889-4dff-91c1-159f001048d6",
   "metadata": {},
   "outputs": [],
   "source": [
    "#Question 11. Mention a few built-in functions in python?\n",
    "\n",
    "#Answer 11. Python Built in Functions are\n",
    "            print( ) function.\n",
    "            type( ) function.\n",
    "            input( ) function.\n",
    "            float( ) function.\n",
    "            max( ) function.\n",
    "            min( ) function.\n",
    "            str( ) function.\n",
    "            help( ) function.\n",
    "            int( ) function.\n",
    "    \n",
    "            "
   ]
  },
  {
   "cell_type": "code",
   "execution_count": 18,
   "id": "7f656b78-912f-4e4b-b45d-825845fee534",
   "metadata": {},
   "outputs": [],
   "source": [
    "#Question 12. What is the maximum possible length of an identifier in Python?\n",
    "\n",
    "#Answer 12. An identifier can have a maximum length of 79 characters in Python."
   ]
  },
  {
   "cell_type": "code",
   "execution_count": 19,
   "id": "84248028-09af-4973-bb83-cf2ada9b511a",
   "metadata": {},
   "outputs": [],
   "source": [
    "#13. What are the benefits of using Python?\n",
    "\n",
    "#Answer 13. Benefits of using Python are:\n",
    "            1. Simple to read, understand, and use\n",
    "            2.Interpreted language\n",
    "            3.Extensive library\n",
    "            4.Free and open source\n",
    "            5.Dynamically typed\n",
    "            6.Portability\n",
    "            7.Broad supportive community\n",
    "            8.Component integration"
   ]
  },
  {
   "cell_type": "code",
   "execution_count": 20,
   "id": "454a842f-092f-46a9-9e57-a6da2e8024b3",
   "metadata": {},
   "outputs": [],
   "source": [
    "#Question 14. How is memory managed in Python?\n",
    "\n",
    "#Answer 14. The Python interpreter automatically manages memory allocation and deallocation through a process called garbage collection."
   ]
  },
  {
   "cell_type": "code",
   "execution_count": 21,
   "id": "46ac161b-a06e-4908-9726-9eb2b57b6bf0",
   "metadata": {},
   "outputs": [],
   "source": [
    "#Question 15. How to install Python on Windows and set path variables?\n",
    "\n",
    "#Answer 15. Installing Python on Windows takes a series of few easy steps.\n",
    "            \n",
    "    Step 1 − Select Version of Python to Install.\n",
    "    Step 2 − Download Python Executable Installer.\n",
    "    Step 3 − Run Executable Installer.\n",
    "    Step 4 − Verify Python is installed on Windows.\n",
    "    Step 5 − Verify Pip was installed.\n",
    "    \n",
    "    The complete path of python.exe can be added by:\n",
    "    Step 1 − Right-clicking This PC and going to Properties.\n",
    "    Step 2 − Clicking on the Advanced system settings in the menu on the left.\n",
    "    Step 3 − Clicking on the Environment Variables button o​n the bottom right.\n",
    "    Step 4 − In the System variables section, selecting the Path variable and clicking on Edit. The next screen will show all the directories that are currently a part of the PATH variable.\n",
    "    Step 5 − Clicking on New and entering Python’s install directory."
   ]
  },
  {
   "cell_type": "code",
   "execution_count": 22,
   "id": "de391c51-98af-460d-90f6-6e0bae55fb89",
   "metadata": {},
   "outputs": [],
   "source": [
    "#Question 16. Is indentation required in python?\n",
    "\n",
    "#Answer 16. Indentation is important to Python, because it's how you determine scope. Scope is how Python knows what code belongs to what part of the program."
   ]
  },
  {
   "cell_type": "code",
   "execution_count": null,
   "id": "1cc555ca-8d89-4c5b-9b45-2816d3461afb",
   "metadata": {},
   "outputs": [],
   "source": []
  }
 ],
 "metadata": {
  "kernelspec": {
   "display_name": "Python 3 (ipykernel)",
   "language": "python",
   "name": "python3"
  },
  "language_info": {
   "codemirror_mode": {
    "name": "ipython",
    "version": 3
   },
   "file_extension": ".py",
   "mimetype": "text/x-python",
   "name": "python",
   "nbconvert_exporter": "python",
   "pygments_lexer": "ipython3",
   "version": "3.10.8"
  }
 },
 "nbformat": 4,
 "nbformat_minor": 5
}
