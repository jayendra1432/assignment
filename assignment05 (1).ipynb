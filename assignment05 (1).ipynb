{
 "cells": [
  {
   "cell_type": "code",
   "execution_count": 3,
   "id": "23914b30-c5d6-4ea1-ac70-6755cfd5d63d",
   "metadata": {},
   "outputs": [],
   "source": [
    "#Q1. Explain Class and Object with respect to Object-Oriented Programming. Give a suitable example.\n",
    "\n",
    "#Ans:- In object-oriented programming, a class is a blueprint or a template for creating objects that encapsulate data and behavior. An object is an instance of a class, and it has its own unique data and behavior based on the class it was created from.\n",
    "\n",
    "class cycle :\n",
    "    def __init__(self , brand_name, modal_number , price, year,):\n",
    "        self.brand_name = brand_name\n",
    "        self.modal_number = modal_number\n",
    "        self.price = price\n",
    "        self.year = year\n",
    "        \n",
    "    def return_cycle_info(self) :\n",
    "        return self.brand_name, self.modal_number, self.price, self.year\n",
    "    "
   ]
  },
  {
   "cell_type": "code",
   "execution_count": 7,
   "id": "8684247e-9d77-4687-877e-baa57f2ea5ad",
   "metadata": {},
   "outputs": [],
   "source": [
    "jayendra = cycle(\"hero\",1234,9997,2022)"
   ]
  },
  {
   "cell_type": "code",
   "execution_count": 8,
   "id": "487d3e96-f7eb-4b91-ad82-ce1d690ed7d5",
   "metadata": {},
   "outputs": [
    {
     "data": {
      "text/plain": [
       "('hero', 1234, 9997, 2022)"
      ]
     },
     "execution_count": 8,
     "metadata": {},
     "output_type": "execute_result"
    }
   ],
   "source": [
    "jayendra.return_cycle_info()"
   ]
  },
  {
   "cell_type": "code",
   "execution_count": 2,
   "id": "52107407-8f4e-4977-8720-7fb6e67e76cb",
   "metadata": {},
   "outputs": [],
   "source": [
    "#Q2. Name the four pillars of OOPs.\n",
    "\n",
    "#Ans:- The four pillars of Object-Oriented Programming are: \n",
    "#1.Encapsulation, \n",
    "#2.Inheritance,\n",
    "#3.Polymorphism,\n",
    "#4.Abstraction."
   ]
  },
  {
   "cell_type": "code",
   "execution_count": 3,
   "id": "09453773-b02d-4926-8bff-9c7a16b9db93",
   "metadata": {},
   "outputs": [
    {
     "name": "stdout",
     "output_type": "stream",
     "text": [
      "Name: Jayendra\n",
      "Roll No: 101\n"
     ]
    }
   ],
   "source": [
    "#Q3. Explain why the __init__() function is used. Give a suitable example.\n",
    "\n",
    "#Ans:- __init__() is a special method that is used to initialize the attributes of an object when it is created. The __init__() method is called automatically when an object of a class is created. It takes the self parameter, which refers to the instance of the class that is being created, and other parameters that are used to initialize the attributes of the object.\n",
    "#Example:-\n",
    "class Student:\n",
    "    def __init__(self, name, roll_no):\n",
    "        self.name = name\n",
    "        self.roll_no = roll_no\n",
    "\n",
    "    def return_student_info(self):\n",
    "        print(\"Name:\", self.name)\n",
    "        print(\"Roll No:\", self.roll_no)\n",
    "\n",
    "s1 = Student(\"Jayendra\", 101)\n",
    "s1.return_student_info()\n"
   ]
  },
  {
   "cell_type": "code",
   "execution_count": 4,
   "id": "619d736f-ea36-4d75-b273-cb4b4640c16d",
   "metadata": {},
   "outputs": [],
   "source": [
    "#Q4. Why self is used in OOPs?\n",
    "\n",
    "#Ans:- In object-oriented programming, self refers to the instance of a class. It is used as a parameter in method definitions and represents the instance that the method is being called on. When a method is called on an instance of a class, self is used to access the attributes and methods of that instance. It allows different instances of the same class to have different values for their attributes."
   ]
  },
  {
   "cell_type": "code",
   "execution_count": 7,
   "id": "6d0a6631-4765-4284-8554-e249b9f3840a",
   "metadata": {},
   "outputs": [],
   "source": [
    "#Q5. What is inheritance? Give an example for each type of inheritance.\n",
    "\n",
    "#Ans:- Inheritance is a mechanism in object-oriented programming (OOP) that allows one class (child/derived class) to inherit properties and behaviors from another class (parent/base class). The child class can access all the non-private attributes and methods of the parent class.\n",
    "#There are four types of inheritance in Python:\n",
    "\n",
    "#1.Single inheritance: A child class inherits from a single parent class.\n",
    "#Example:-\n",
    "class Vehicle:\n",
    "    def __init__(self, name, year):\n",
    "        self.name = name\n",
    "        self.year = year\n",
    "\n",
    "class Car(Vehicle):\n",
    "    def __init__(self, name, year, model):\n",
    "        super().__init__(name, year)\n",
    "        self.model = model\n",
    "        \n",
    "#2.Multiple inheritance: A child class inherits from two or more parent classes.\n",
    "#Example:\n",
    "class Shape:\n",
    "    def __init__(self, color):\n",
    "        self.color = color\n",
    "\n",
    "class Rectangle(Shape):\n",
    "    def __init__(self, width, height, color):\n",
    "        super().__init__(color)\n",
    "        self.width = width\n",
    "        self.height = height\n",
    "\n",
    "class Square(Shape):\n",
    "    def __init__(self, side, color):\n",
    "        super().__init__(color)\n",
    "        self.side = side\n",
    "\n",
    "class SquareRectangle(Rectangle, Square):\n",
    "    def __init__(self, width, height, side, color):\n",
    "        Rectangle.__init__(self, width, height, color)\n",
    "        Square.__init__(self, side, color)\n",
    "\n",
    "        \n",
    "#3.Multilevel inheritance: A child class inherits from a parent class, which in turn, inherits from another parent class.\n",
    "#Example:\n",
    "class Animal:\n",
    "    def __init__(self, name):\n",
    "        self.name = name\n",
    "\n",
    "class Mammal(Animal):\n",
    "    def __init__(self, name, legs):\n",
    "        super().__init__(name)\n",
    "        self.legs = legs\n",
    "\n",
    "class Dog(Mammal):\n",
    "    def __init__(self, name, legs, breed):\n",
    "        super().__init__(name, legs)\n",
    "        self.breed = breed\n",
    "\n",
    "#4.Hierarchical inheritance: Multiple child classes inherit from a single parent class.\n",
    "#Example:\n",
    "class Animal:\n",
    "    def __init__(self, name):\n",
    "        self.name = name\n",
    "\n",
    "class Dog(Animal):\n",
    "    def __init__(self, name, breed):\n",
    "        super().__init__(name)\n",
    "        self.breed = breed\n",
    "\n",
    "class Cat(Animal):\n",
    "    def __init__(self, name, color):\n",
    "        super().__init__(name)\n",
    "        self.color = color\n"
   ]
  },
  {
   "cell_type": "code",
   "execution_count": null,
   "id": "119717e2-ae0c-4a62-9a7c-f441719d3c1e",
   "metadata": {},
   "outputs": [],
   "source": []
  }
 ],
 "metadata": {
  "kernelspec": {
   "display_name": "Python 3 (ipykernel)",
   "language": "python",
   "name": "python3"
  },
  "language_info": {
   "codemirror_mode": {
    "name": "ipython",
    "version": 3
   },
   "file_extension": ".py",
   "mimetype": "text/x-python",
   "name": "python",
   "nbconvert_exporter": "python",
   "pygments_lexer": "ipython3",
   "version": "3.10.8"
  }
 },
 "nbformat": 4,
 "nbformat_minor": 5
}
