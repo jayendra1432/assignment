{
 "cells": [
  {
   "cell_type": "code",
   "execution_count": 4,
   "id": "511d6cfb-9430-4165-9919-d36d01732e8a",
   "metadata": {},
   "outputs": [
    {
     "name": "stdout",
     "output_type": "stream",
     "text": [
      "for loop 1\n",
      "for loop 2\n",
      "for loop 3\n",
      "for loop 4\n",
      "for loop 5\n",
      "for loop 6\n",
      "for loop 7\n",
      "while loop 1\n",
      "while loop 2\n",
      "while loop 3\n",
      "while loop 4\n",
      "while loop 5\n",
      "while loop 6\n",
      "while loop 7\n"
     ]
    }
   ],
   "source": [
    "#Q1.  Explain with an example each when to use a for loop and a while loop\n",
    " \n",
    "#1. for loop :- A for loop is used when the number of iterations is known in advance or when we want to iterate over a sequence (list, tuple, dictionary, etc.). \n",
    "    \n",
    "    #Example for \"for loop\":-\n",
    "    \n",
    "l = [1,2,3,4,5,6,7]\n",
    "for i in l:\n",
    "    print(\"for loop\",i)\n",
    "\n",
    "    \n",
    "    \n",
    "#2. while:- A while loop, on the other hand, is used when we want to repeat a block of code as long as a certain condition is true. \n",
    "\n",
    "   #Example for \"while loop\":-\n",
    "    \n",
    "R = 1\n",
    "while R <= 7:\n",
    "    print(\"while loop\",R)\n",
    "    R += 1"
   ]
  },
  {
   "cell_type": "code",
   "execution_count": null,
   "id": "1399e188-8fa9-4905-9b91-989f0f31dae4",
   "metadata": {},
   "outputs": [],
   "source": [
    "#Q2.  Write a python program to print the sum and product of the first 10 natural numbers using for and while loop.\n",
    "\n",
    "#Using for loop for first 10 natural numbers sum and product.\n",
    "\n",
    "sum = 0\n",
    "product = 1\n",
    "\n",
    "for i in range(1,11):\n",
    "    sum += i\n",
    "    product *= i\n",
    "    print(\"by loop\",sum,\",\",product)\n",
    "    \n",
    "#Using while loop for first 10 natural numbers sum and product.\n",
    "\n",
    "\n",
    "sum = 0\n",
    "product = 1\n",
    "i = 1\n",
    "while i <= 10:\n",
    "    sum += i\n",
    "    product *= i\n",
    "    i += 1\n",
    "    print(\"by while loop\",sum,\",\",product)\n",
    "    \n",
    "    \n",
    "#Both of these programs produce the same output"
   ]
  },
  {
   "cell_type": "code",
   "execution_count": 16,
   "id": "ee316419-a563-468d-9711-d9e8f0b81fee",
   "metadata": {},
   "outputs": [
    {
     "name": "stdin",
     "output_type": "stream",
     "text": [
      "enter your bill units of electricity users consumed in a month 310\n"
     ]
    },
    {
     "name": "stdout",
     "output_type": "stream",
     "text": [
      "Total charges of your electricity bill is Rs. 2250.0\n"
     ]
    }
   ],
   "source": [
    "#Q3. Create a python program to compute the electricity bill for a household.\n",
    "#The per-unit charges in rupees are as follows: For the first 100 units, the user will be charged Rs. 4.5 perunit, for the next 100 units, the user will be charged Rs. 6 per unit, and for the next 100 units, the user willbe charged Rs. 10 per unit, After 300 units and above the user will be charged Rs. 20 per unit.You are required to take the units of electricity consumed in a month from the user as input.\n",
    "\n",
    "\n",
    "unit = int(input(\"enter your bill units of electricity users consumed in a month\"))\n",
    "if unit <=100 :\n",
    "    bill = unit*4.5\n",
    "    print(\"Total charges of your electricity bill is\",\"Rs.\",bill)\n",
    "elif unit <=200 and unit > 100 :\n",
    "    bill = ((unit-100)*6) + 100*4.5\n",
    "    print(\"Total charges of your electricity bill is\",\"Rs.\",bill)\n",
    "elif unit <= 300 and unit > 200 :\n",
    "    bill = ((unit-200)*10) + 100*4.5 + 100*6\n",
    "    print(\"Total charges of your electricity bill is\",\"Rs.\",bill)\n",
    "else :\n",
    "    bill = ((unit-300)*20) + 100*4.5 + 100*6 + 100*10\n",
    "    print(\"Total charges of your electricity bill is\",\"Rs.\",bill)"
   ]
  },
  {
   "cell_type": "code",
   "execution_count": 14,
   "id": "6f23f352-df8b-47cf-838d-4eeccd3939a6",
   "metadata": {},
   "outputs": [
    {
     "name": "stdout",
     "output_type": "stream",
     "text": [
      "Numbers whose cube is divisible by 4 or 5:  [2, 4, 5, 6, 8, 10, 12, 14, 15, 16, 18, 20, 22, 24, 25, 26, 28, 30, 32, 34, 35, 36, 38, 40, 42, 44, 45, 46, 48, 50, 52, 54, 55, 56, 58, 60, 62, 64, 65, 66, 68, 70, 72, 74, 75, 76, 78, 80, 82, 84, 85, 86, 88, 90, 92, 94, 95, 96, 98, 100]\n",
      "Numbers whose cube is divisible by 4 or 5:  [2, 4, 5, 6, 8, 10, 12, 14, 15, 16, 18, 20, 22, 24, 25, 26, 28, 30, 32, 34, 35, 36, 38, 40, 42, 44, 45, 46, 48, 50, 52, 54, 55, 56, 58, 60, 62, 64, 65, 66, 68, 70, 72, 74, 75, 76, 78, 80, 82, 84, 85, 86, 88, 90, 92, 94, 95, 96, 98, 100]\n"
     ]
    }
   ],
   "source": [
    "#Q4. Create a list of numbers from 1 to 100. Use for loop and while loop to calculate the cube of each number and if the cube of that number is divisible by 4 or 5 then append that number in a list and print that list.\n",
    "\n",
    "\n",
    "\n",
    "#using for loop for calculation \n",
    "numbers = list(range(1,101))\n",
    "result = []\n",
    "\n",
    "\n",
    "for i in numbers :\n",
    "    cube = i ** 3\n",
    "    if cube % 4 ==0  or cube % 5 == 0:\n",
    "        result.append(i)\n",
    "print(\"Numbers whose cube is divisible by 4 or 5: \",result)\n",
    "\n",
    "\n",
    "#using while loop for calculation\n",
    "numbers = list(range(1,101))\n",
    "result = []\n",
    "i = 0\n",
    "while i < len(numbers):\n",
    "    cube = numbers[i]**3\n",
    "    if cube % 4 == 0 or cube % 5 == 0:\n",
    "        result.append(numbers[i])\n",
    "    i += 1\n",
    "print(\"Numbers whose cube is divisible by 4 or 5: \",result)\n",
    "    \n",
    "    #Both of these programs produce the same output"
   ]
  },
  {
   "cell_type": "code",
   "execution_count": 19,
   "id": "97cf56c2-c515-45bd-9881-cd39b237a730",
   "metadata": {},
   "outputs": [
    {
     "name": "stdout",
     "output_type": "stream",
     "text": [
      "numbers of vowels in string 12\n"
     ]
    }
   ],
   "source": [
    "#Q5 #Write a program to filter count vowels in the below-given string.\n",
    "\n",
    "string = \"I want to become a data scientist\"\n",
    "vowels = \"AEIOUaeiou\"\n",
    "count = 0\n",
    "\n",
    "for i in string:\n",
    "    if i in vowels:\n",
    "        count += 1\n",
    "print(\"numbers of vowels in string\",count)\n",
    "    \n"
   ]
  }
 ],
 "metadata": {
  "kernelspec": {
   "display_name": "Python 3 (ipykernel)",
   "language": "python",
   "name": "python3"
  },
  "language_info": {
   "codemirror_mode": {
    "name": "ipython",
    "version": 3
   },
   "file_extension": ".py",
   "mimetype": "text/x-python",
   "name": "python",
   "nbconvert_exporter": "python",
   "pygments_lexer": "ipython3",
   "version": "3.10.8"
  }
 },
 "nbformat": 4,
 "nbformat_minor": 5
}
